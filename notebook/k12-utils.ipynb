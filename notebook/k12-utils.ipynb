{
 "cells": [
  {
   "cell_type": "code",
   "execution_count": 1,
   "id": "3c1792f2",
   "metadata": {
    "execution": {
     "iopub.execute_input": "2023-02-06T09:25:13.435377Z",
     "iopub.status.busy": "2023-02-06T09:25:13.434882Z",
     "iopub.status.idle": "2023-02-06T09:25:14.557949Z",
     "shell.execute_reply": "2023-02-06T09:25:14.556729Z"
    },
    "papermill": {
     "duration": 1.133412,
     "end_time": "2023-02-06T09:25:14.561102",
     "exception": false,
     "start_time": "2023-02-06T09:25:13.427690",
     "status": "completed"
    },
    "tags": []
   },
   "outputs": [],
   "source": [
    "import pandas as pd\n",
    "import os\n",
    "\n",
    "from tqdm import tqdm\n",
    "from sklearn.model_selection import StratifiedGroupKFold\n",
    "\n",
    "pd.set_option('display.max_rows', 100)"
   ]
  },
  {
   "cell_type": "code",
   "execution_count": 2,
   "id": "4b62d23d",
   "metadata": {
    "execution": {
     "iopub.execute_input": "2023-02-06T09:25:14.571836Z",
     "iopub.status.busy": "2023-02-06T09:25:14.571398Z",
     "iopub.status.idle": "2023-02-06T09:25:14.577861Z",
     "shell.execute_reply": "2023-02-06T09:25:14.576552Z"
    },
    "papermill": {
     "duration": 0.015403,
     "end_time": "2023-02-06T09:25:14.581164",
     "exception": false,
     "start_time": "2023-02-06T09:25:14.565761",
     "status": "completed"
    },
    "tags": []
   },
   "outputs": [],
   "source": [
    "class CFG:\n",
    "    input_dir = '/kaggle/input/learning-equality-curriculum-recommendations'\n",
    "    content_dir = os.path.join(input_dir, 'content.csv')\n",
    "    correlations_dir = os.path.join(input_dir, 'correlations.csv')\n",
    "    submission_dir = os.path.join(input_dir, 'sample_submission.csv')\n",
    "    topic_dir = os.path.join(input_dir, 'topics.csv')"
   ]
  },
  {
   "cell_type": "code",
   "execution_count": 3,
   "id": "5cf9ab3b",
   "metadata": {
    "execution": {
     "iopub.execute_input": "2023-02-06T09:25:14.591846Z",
     "iopub.status.busy": "2023-02-06T09:25:14.591426Z",
     "iopub.status.idle": "2023-02-06T09:25:39.717467Z",
     "shell.execute_reply": "2023-02-06T09:25:39.716238Z"
    },
    "papermill": {
     "duration": 25.134939,
     "end_time": "2023-02-06T09:25:39.720447",
     "exception": false,
     "start_time": "2023-02-06T09:25:14.585508",
     "status": "completed"
    },
    "tags": []
   },
   "outputs": [],
   "source": [
    "df_content = pd.read_csv(CFG.content_dir)\n",
    "df_corr = pd.read_csv(CFG.correlations_dir)\n",
    "df_sub = pd.read_csv(CFG.submission_dir)\n",
    "df_topic = pd.read_csv(CFG.topic_dir)"
   ]
  },
  {
   "cell_type": "code",
   "execution_count": 4,
   "id": "852225d7",
   "metadata": {
    "execution": {
     "iopub.execute_input": "2023-02-06T09:25:39.731071Z",
     "iopub.status.busy": "2023-02-06T09:25:39.730645Z",
     "iopub.status.idle": "2023-02-06T09:25:39.750653Z",
     "shell.execute_reply": "2023-02-06T09:25:39.749153Z"
    },
    "papermill": {
     "duration": 0.029035,
     "end_time": "2023-02-06T09:25:39.753932",
     "exception": false,
     "start_time": "2023-02-06T09:25:39.724897",
     "status": "completed"
    },
    "tags": []
   },
   "outputs": [
    {
     "data": {
      "text/plain": [
       "True     61517\n",
       "False    15455\n",
       "Name: has_content, dtype: int64"
      ]
     },
     "execution_count": 4,
     "metadata": {},
     "output_type": "execute_result"
    }
   ],
   "source": [
    "df_topic['has_content'].value_counts()"
   ]
  },
  {
   "cell_type": "markdown",
   "id": "46a8adc7",
   "metadata": {
    "papermill": {
     "duration": 0.004809,
     "end_time": "2023-02-06T09:25:39.763460",
     "exception": false,
     "start_time": "2023-02-06T09:25:39.758651",
     "status": "completed"
    },
    "tags": []
   },
   "source": [
    "## 为叶子topic抽取先前节点的特征\n",
    "仅包含has_content=True的特征"
   ]
  },
  {
   "cell_type": "code",
   "execution_count": 5,
   "id": "85a985cc",
   "metadata": {
    "execution": {
     "iopub.execute_input": "2023-02-06T09:25:39.774183Z",
     "iopub.status.busy": "2023-02-06T09:25:39.773735Z",
     "iopub.status.idle": "2023-02-06T09:25:39.785508Z",
     "shell.execute_reply": "2023-02-06T09:25:39.784580Z"
    },
    "papermill": {
     "duration": 0.019906,
     "end_time": "2023-02-06T09:25:39.787911",
     "exception": false,
     "start_time": "2023-02-06T09:25:39.768005",
     "status": "completed"
    },
    "tags": []
   },
   "outputs": [],
   "source": [
    "# function to extract the level features for each leaf topic\n",
    "def get_level_features(df_topic, level_cols=['title']):\n",
    "    df_hier = df_topic[set(level_cols + ['id', 'parent', 'level', 'has_content'])]\n",
    "    highest_level = df_hier['level'].max()\n",
    "    print(f'Highest Level: {highest_level}')\n",
    "    \n",
    "    df_level = df_hier.query('level == 0').copy(deep=True)\n",
    "    level_list = list()\n",
    "    for col in level_cols:\n",
    "        df_level[f'{col}_level'] = df_level[f'{col}'].apply(lambda x: [x])\n",
    "\n",
    "    for i in tqdm(range(highest_level + 1)):\n",
    "        level_list.append(df_level[df_level['has_content']])\n",
    "        df_level_high = df_hier.query('level == @i+1')\n",
    "        df_level = df_level_high.merge(df_level, left_on='parent', right_on='id', suffixes=['', '_parent'], how='inner')\n",
    "        for col in level_cols:\n",
    "            df_level[f'{col}_level'] = df_level[f'{col}_level'] + df_level[f'{col}'].apply(lambda x: [x])\n",
    "        for col in df_level.columns:\n",
    "            if col.endswith('_parent'):\n",
    "                del df_level[col]\n",
    "    df = pd.concat(level_list).reset_index(drop=True)\n",
    "    return df[set(['id'] + [f'{col}_level' for col in level_cols])]"
   ]
  },
  {
   "cell_type": "code",
   "execution_count": 6,
   "id": "54a0a778",
   "metadata": {
    "execution": {
     "iopub.execute_input": "2023-02-06T09:25:39.798518Z",
     "iopub.status.busy": "2023-02-06T09:25:39.798097Z",
     "iopub.status.idle": "2023-02-06T09:25:41.814643Z",
     "shell.execute_reply": "2023-02-06T09:25:41.813485Z"
    },
    "papermill": {
     "duration": 2.025042,
     "end_time": "2023-02-06T09:25:41.817263",
     "exception": false,
     "start_time": "2023-02-06T09:25:39.792221",
     "status": "completed"
    },
    "tags": []
   },
   "outputs": [
    {
     "name": "stdout",
     "output_type": "stream",
     "text": [
      "Highest Level: 10\n"
     ]
    },
    {
     "name": "stderr",
     "output_type": "stream",
     "text": [
      "100%|██████████| 11/11 [00:01<00:00,  6.25it/s]\n"
     ]
    },
    {
     "data": {
      "text/html": [
       "<div>\n",
       "<style scoped>\n",
       "    .dataframe tbody tr th:only-of-type {\n",
       "        vertical-align: middle;\n",
       "    }\n",
       "\n",
       "    .dataframe tbody tr th {\n",
       "        vertical-align: top;\n",
       "    }\n",
       "\n",
       "    .dataframe thead th {\n",
       "        text-align: right;\n",
       "    }\n",
       "</style>\n",
       "<table border=\"1\" class=\"dataframe\">\n",
       "  <thead>\n",
       "    <tr style=\"text-align: right;\">\n",
       "      <th></th>\n",
       "      <th>id</th>\n",
       "      <th>has_content_level</th>\n",
       "      <th>title_level</th>\n",
       "      <th>description_level</th>\n",
       "      <th>id_level</th>\n",
       "      <th>language_level</th>\n",
       "      <th>level_level</th>\n",
       "    </tr>\n",
       "  </thead>\n",
       "  <tbody>\n",
       "    <tr>\n",
       "      <th>0</th>\n",
       "      <td>t_10035396d740</td>\n",
       "      <td>[True]</td>\n",
       "      <td>[قناة كم كلمة لتمكين المعلّمين الناطقين باللغة...</td>\n",
       "      <td>[]</td>\n",
       "      <td>[t_10035396d740]</td>\n",
       "      <td>[ar]</td>\n",
       "      <td>[0]</td>\n",
       "    </tr>\n",
       "    <tr>\n",
       "      <th>1</th>\n",
       "      <td>t_30dd476279c8</td>\n",
       "      <td>[True]</td>\n",
       "      <td>[Medicine]</td>\n",
       "      <td>[]</td>\n",
       "      <td>[t_30dd476279c8]</td>\n",
       "      <td>[en]</td>\n",
       "      <td>[0]</td>\n",
       "    </tr>\n",
       "    <tr>\n",
       "      <th>2</th>\n",
       "      <td>t_3efcae0132f0</td>\n",
       "      <td>[True]</td>\n",
       "      <td>[وزارة التربية والتعليم الأردنية]</td>\n",
       "      <td>[]</td>\n",
       "      <td>[t_3efcae0132f0]</td>\n",
       "      <td>[ar]</td>\n",
       "      <td>[0]</td>\n",
       "    </tr>\n",
       "    <tr>\n",
       "      <th>3</th>\n",
       "      <td>t_470986f56fbe</td>\n",
       "      <td>[True]</td>\n",
       "      <td>[Khan Academy - Standardized Test Preparation]</td>\n",
       "      <td>[]</td>\n",
       "      <td>[t_470986f56fbe]</td>\n",
       "      <td>[en]</td>\n",
       "      <td>[0]</td>\n",
       "    </tr>\n",
       "    <tr>\n",
       "      <th>4</th>\n",
       "      <td>t_72d1321023d9</td>\n",
       "      <td>[True]</td>\n",
       "      <td>[Matemáticas Quinto Grado (Guatemala)]</td>\n",
       "      <td>[]</td>\n",
       "      <td>[t_72d1321023d9]</td>\n",
       "      <td>[es]</td>\n",
       "      <td>[0]</td>\n",
       "    </tr>\n",
       "    <tr>\n",
       "      <th>...</th>\n",
       "      <td>...</td>\n",
       "      <td>...</td>\n",
       "      <td>...</td>\n",
       "      <td>...</td>\n",
       "      <td>...</td>\n",
       "      <td>...</td>\n",
       "      <td>...</td>\n",
       "    </tr>\n",
       "    <tr>\n",
       "      <th>61512</th>\n",
       "      <td>t_ed58066fa353</td>\n",
       "      <td>[False, False, True, False, True, True, True, ...</td>\n",
       "      <td>[Ganar - Habilidades para el Trabajo, Laborato...</td>\n",
       "      <td>[, , , , , , , , , ]</td>\n",
       "      <td>[t_44623019938d, t_0d57669638bd, t_4cc29e19e15...</td>\n",
       "      <td>[es, es, es, es, es, es, es, es, es, es]</td>\n",
       "      <td>[0, 1, 2, 3, 4, 5, 6, 7, 8, 9]</td>\n",
       "    </tr>\n",
       "    <tr>\n",
       "      <th>61513</th>\n",
       "      <td>t_d7e92d224506</td>\n",
       "      <td>[False, False, True, False, True, True, True, ...</td>\n",
       "      <td>[Ganar - Habilidades para el Trabajo, Laborato...</td>\n",
       "      <td>[, , , , , , , , , ]</td>\n",
       "      <td>[t_44623019938d, t_0d57669638bd, t_4cc29e19e15...</td>\n",
       "      <td>[es, es, es, es, es, es, es, es, es, es]</td>\n",
       "      <td>[0, 1, 2, 3, 4, 5, 6, 7, 8, 9]</td>\n",
       "    </tr>\n",
       "    <tr>\n",
       "      <th>61514</th>\n",
       "      <td>t_f60d6940436e</td>\n",
       "      <td>[False, False, True, False, True, False, True,...</td>\n",
       "      <td>[Ganar - Habilidades para el Trabajo, Laborato...</td>\n",
       "      <td>[, , , , , , , , , ]</td>\n",
       "      <td>[t_44623019938d, t_0d57669638bd, t_4cc29e19e15...</td>\n",
       "      <td>[es, es, es, es, es, es, es, es, es, es]</td>\n",
       "      <td>[0, 1, 2, 3, 4, 5, 6, 7, 8, 9]</td>\n",
       "    </tr>\n",
       "    <tr>\n",
       "      <th>61515</th>\n",
       "      <td>t_2cb874d9bfed</td>\n",
       "      <td>[False, False, True, False, True, True, True, ...</td>\n",
       "      <td>[Ganar - Habilidades para el Trabajo, Laborato...</td>\n",
       "      <td>[, , , , , , , , , , ]</td>\n",
       "      <td>[t_44623019938d, t_0d57669638bd, t_4cc29e19e15...</td>\n",
       "      <td>[es, es, es, es, es, es, es, es, es, es, es]</td>\n",
       "      <td>[0, 1, 2, 3, 4, 5, 6, 7, 8, 9, 10]</td>\n",
       "    </tr>\n",
       "    <tr>\n",
       "      <th>61516</th>\n",
       "      <td>t_b245cd8697dd</td>\n",
       "      <td>[False, False, True, False, True, True, True, ...</td>\n",
       "      <td>[Ganar - Habilidades para el Trabajo, Laborato...</td>\n",
       "      <td>[, , , , , , , , , , ]</td>\n",
       "      <td>[t_44623019938d, t_0d57669638bd, t_4cc29e19e15...</td>\n",
       "      <td>[es, es, es, es, es, es, es, es, es, es, es]</td>\n",
       "      <td>[0, 1, 2, 3, 4, 5, 6, 7, 8, 9, 10]</td>\n",
       "    </tr>\n",
       "  </tbody>\n",
       "</table>\n",
       "<p>61517 rows × 7 columns</p>\n",
       "</div>"
      ],
      "text/plain": [
       "                   id                                  has_content_level  \\\n",
       "0      t_10035396d740                                             [True]   \n",
       "1      t_30dd476279c8                                             [True]   \n",
       "2      t_3efcae0132f0                                             [True]   \n",
       "3      t_470986f56fbe                                             [True]   \n",
       "4      t_72d1321023d9                                             [True]   \n",
       "...               ...                                                ...   \n",
       "61512  t_ed58066fa353  [False, False, True, False, True, True, True, ...   \n",
       "61513  t_d7e92d224506  [False, False, True, False, True, True, True, ...   \n",
       "61514  t_f60d6940436e  [False, False, True, False, True, False, True,...   \n",
       "61515  t_2cb874d9bfed  [False, False, True, False, True, True, True, ...   \n",
       "61516  t_b245cd8697dd  [False, False, True, False, True, True, True, ...   \n",
       "\n",
       "                                             title_level  \\\n",
       "0      [قناة كم كلمة لتمكين المعلّمين الناطقين باللغة...   \n",
       "1                                             [Medicine]   \n",
       "2                      [وزارة التربية والتعليم الأردنية]   \n",
       "3         [Khan Academy - Standardized Test Preparation]   \n",
       "4                 [Matemáticas Quinto Grado (Guatemala)]   \n",
       "...                                                  ...   \n",
       "61512  [Ganar - Habilidades para el Trabajo, Laborato...   \n",
       "61513  [Ganar - Habilidades para el Trabajo, Laborato...   \n",
       "61514  [Ganar - Habilidades para el Trabajo, Laborato...   \n",
       "61515  [Ganar - Habilidades para el Trabajo, Laborato...   \n",
       "61516  [Ganar - Habilidades para el Trabajo, Laborato...   \n",
       "\n",
       "            description_level  \\\n",
       "0                          []   \n",
       "1                          []   \n",
       "2                          []   \n",
       "3                          []   \n",
       "4                          []   \n",
       "...                       ...   \n",
       "61512    [, , , , , , , , , ]   \n",
       "61513    [, , , , , , , , , ]   \n",
       "61514    [, , , , , , , , , ]   \n",
       "61515  [, , , , , , , , , , ]   \n",
       "61516  [, , , , , , , , , , ]   \n",
       "\n",
       "                                                id_level  \\\n",
       "0                                       [t_10035396d740]   \n",
       "1                                       [t_30dd476279c8]   \n",
       "2                                       [t_3efcae0132f0]   \n",
       "3                                       [t_470986f56fbe]   \n",
       "4                                       [t_72d1321023d9]   \n",
       "...                                                  ...   \n",
       "61512  [t_44623019938d, t_0d57669638bd, t_4cc29e19e15...   \n",
       "61513  [t_44623019938d, t_0d57669638bd, t_4cc29e19e15...   \n",
       "61514  [t_44623019938d, t_0d57669638bd, t_4cc29e19e15...   \n",
       "61515  [t_44623019938d, t_0d57669638bd, t_4cc29e19e15...   \n",
       "61516  [t_44623019938d, t_0d57669638bd, t_4cc29e19e15...   \n",
       "\n",
       "                                     language_level  \\\n",
       "0                                              [ar]   \n",
       "1                                              [en]   \n",
       "2                                              [ar]   \n",
       "3                                              [en]   \n",
       "4                                              [es]   \n",
       "...                                             ...   \n",
       "61512      [es, es, es, es, es, es, es, es, es, es]   \n",
       "61513      [es, es, es, es, es, es, es, es, es, es]   \n",
       "61514      [es, es, es, es, es, es, es, es, es, es]   \n",
       "61515  [es, es, es, es, es, es, es, es, es, es, es]   \n",
       "61516  [es, es, es, es, es, es, es, es, es, es, es]   \n",
       "\n",
       "                              level_level  \n",
       "0                                     [0]  \n",
       "1                                     [0]  \n",
       "2                                     [0]  \n",
       "3                                     [0]  \n",
       "4                                     [0]  \n",
       "...                                   ...  \n",
       "61512      [0, 1, 2, 3, 4, 5, 6, 7, 8, 9]  \n",
       "61513      [0, 1, 2, 3, 4, 5, 6, 7, 8, 9]  \n",
       "61514      [0, 1, 2, 3, 4, 5, 6, 7, 8, 9]  \n",
       "61515  [0, 1, 2, 3, 4, 5, 6, 7, 8, 9, 10]  \n",
       "61516  [0, 1, 2, 3, 4, 5, 6, 7, 8, 9, 10]  \n",
       "\n",
       "[61517 rows x 7 columns]"
      ]
     },
     "execution_count": 6,
     "metadata": {},
     "output_type": "execute_result"
    }
   ],
   "source": [
    "level_cols = ['id', 'title', 'description', 'level', 'language', 'has_content']\n",
    "df_level = get_level_features(df_topic.fillna(''), level_cols)\n",
    "df_level"
   ]
  },
  {
   "cell_type": "markdown",
   "id": "feb716a0",
   "metadata": {
    "papermill": {
     "duration": 0.005044,
     "end_time": "2023-02-06T09:25:41.828256",
     "exception": false,
     "start_time": "2023-02-06T09:25:41.823212",
     "status": "completed"
    },
    "tags": []
   },
   "source": [
    "## TODOs"
   ]
  },
  {
   "cell_type": "markdown",
   "id": "8d27015a",
   "metadata": {
    "papermill": {
     "duration": 0.005437,
     "end_time": "2023-02-06T09:25:41.839019",
     "exception": false,
     "start_time": "2023-02-06T09:25:41.833582",
     "status": "completed"
    },
    "tags": []
   },
   "source": [
    "### Train Valid Split\n",
    "1. 同一个channel的category唯一\n",
    "2. 不同语言的字数统计方式不同，按字长分可能对部分语言不友好\n",
    "3. 合适的candidate feature for split有channel category language[???]\n",
    "4. test set中的channel会出现训练集中有过的channel + 全新的channel\n",
    "5. test set中的category只有aligned和supplemental，没有source\n",
    "6. 将train set和valid set中的content分很开可能没用，因为测试环境中的content是训练集content的超集"
   ]
  },
  {
   "cell_type": "markdown",
   "id": "4cf809cd",
   "metadata": {
    "papermill": {
     "duration": 0.004915,
     "end_time": "2023-02-06T09:25:41.849360",
     "exception": false,
     "start_time": "2023-02-06T09:25:41.844445",
     "status": "completed"
    },
    "tags": []
   },
   "source": [
    "category为source的topic不会在test set中出现"
   ]
  },
  {
   "cell_type": "code",
   "execution_count": 7,
   "id": "87efe669",
   "metadata": {
    "execution": {
     "iopub.execute_input": "2023-02-06T09:25:41.862648Z",
     "iopub.status.busy": "2023-02-06T09:25:41.862209Z",
     "iopub.status.idle": "2023-02-06T09:25:41.891599Z",
     "shell.execute_reply": "2023-02-06T09:25:41.890261Z"
    },
    "papermill": {
     "duration": 0.039057,
     "end_time": "2023-02-06T09:25:41.894097",
     "exception": false,
     "start_time": "2023-02-06T09:25:41.855040",
     "status": "completed"
    },
    "tags": []
   },
   "outputs": [
    {
     "data": {
      "text/html": [
       "<div>\n",
       "<style scoped>\n",
       "    .dataframe tbody tr th:only-of-type {\n",
       "        vertical-align: middle;\n",
       "    }\n",
       "\n",
       "    .dataframe tbody tr th {\n",
       "        vertical-align: top;\n",
       "    }\n",
       "\n",
       "    .dataframe thead th {\n",
       "        text-align: right;\n",
       "    }\n",
       "</style>\n",
       "<table border=\"1\" class=\"dataframe\">\n",
       "  <thead>\n",
       "    <tr style=\"text-align: right;\">\n",
       "      <th></th>\n",
       "      <th>id</th>\n",
       "      <th>title</th>\n",
       "      <th>description</th>\n",
       "      <th>channel</th>\n",
       "      <th>category</th>\n",
       "      <th>level</th>\n",
       "      <th>language</th>\n",
       "      <th>parent</th>\n",
       "      <th>has_content</th>\n",
       "    </tr>\n",
       "  </thead>\n",
       "  <tbody>\n",
       "    <tr>\n",
       "      <th>1</th>\n",
       "      <td>t_000095e03056</td>\n",
       "      <td>Unit 3.3 Enlargements and Similarities</td>\n",
       "      <td>NaN</td>\n",
       "      <td>b3f329</td>\n",
       "      <td>aligned</td>\n",
       "      <td>2</td>\n",
       "      <td>en</td>\n",
       "      <td>t_aa32fb6252dc</td>\n",
       "      <td>False</td>\n",
       "    </tr>\n",
       "    <tr>\n",
       "      <th>5</th>\n",
       "      <td>t_0008768bdee6</td>\n",
       "      <td>100 સુધીનો સરવાળો</td>\n",
       "      <td>37 અને 49 જેવી બે-અંકની સંખ્યાઓ ઉમેરતા શીખો.</td>\n",
       "      <td>5223e0</td>\n",
       "      <td>supplemental</td>\n",
       "      <td>4</td>\n",
       "      <td>gu</td>\n",
       "      <td>t_0da7a331d666</td>\n",
       "      <td>True</td>\n",
       "    </tr>\n",
       "    <tr>\n",
       "      <th>6</th>\n",
       "      <td>t_0008a1bd84ba</td>\n",
       "      <td>12. 20: Bird Reproduction</td>\n",
       "      <td>NaN</td>\n",
       "      <td>ebc86c</td>\n",
       "      <td>supplemental</td>\n",
       "      <td>5</td>\n",
       "      <td>en</td>\n",
       "      <td>t_c44ac9711007</td>\n",
       "      <td>True</td>\n",
       "    </tr>\n",
       "    <tr>\n",
       "      <th>8</th>\n",
       "      <td>t_000d1fb3f2f5</td>\n",
       "      <td>2.1.2 - Logarithms</td>\n",
       "      <td>NaN</td>\n",
       "      <td>e77b55</td>\n",
       "      <td>aligned</td>\n",
       "      <td>5</td>\n",
       "      <td>en</td>\n",
       "      <td>t_b897d168db90</td>\n",
       "      <td>True</td>\n",
       "    </tr>\n",
       "    <tr>\n",
       "      <th>10</th>\n",
       "      <td>t_00102869fbcb</td>\n",
       "      <td>Triangles and polygons</td>\n",
       "      <td>Learning outcomes: students must be able to so...</td>\n",
       "      <td>a91e32</td>\n",
       "      <td>aligned</td>\n",
       "      <td>3</td>\n",
       "      <td>en</td>\n",
       "      <td>t_039cecc12bb8</td>\n",
       "      <td>True</td>\n",
       "    </tr>\n",
       "  </tbody>\n",
       "</table>\n",
       "</div>"
      ],
      "text/plain": [
       "                id                                   title  \\\n",
       "1   t_000095e03056  Unit 3.3 Enlargements and Similarities   \n",
       "5   t_0008768bdee6                       100 સુધીનો સરવાળો   \n",
       "6   t_0008a1bd84ba               12. 20: Bird Reproduction   \n",
       "8   t_000d1fb3f2f5                      2.1.2 - Logarithms   \n",
       "10  t_00102869fbcb                  Triangles and polygons   \n",
       "\n",
       "                                          description channel      category  \\\n",
       "1                                                 NaN  b3f329       aligned   \n",
       "5        37 અને 49 જેવી બે-અંકની સંખ્યાઓ ઉમેરતા શીખો.  5223e0  supplemental   \n",
       "6                                                 NaN  ebc86c  supplemental   \n",
       "8                                                 NaN  e77b55       aligned   \n",
       "10  Learning outcomes: students must be able to so...  a91e32       aligned   \n",
       "\n",
       "    level language          parent  has_content  \n",
       "1       2       en  t_aa32fb6252dc        False  \n",
       "5       4       gu  t_0da7a331d666         True  \n",
       "6       5       en  t_c44ac9711007         True  \n",
       "8       5       en  t_b897d168db90         True  \n",
       "10      3       en  t_039cecc12bb8         True  "
      ]
     },
     "execution_count": 7,
     "metadata": {},
     "output_type": "execute_result"
    }
   ],
   "source": [
    "# Exclude source category since they won't appear in test set\n",
    "df_valid_candidate = df_topic[df_topic['category']!='source']\n",
    "df_valid_candidate.head()"
   ]
  },
  {
   "cell_type": "code",
   "execution_count": 8,
   "id": "b12c4f38",
   "metadata": {
    "execution": {
     "iopub.execute_input": "2023-02-06T09:25:41.907231Z",
     "iopub.status.busy": "2023-02-06T09:25:41.906842Z",
     "iopub.status.idle": "2023-02-06T09:25:41.929856Z",
     "shell.execute_reply": "2023-02-06T09:25:41.928454Z"
    },
    "papermill": {
     "duration": 0.032588,
     "end_time": "2023-02-06T09:25:41.932530",
     "exception": false,
     "start_time": "2023-02-06T09:25:41.899942",
     "status": "completed"
    },
    "tags": []
   },
   "outputs": [
    {
     "data": {
      "text/html": [
       "<div>\n",
       "<style scoped>\n",
       "    .dataframe tbody tr th:only-of-type {\n",
       "        vertical-align: middle;\n",
       "    }\n",
       "\n",
       "    .dataframe tbody tr th {\n",
       "        vertical-align: top;\n",
       "    }\n",
       "\n",
       "    .dataframe thead th {\n",
       "        text-align: right;\n",
       "    }\n",
       "</style>\n",
       "<table border=\"1\" class=\"dataframe\">\n",
       "  <thead>\n",
       "    <tr style=\"text-align: right;\">\n",
       "      <th></th>\n",
       "      <th>id</th>\n",
       "      <th>title</th>\n",
       "      <th>description</th>\n",
       "      <th>channel</th>\n",
       "      <th>category</th>\n",
       "      <th>level</th>\n",
       "      <th>language</th>\n",
       "      <th>parent</th>\n",
       "      <th>has_content</th>\n",
       "    </tr>\n",
       "  </thead>\n",
       "  <tbody>\n",
       "    <tr>\n",
       "      <th>1</th>\n",
       "      <td>t_000095e03056</td>\n",
       "      <td>Unit 3.3 Enlargements and Similarities</td>\n",
       "      <td>NaN</td>\n",
       "      <td>b3f329</td>\n",
       "      <td>aligned</td>\n",
       "      <td>2</td>\n",
       "      <td>en</td>\n",
       "      <td>t_aa32fb6252dc</td>\n",
       "      <td>False</td>\n",
       "    </tr>\n",
       "    <tr>\n",
       "      <th>5</th>\n",
       "      <td>t_0008768bdee6</td>\n",
       "      <td>100 સુધીનો સરવાળો</td>\n",
       "      <td>37 અને 49 જેવી બે-અંકની સંખ્યાઓ ઉમેરતા શીખો.</td>\n",
       "      <td>5223e0</td>\n",
       "      <td>supplemental</td>\n",
       "      <td>4</td>\n",
       "      <td>gu</td>\n",
       "      <td>t_0da7a331d666</td>\n",
       "      <td>True</td>\n",
       "    </tr>\n",
       "    <tr>\n",
       "      <th>6</th>\n",
       "      <td>t_0008a1bd84ba</td>\n",
       "      <td>12. 20: Bird Reproduction</td>\n",
       "      <td>NaN</td>\n",
       "      <td>ebc86c</td>\n",
       "      <td>supplemental</td>\n",
       "      <td>5</td>\n",
       "      <td>en</td>\n",
       "      <td>t_c44ac9711007</td>\n",
       "      <td>True</td>\n",
       "    </tr>\n",
       "    <tr>\n",
       "      <th>8</th>\n",
       "      <td>t_000d1fb3f2f5</td>\n",
       "      <td>2.1.2 - Logarithms</td>\n",
       "      <td>NaN</td>\n",
       "      <td>e77b55</td>\n",
       "      <td>aligned</td>\n",
       "      <td>5</td>\n",
       "      <td>en</td>\n",
       "      <td>t_b897d168db90</td>\n",
       "      <td>True</td>\n",
       "    </tr>\n",
       "    <tr>\n",
       "      <th>10</th>\n",
       "      <td>t_00102869fbcb</td>\n",
       "      <td>Triangles and polygons</td>\n",
       "      <td>Learning outcomes: students must be able to so...</td>\n",
       "      <td>a91e32</td>\n",
       "      <td>aligned</td>\n",
       "      <td>3</td>\n",
       "      <td>en</td>\n",
       "      <td>t_039cecc12bb8</td>\n",
       "      <td>True</td>\n",
       "    </tr>\n",
       "    <tr>\n",
       "      <th>...</th>\n",
       "      <td>...</td>\n",
       "      <td>...</td>\n",
       "      <td>...</td>\n",
       "      <td>...</td>\n",
       "      <td>...</td>\n",
       "      <td>...</td>\n",
       "      <td>...</td>\n",
       "      <td>...</td>\n",
       "      <td>...</td>\n",
       "    </tr>\n",
       "    <tr>\n",
       "      <th>76964</th>\n",
       "      <td>t_fff80f4eee89</td>\n",
       "      <td>Polynomial division</td>\n",
       "      <td>After we have added, subtracted, and multiplie...</td>\n",
       "      <td>6b09a4</td>\n",
       "      <td>supplemental</td>\n",
       "      <td>5</td>\n",
       "      <td>en</td>\n",
       "      <td>t_e93f4fad3893</td>\n",
       "      <td>False</td>\n",
       "    </tr>\n",
       "    <tr>\n",
       "      <th>76966</th>\n",
       "      <td>t_fff9e5407d13</td>\n",
       "      <td>NA_U06 - El periódico</td>\n",
       "      <td>NaN</td>\n",
       "      <td>71fd51</td>\n",
       "      <td>supplemental</td>\n",
       "      <td>2</td>\n",
       "      <td>es</td>\n",
       "      <td>t_5bd8f6ae9f7d</td>\n",
       "      <td>True</td>\n",
       "    </tr>\n",
       "    <tr>\n",
       "      <th>76967</th>\n",
       "      <td>t_fffb0bf2801d</td>\n",
       "      <td>4.3 Graph of functions</td>\n",
       "      <td>NaN</td>\n",
       "      <td>e77b55</td>\n",
       "      <td>aligned</td>\n",
       "      <td>4</td>\n",
       "      <td>en</td>\n",
       "      <td>t_676e6a1a4dc7</td>\n",
       "      <td>False</td>\n",
       "    </tr>\n",
       "    <tr>\n",
       "      <th>76969</th>\n",
       "      <td>t_fffe14f1be1e</td>\n",
       "      <td>Lección 7</td>\n",
       "      <td>NaN</td>\n",
       "      <td>6e90a7</td>\n",
       "      <td>aligned</td>\n",
       "      <td>6</td>\n",
       "      <td>es</td>\n",
       "      <td>t_d448c707984d</td>\n",
       "      <td>True</td>\n",
       "    </tr>\n",
       "    <tr>\n",
       "      <th>76971</th>\n",
       "      <td>t_fffe88835149</td>\n",
       "      <td>Formation of shadows and eclipses (umbra and p...</td>\n",
       "      <td>NaN</td>\n",
       "      <td>c7ca13</td>\n",
       "      <td>aligned</td>\n",
       "      <td>4</td>\n",
       "      <td>en</td>\n",
       "      <td>t_988923176459</td>\n",
       "      <td>False</td>\n",
       "    </tr>\n",
       "  </tbody>\n",
       "</table>\n",
       "<p>33485 rows × 9 columns</p>\n",
       "</div>"
      ],
      "text/plain": [
       "                   id                                              title  \\\n",
       "1      t_000095e03056             Unit 3.3 Enlargements and Similarities   \n",
       "5      t_0008768bdee6                                  100 સુધીનો સરવાળો   \n",
       "6      t_0008a1bd84ba                          12. 20: Bird Reproduction   \n",
       "8      t_000d1fb3f2f5                                 2.1.2 - Logarithms   \n",
       "10     t_00102869fbcb                             Triangles and polygons   \n",
       "...               ...                                                ...   \n",
       "76964  t_fff80f4eee89                                Polynomial division   \n",
       "76966  t_fff9e5407d13                              NA_U06 - El periódico   \n",
       "76967  t_fffb0bf2801d                             4.3 Graph of functions   \n",
       "76969  t_fffe14f1be1e                                          Lección 7   \n",
       "76971  t_fffe88835149  Formation of shadows and eclipses (umbra and p...   \n",
       "\n",
       "                                             description channel  \\\n",
       "1                                                    NaN  b3f329   \n",
       "5           37 અને 49 જેવી બે-અંકની સંખ્યાઓ ઉમેરતા શીખો.  5223e0   \n",
       "6                                                    NaN  ebc86c   \n",
       "8                                                    NaN  e77b55   \n",
       "10     Learning outcomes: students must be able to so...  a91e32   \n",
       "...                                                  ...     ...   \n",
       "76964  After we have added, subtracted, and multiplie...  6b09a4   \n",
       "76966                                                NaN  71fd51   \n",
       "76967                                                NaN  e77b55   \n",
       "76969                                                NaN  6e90a7   \n",
       "76971                                                NaN  c7ca13   \n",
       "\n",
       "           category  level language          parent  has_content  \n",
       "1           aligned      2       en  t_aa32fb6252dc        False  \n",
       "5      supplemental      4       gu  t_0da7a331d666         True  \n",
       "6      supplemental      5       en  t_c44ac9711007         True  \n",
       "8           aligned      5       en  t_b897d168db90         True  \n",
       "10          aligned      3       en  t_039cecc12bb8         True  \n",
       "...             ...    ...      ...             ...          ...  \n",
       "76964  supplemental      5       en  t_e93f4fad3893        False  \n",
       "76966  supplemental      2       es  t_5bd8f6ae9f7d         True  \n",
       "76967       aligned      4       en  t_676e6a1a4dc7        False  \n",
       "76969       aligned      6       es  t_d448c707984d         True  \n",
       "76971       aligned      4       en  t_988923176459        False  \n",
       "\n",
       "[33485 rows x 9 columns]"
      ]
     },
     "execution_count": 8,
     "metadata": {},
     "output_type": "execute_result"
    }
   ],
   "source": [
    "df_valid_candidate"
   ]
  },
  {
   "cell_type": "code",
   "execution_count": 9,
   "id": "8e50aced",
   "metadata": {
    "execution": {
     "iopub.execute_input": "2023-02-06T09:25:41.946029Z",
     "iopub.status.busy": "2023-02-06T09:25:41.945589Z",
     "iopub.status.idle": "2023-02-06T09:25:41.953468Z",
     "shell.execute_reply": "2023-02-06T09:25:41.952182Z"
    },
    "papermill": {
     "duration": 0.017503,
     "end_time": "2023-02-06T09:25:41.956024",
     "exception": false,
     "start_time": "2023-02-06T09:25:41.938521",
     "status": "completed"
    },
    "tags": []
   },
   "outputs": [
    {
     "data": {
      "text/plain": [
       "sklearn.model_selection._split.StratifiedGroupKFold"
      ]
     },
     "execution_count": 9,
     "metadata": {},
     "output_type": "execute_result"
    }
   ],
   "source": [
    "StratifiedGroupKFold"
   ]
  },
  {
   "cell_type": "markdown",
   "id": "a69f2d0a",
   "metadata": {
    "papermill": {
     "duration": 0.006494,
     "end_time": "2023-02-06T09:25:41.968667",
     "exception": false,
     "start_time": "2023-02-06T09:25:41.962173",
     "status": "completed"
    },
    "tags": []
   },
   "source": [
    "## Content"
   ]
  },
  {
   "cell_type": "markdown",
   "id": "b9e42717",
   "metadata": {
    "papermill": {
     "duration": 0.005838,
     "end_time": "2023-02-06T09:25:41.980685",
     "exception": false,
     "start_time": "2023-02-06T09:25:41.974847",
     "status": "completed"
    },
    "tags": []
   },
   "source": [
    "Content 会存在少数title为空的row，训练集中9条暂时不用管"
   ]
  },
  {
   "cell_type": "code",
   "execution_count": null,
   "id": "1b52bfd4",
   "metadata": {
    "papermill": {
     "duration": 0.006138,
     "end_time": "2023-02-06T09:25:41.993761",
     "exception": false,
     "start_time": "2023-02-06T09:25:41.987623",
     "status": "completed"
    },
    "tags": []
   },
   "outputs": [],
   "source": []
  }
 ],
 "metadata": {
  "kernelspec": {
   "display_name": "Python 3",
   "language": "python",
   "name": "python3"
  },
  "language_info": {
   "codemirror_mode": {
    "name": "ipython",
    "version": 3
   },
   "file_extension": ".py",
   "mimetype": "text/x-python",
   "name": "python",
   "nbconvert_exporter": "python",
   "pygments_lexer": "ipython3",
   "version": "3.7.12"
  },
  "papermill": {
   "default_parameters": {},
   "duration": 38.960123,
   "end_time": "2023-02-06T09:25:43.025862",
   "environment_variables": {},
   "exception": null,
   "input_path": "__notebook__.ipynb",
   "output_path": "__notebook__.ipynb",
   "parameters": {},
   "start_time": "2023-02-06T09:25:04.065739",
   "version": "2.3.4"
  }
 },
 "nbformat": 4,
 "nbformat_minor": 5
}
