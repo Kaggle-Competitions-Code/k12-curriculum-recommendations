{
 "cells": [
  {
   "cell_type": "code",
   "execution_count": 1,
   "id": "31a4dcb8",
   "metadata": {
    "execution": {
     "iopub.execute_input": "2023-02-07T14:23:52.458556Z",
     "iopub.status.busy": "2023-02-07T14:23:52.457198Z",
     "iopub.status.idle": "2023-02-07T14:23:53.705367Z",
     "shell.execute_reply": "2023-02-07T14:23:53.703823Z"
    },
    "papermill": {
     "duration": 1.262628,
     "end_time": "2023-02-07T14:23:53.708933",
     "exception": false,
     "start_time": "2023-02-07T14:23:52.446305",
     "status": "completed"
    },
    "tags": []
   },
   "outputs": [],
   "source": [
    "import pandas as pd\n",
    "import os\n",
    "\n",
    "from tqdm import tqdm\n",
    "from sklearn.model_selection import StratifiedGroupKFold, GroupKFold, KFold\n",
    "\n",
    "pd.set_option('display.max_rows', 100)"
   ]
  },
  {
   "cell_type": "code",
   "execution_count": 2,
   "id": "5eb5d5cf",
   "metadata": {
    "execution": {
     "iopub.execute_input": "2023-02-07T14:23:53.727103Z",
     "iopub.status.busy": "2023-02-07T14:23:53.726647Z",
     "iopub.status.idle": "2023-02-07T14:23:53.733774Z",
     "shell.execute_reply": "2023-02-07T14:23:53.732226Z"
    },
    "papermill": {
     "duration": 0.019568,
     "end_time": "2023-02-07T14:23:53.736635",
     "exception": false,
     "start_time": "2023-02-07T14:23:53.717067",
     "status": "completed"
    },
    "tags": []
   },
   "outputs": [],
   "source": [
    "class CFG:\n",
    "    input_dir = '/kaggle/input/learning-equality-curriculum-recommendations'\n",
    "    cv_dir = '/kaggle/working/cv_data'\n",
    "    \n",
    "    content_dir = os.path.join(input_dir, 'content.csv')\n",
    "    correlation_dir = os.path.join(input_dir, 'correlations.csv')\n",
    "    submission_dir = os.path.join(input_dir, 'sample_submission.csv')\n",
    "    topic_dir = os.path.join(input_dir, 'topics.csv')\n",
    "    \n",
    "    max_len = 38\n",
    "    seed = 17\n",
    "    n_fold = 4"
   ]
  },
  {
   "cell_type": "code",
   "execution_count": 3,
   "id": "8f263050",
   "metadata": {
    "execution": {
     "iopub.execute_input": "2023-02-07T14:23:53.754315Z",
     "iopub.status.busy": "2023-02-07T14:23:53.753864Z",
     "iopub.status.idle": "2023-02-07T14:24:17.209382Z",
     "shell.execute_reply": "2023-02-07T14:24:17.208297Z"
    },
    "papermill": {
     "duration": 23.467887,
     "end_time": "2023-02-07T14:24:17.212330",
     "exception": false,
     "start_time": "2023-02-07T14:23:53.744443",
     "status": "completed"
    },
    "tags": []
   },
   "outputs": [],
   "source": [
    "df_content = pd.read_csv(CFG.content_dir)\n",
    "df_corr = pd.read_csv(CFG.correlation_dir)\n",
    "df_sub = pd.read_csv(CFG.submission_dir)\n",
    "df_topic = pd.read_csv(CFG.topic_dir)"
   ]
  },
  {
   "cell_type": "code",
   "execution_count": 4,
   "id": "09c5f304",
   "metadata": {
    "execution": {
     "iopub.execute_input": "2023-02-07T14:24:17.230353Z",
     "iopub.status.busy": "2023-02-07T14:24:17.229896Z",
     "iopub.status.idle": "2023-02-07T14:24:17.268913Z",
     "shell.execute_reply": "2023-02-07T14:24:17.267644Z"
    },
    "papermill": {
     "duration": 0.051734,
     "end_time": "2023-02-07T14:24:17.272299",
     "exception": false,
     "start_time": "2023-02-07T14:24:17.220565",
     "status": "completed"
    },
    "tags": []
   },
   "outputs": [
    {
     "data": {
      "text/plain": [
       "True     25003\n",
       "False     8482\n",
       "Name: has_content, dtype: int64"
      ]
     },
     "execution_count": 4,
     "metadata": {},
     "output_type": "execute_result"
    }
   ],
   "source": [
    "df_topic.query(\"category!='source'\")['has_content'].value_counts()"
   ]
  },
  {
   "cell_type": "code",
   "execution_count": 5,
   "id": "144a5f73",
   "metadata": {
    "execution": {
     "iopub.execute_input": "2023-02-07T14:24:17.290558Z",
     "iopub.status.busy": "2023-02-07T14:24:17.289366Z",
     "iopub.status.idle": "2023-02-07T14:24:17.299736Z",
     "shell.execute_reply": "2023-02-07T14:24:17.298453Z"
    },
    "papermill": {
     "duration": 0.021942,
     "end_time": "2023-02-07T14:24:17.302167",
     "exception": false,
     "start_time": "2023-02-07T14:24:17.280225",
     "status": "completed"
    },
    "tags": []
   },
   "outputs": [
    {
     "data": {
      "text/plain": [
       "True     61517\n",
       "False    15455\n",
       "Name: has_content, dtype: int64"
      ]
     },
     "execution_count": 5,
     "metadata": {},
     "output_type": "execute_result"
    }
   ],
   "source": [
    "df_topic['has_content'].value_counts()"
   ]
  },
  {
   "cell_type": "markdown",
   "id": "cecd91bb",
   "metadata": {
    "papermill": {
     "duration": 0.007339,
     "end_time": "2023-02-07T14:24:17.317274",
     "exception": false,
     "start_time": "2023-02-07T14:24:17.309935",
     "status": "completed"
    },
    "tags": []
   },
   "source": [
    "## 准备训练数据"
   ]
  },
  {
   "cell_type": "code",
   "execution_count": 6,
   "id": "87d357fe",
   "metadata": {
    "execution": {
     "iopub.execute_input": "2023-02-07T14:24:17.335039Z",
     "iopub.status.busy": "2023-02-07T14:24:17.334387Z",
     "iopub.status.idle": "2023-02-07T14:24:17.346463Z",
     "shell.execute_reply": "2023-02-07T14:24:17.345421Z"
    },
    "papermill": {
     "duration": 0.023874,
     "end_time": "2023-02-07T14:24:17.348896",
     "exception": false,
     "start_time": "2023-02-07T14:24:17.325022",
     "status": "completed"
    },
    "tags": []
   },
   "outputs": [],
   "source": [
    "def prepare_topic(cfg):\n",
    "    topic = pd.read_csv(cfg.topic_dir)\n",
    "    topic['title'] = topic['title'].fillna(topic[\"description\"]).fillna('')\n",
    "    return topic\n",
    "    \n",
    "def prepare_content(cfg):\n",
    "    content = pd.read_csv(cfg.content_dir)\n",
    "    content['title'] = content['title'].fillna(content[\"description\"]).fillna(content['text']).fillna('')\n",
    "    return content\n",
    "\n",
    "def prepare_correlation(cfg):\n",
    "    correlation = pd.read_csv(cfg.correlation_dir)\n",
    "    correlation['content_id']=correlation['content_ids'].apply(lambda x: x.split())\n",
    "    correlation = correlation.explode('content_id').drop(columns='content_ids')\n",
    "    return correlation\n",
    "\n",
    "def merge_train_data(cfg, content_cols=['id', 'title'], topic_cols=['id', 'title']):\n",
    "    dup_cols = ['id', 'title', 'description', 'language']\n",
    "    topic = prepare_topic(cfg)\n",
    "    content = prepare_content(cfg)\n",
    "    correlation = prepare_correlation(cfg)\n",
    "    correlation = (\n",
    "        correlation\n",
    "        .merge(content[content_cols], left_on='content_id', right_on='id', how='left')\n",
    "        .drop(columns='id')\n",
    "        .rename(columns=dict(zip(dup_cols, ['content_'+x for x in dup_cols])))\n",
    "        .merge(topic[topic_cols], left_on='topic_id', right_on='id', how='left')\n",
    "        .drop(columns='id')\n",
    "        .rename(columns=dict(zip(dup_cols, ['topic_'+x for x in dup_cols])))\n",
    "    )\n",
    "    return correlation"
   ]
  },
  {
   "cell_type": "code",
   "execution_count": 7,
   "id": "257d29e3",
   "metadata": {
    "execution": {
     "iopub.execute_input": "2023-02-07T14:24:17.368819Z",
     "iopub.status.busy": "2023-02-07T14:24:17.368289Z",
     "iopub.status.idle": "2023-02-07T14:24:32.373646Z",
     "shell.execute_reply": "2023-02-07T14:24:32.371640Z"
    },
    "papermill": {
     "duration": 15.019397,
     "end_time": "2023-02-07T14:24:32.377433",
     "exception": false,
     "start_time": "2023-02-07T14:24:17.358036",
     "status": "completed"
    },
    "tags": []
   },
   "outputs": [
    {
     "name": "stdout",
     "output_type": "stream",
     "text": [
      "CPU times: user 12.9 s, sys: 2.03 s, total: 15 s\n",
      "Wall time: 15 s\n"
     ]
    },
    {
     "data": {
      "text/html": [
       "<div>\n",
       "<style scoped>\n",
       "    .dataframe tbody tr th:only-of-type {\n",
       "        vertical-align: middle;\n",
       "    }\n",
       "\n",
       "    .dataframe tbody tr th {\n",
       "        vertical-align: top;\n",
       "    }\n",
       "\n",
       "    .dataframe thead th {\n",
       "        text-align: right;\n",
       "    }\n",
       "</style>\n",
       "<table border=\"1\" class=\"dataframe\">\n",
       "  <thead>\n",
       "    <tr style=\"text-align: right;\">\n",
       "      <th></th>\n",
       "      <th>topic_id</th>\n",
       "      <th>content_id</th>\n",
       "      <th>content_title</th>\n",
       "      <th>content_description</th>\n",
       "      <th>content_language</th>\n",
       "      <th>topic_title</th>\n",
       "      <th>topic_description</th>\n",
       "      <th>channel</th>\n",
       "      <th>category</th>\n",
       "      <th>topic_language</th>\n",
       "    </tr>\n",
       "  </thead>\n",
       "  <tbody>\n",
       "    <tr>\n",
       "      <th>0</th>\n",
       "      <td>t_00004da3a1b2</td>\n",
       "      <td>c_1108dd0c7a5d</td>\n",
       "      <td>Молив като резистор</td>\n",
       "      <td>Моливът причинява промяна в отклонението, подо...</td>\n",
       "      <td>bg</td>\n",
       "      <td>Откриването на резисторите</td>\n",
       "      <td>Изследване на материали, които предизвикват на...</td>\n",
       "      <td>000cf7</td>\n",
       "      <td>source</td>\n",
       "      <td>bg</td>\n",
       "    </tr>\n",
       "    <tr>\n",
       "      <th>1</th>\n",
       "      <td>t_00004da3a1b2</td>\n",
       "      <td>c_376c5a8eb028</td>\n",
       "      <td>Да чуем променливото съпротивление</td>\n",
       "      <td>Тук чертаем линия на лист хартия и я използвам...</td>\n",
       "      <td>bg</td>\n",
       "      <td>Откриването на резисторите</td>\n",
       "      <td>Изследване на материали, които предизвикват на...</td>\n",
       "      <td>000cf7</td>\n",
       "      <td>source</td>\n",
       "      <td>bg</td>\n",
       "    </tr>\n",
       "    <tr>\n",
       "      <th>2</th>\n",
       "      <td>t_00004da3a1b2</td>\n",
       "      <td>c_5bc0e1e2cba0</td>\n",
       "      <td>Променлив резистор (реостат) с графит от молив</td>\n",
       "      <td>Използваме сърцевината на молива (неговия граф...</td>\n",
       "      <td>bg</td>\n",
       "      <td>Откриването на резисторите</td>\n",
       "      <td>Изследване на материали, които предизвикват на...</td>\n",
       "      <td>000cf7</td>\n",
       "      <td>source</td>\n",
       "      <td>bg</td>\n",
       "    </tr>\n",
       "    <tr>\n",
       "      <th>3</th>\n",
       "      <td>t_00004da3a1b2</td>\n",
       "      <td>c_76231f9d0b5e</td>\n",
       "      <td>Последователно свързване на галваничен елемент...</td>\n",
       "      <td>Защо отклонението се променя, когато се свърже...</td>\n",
       "      <td>bg</td>\n",
       "      <td>Откриването на резисторите</td>\n",
       "      <td>Изследване на материали, които предизвикват на...</td>\n",
       "      <td>000cf7</td>\n",
       "      <td>source</td>\n",
       "      <td>bg</td>\n",
       "    </tr>\n",
       "    <tr>\n",
       "      <th>4</th>\n",
       "      <td>t_00068291e9a4</td>\n",
       "      <td>c_639ea2ef9c95</td>\n",
       "      <td>Dados e resultados de funções: gráficos</td>\n",
       "      <td>Encontre todas as entradas que correspondem a ...</td>\n",
       "      <td>pt</td>\n",
       "      <td>Entradas e saídas de uma função</td>\n",
       "      <td>Entenda um pouco mais sobre funções.</td>\n",
       "      <td>8e286a</td>\n",
       "      <td>source</td>\n",
       "      <td>pt</td>\n",
       "    </tr>\n",
       "    <tr>\n",
       "      <th>...</th>\n",
       "      <td>...</td>\n",
       "      <td>...</td>\n",
       "      <td>...</td>\n",
       "      <td>...</td>\n",
       "      <td>...</td>\n",
       "      <td>...</td>\n",
       "      <td>...</td>\n",
       "      <td>...</td>\n",
       "      <td>...</td>\n",
       "      <td>...</td>\n",
       "    </tr>\n",
       "    <tr>\n",
       "      <th>279914</th>\n",
       "      <td>t_fff9e5407d13</td>\n",
       "      <td>c_d64037a72376</td>\n",
       "      <td>Introducción: El periódico</td>\n",
       "      <td>NaN</td>\n",
       "      <td>es</td>\n",
       "      <td>NA_U06 - El periódico</td>\n",
       "      <td>NaN</td>\n",
       "      <td>71fd51</td>\n",
       "      <td>supplemental</td>\n",
       "      <td>es</td>\n",
       "    </tr>\n",
       "    <tr>\n",
       "      <th>279915</th>\n",
       "      <td>t_fffbe1d5d43c</td>\n",
       "      <td>c_46f852a49c08</td>\n",
       "      <td>Proof: Right triangles inscribed in circles -d...</td>\n",
       "      <td>Proof showing that a triangle inscribed in a c...</td>\n",
       "      <td>sw</td>\n",
       "      <td>Inscribed shapes problem solving</td>\n",
       "      <td>Use properties of inscribed angles to prove pr...</td>\n",
       "      <td>0c929f</td>\n",
       "      <td>source</td>\n",
       "      <td>sw</td>\n",
       "    </tr>\n",
       "    <tr>\n",
       "      <th>279916</th>\n",
       "      <td>t_fffbe1d5d43c</td>\n",
       "      <td>c_6659207b25d5</td>\n",
       "      <td>Area of inscribed equilateral triangle -dubbed...</td>\n",
       "      <td>A worked example of finding the area of an equ...</td>\n",
       "      <td>sw</td>\n",
       "      <td>Inscribed shapes problem solving</td>\n",
       "      <td>Use properties of inscribed angles to prove pr...</td>\n",
       "      <td>0c929f</td>\n",
       "      <td>source</td>\n",
       "      <td>sw</td>\n",
       "    </tr>\n",
       "    <tr>\n",
       "      <th>279917</th>\n",
       "      <td>t_fffe14f1be1e</td>\n",
       "      <td>c_cece166bad6a</td>\n",
       "      <td>Juego con las palabras</td>\n",
       "      <td>NaN</td>\n",
       "      <td>es</td>\n",
       "      <td>Lección 7</td>\n",
       "      <td>NaN</td>\n",
       "      <td>6e90a7</td>\n",
       "      <td>aligned</td>\n",
       "      <td>es</td>\n",
       "    </tr>\n",
       "    <tr>\n",
       "      <th>279918</th>\n",
       "      <td>t_fffe811a6da9</td>\n",
       "      <td>c_92b8fad372ee</td>\n",
       "      <td>التقييم</td>\n",
       "      <td>5b0a30e7b42e8704a45b2bfd</td>\n",
       "      <td>ar</td>\n",
       "      <td>تحديد العلاقة بين الإحداثيّات القطبية والإحداث...</td>\n",
       "      <td>5b9e5ca86571f90499ea987f</td>\n",
       "      <td>9fd860</td>\n",
       "      <td>source</td>\n",
       "      <td>ar</td>\n",
       "    </tr>\n",
       "  </tbody>\n",
       "</table>\n",
       "<p>279919 rows × 10 columns</p>\n",
       "</div>"
      ],
      "text/plain": [
       "              topic_id      content_id  \\\n",
       "0       t_00004da3a1b2  c_1108dd0c7a5d   \n",
       "1       t_00004da3a1b2  c_376c5a8eb028   \n",
       "2       t_00004da3a1b2  c_5bc0e1e2cba0   \n",
       "3       t_00004da3a1b2  c_76231f9d0b5e   \n",
       "4       t_00068291e9a4  c_639ea2ef9c95   \n",
       "...                ...             ...   \n",
       "279914  t_fff9e5407d13  c_d64037a72376   \n",
       "279915  t_fffbe1d5d43c  c_46f852a49c08   \n",
       "279916  t_fffbe1d5d43c  c_6659207b25d5   \n",
       "279917  t_fffe14f1be1e  c_cece166bad6a   \n",
       "279918  t_fffe811a6da9  c_92b8fad372ee   \n",
       "\n",
       "                                            content_title  \\\n",
       "0                                     Молив като резистор   \n",
       "1                      Да чуем променливото съпротивление   \n",
       "2          Променлив резистор (реостат) с графит от молив   \n",
       "3       Последователно свързване на галваничен елемент...   \n",
       "4                 Dados e resultados de funções: gráficos   \n",
       "...                                                   ...   \n",
       "279914                         Introducción: El periódico   \n",
       "279915  Proof: Right triangles inscribed in circles -d...   \n",
       "279916  Area of inscribed equilateral triangle -dubbed...   \n",
       "279917                             Juego con las palabras   \n",
       "279918                                            التقييم   \n",
       "\n",
       "                                      content_description content_language  \\\n",
       "0       Моливът причинява промяна в отклонението, подо...               bg   \n",
       "1       Тук чертаем линия на лист хартия и я използвам...               bg   \n",
       "2       Използваме сърцевината на молива (неговия граф...               bg   \n",
       "3       Защо отклонението се променя, когато се свърже...               bg   \n",
       "4       Encontre todas as entradas que correspondem a ...               pt   \n",
       "...                                                   ...              ...   \n",
       "279914                                                NaN               es   \n",
       "279915  Proof showing that a triangle inscribed in a c...               sw   \n",
       "279916  A worked example of finding the area of an equ...               sw   \n",
       "279917                                                NaN               es   \n",
       "279918                           5b0a30e7b42e8704a45b2bfd               ar   \n",
       "\n",
       "                                              topic_title  \\\n",
       "0                              Откриването на резисторите   \n",
       "1                              Откриването на резисторите   \n",
       "2                              Откриването на резисторите   \n",
       "3                              Откриването на резисторите   \n",
       "4                         Entradas e saídas de uma função   \n",
       "...                                                   ...   \n",
       "279914                              NA_U06 - El periódico   \n",
       "279915                   Inscribed shapes problem solving   \n",
       "279916                   Inscribed shapes problem solving   \n",
       "279917                                          Lección 7   \n",
       "279918  تحديد العلاقة بين الإحداثيّات القطبية والإحداث...   \n",
       "\n",
       "                                        topic_description channel  \\\n",
       "0       Изследване на материали, които предизвикват на...  000cf7   \n",
       "1       Изследване на материали, които предизвикват на...  000cf7   \n",
       "2       Изследване на материали, които предизвикват на...  000cf7   \n",
       "3       Изследване на материали, които предизвикват на...  000cf7   \n",
       "4                    Entenda um pouco mais sobre funções.  8e286a   \n",
       "...                                                   ...     ...   \n",
       "279914                                                NaN  71fd51   \n",
       "279915  Use properties of inscribed angles to prove pr...  0c929f   \n",
       "279916  Use properties of inscribed angles to prove pr...  0c929f   \n",
       "279917                                                NaN  6e90a7   \n",
       "279918                           5b9e5ca86571f90499ea987f  9fd860   \n",
       "\n",
       "            category topic_language  \n",
       "0             source             bg  \n",
       "1             source             bg  \n",
       "2             source             bg  \n",
       "3             source             bg  \n",
       "4             source             pt  \n",
       "...              ...            ...  \n",
       "279914  supplemental             es  \n",
       "279915        source             sw  \n",
       "279916        source             sw  \n",
       "279917       aligned             es  \n",
       "279918        source             ar  \n",
       "\n",
       "[279919 rows x 10 columns]"
      ]
     },
     "execution_count": 7,
     "metadata": {},
     "output_type": "execute_result"
    }
   ],
   "source": [
    "%%time\n",
    "content_cols = ['id', 'title', 'description', 'language']\n",
    "topic_cols = ['id', 'title', 'description', 'channel', 'category', 'language']\n",
    "df_train = merge_train_data(CFG, content_cols, topic_cols)\n",
    "df_train"
   ]
  },
  {
   "cell_type": "markdown",
   "id": "42d20b4e",
   "metadata": {
    "papermill": {
     "duration": 0.009334,
     "end_time": "2023-02-07T14:24:32.395576",
     "exception": false,
     "start_time": "2023-02-07T14:24:32.386242",
     "status": "completed"
    },
    "tags": []
   },
   "source": [
    "## One Fold CV"
   ]
  },
  {
   "cell_type": "markdown",
   "id": "6d3bb0c6",
   "metadata": {
    "papermill": {
     "duration": 0.008714,
     "end_time": "2023-02-07T14:24:32.413019",
     "exception": false,
     "start_time": "2023-02-07T14:24:32.404305",
     "status": "completed"
    },
    "tags": []
   },
   "source": [
    "### Train Valid Split\n",
    "1. 同一个channel的category唯一\n",
    "2. 不同语言的字数统计方式不同，按字长分可能对部分语言不友好\n",
    "3. 合适的candidate feature for split有channel category language[???]\n",
    "4. test set中的channel会出现训练集中有过的channel + 全新的channel\n",
    "5. test set中的category只有aligned和supplemental，没有source\n",
    "6. 将train set和valid set中的content分很开可能没用，因为测试环境中的content是训练集content的超集"
   ]
  },
  {
   "cell_type": "code",
   "execution_count": 8,
   "id": "bfb1b1f3",
   "metadata": {
    "execution": {
     "iopub.execute_input": "2023-02-07T14:24:32.432076Z",
     "iopub.status.busy": "2023-02-07T14:24:32.431630Z",
     "iopub.status.idle": "2023-02-07T14:24:32.442222Z",
     "shell.execute_reply": "2023-02-07T14:24:32.441210Z"
    },
    "papermill": {
     "duration": 0.023003,
     "end_time": "2023-02-07T14:24:32.444479",
     "exception": false,
     "start_time": "2023-02-07T14:24:32.421476",
     "status": "completed"
    },
    "tags": []
   },
   "outputs": [],
   "source": [
    "def cv_split(df_train, cfg):\n",
    "    df_train['fold'] = -1\n",
    "    df_candidates = df_train[df_train[\"category\"]!='source'].copy(deep=True)\n",
    "    df_candidates['count'] = df_candidates.groupby('channel')['channel'].transform('count')\n",
    "    df_shared_topic = df_candidates.query('count > 4000').reset_index(drop=True)\n",
    "    df_independent_topic = df_candidates.query('count <= 4000').reset_index(drop=True)\n",
    "    gkf = GroupKFold(n_splits=cfg.n_fold)\n",
    "    for i, (train_index, test_index) in enumerate(gkf.split(df_independent_topic, \n",
    "                                                            df_independent_topic['category'], \n",
    "                                                            df_independent_topic['channel'],)):\n",
    "        df_independent_topic.loc[test_index, 'fold'] = i\n",
    "    for i, (train_index, test_index) in enumerate(gkf.split(df_shared_topic,\n",
    "                                                            df_shared_topic['channel'],\n",
    "                                                            df_shared_topic['topic_id'],)):\n",
    "        df_shared_topic.loc[test_index, 'fold'] = i\n",
    "    df_source = df_train.query('category==\"source\"')\n",
    "    df_train.drop(columns='fold', inplace=True)\n",
    "    df_train = pd.concat([df_independent_topic, df_shared_topic, df_source]).reset_index(drop=True)\n",
    "    df_train = df_train.drop(columns=['count'])\n",
    "    return df_train"
   ]
  },
  {
   "cell_type": "code",
   "execution_count": 9,
   "id": "06daf697",
   "metadata": {
    "execution": {
     "iopub.execute_input": "2023-02-07T14:24:32.463840Z",
     "iopub.status.busy": "2023-02-07T14:24:32.463327Z",
     "iopub.status.idle": "2023-02-07T14:24:32.989861Z",
     "shell.execute_reply": "2023-02-07T14:24:32.988457Z"
    },
    "papermill": {
     "duration": 0.540259,
     "end_time": "2023-02-07T14:24:32.993332",
     "exception": false,
     "start_time": "2023-02-07T14:24:32.453073",
     "status": "completed"
    },
    "tags": []
   },
   "outputs": [
    {
     "name": "stdout",
     "output_type": "stream",
     "text": [
      "CPU times: user 473 ms, sys: 46.8 ms, total: 519 ms\n",
      "Wall time: 520 ms\n"
     ]
    }
   ],
   "source": [
    "%%time\n",
    "df_train = cv_split(df_train, CFG)"
   ]
  },
  {
   "cell_type": "code",
   "execution_count": 10,
   "id": "a55b5e08",
   "metadata": {
    "execution": {
     "iopub.execute_input": "2023-02-07T14:24:33.012865Z",
     "iopub.status.busy": "2023-02-07T14:24:33.012361Z",
     "iopub.status.idle": "2023-02-07T14:24:33.128207Z",
     "shell.execute_reply": "2023-02-07T14:24:33.127074Z"
    },
    "papermill": {
     "duration": 0.128749,
     "end_time": "2023-02-07T14:24:33.131169",
     "exception": false,
     "start_time": "2023-02-07T14:24:33.002420",
     "status": "completed"
    },
    "tags": []
   },
   "outputs": [],
   "source": [
    "tk0 = (df_train.query('fold!=0'), df_train.query('fold!=0'))"
   ]
  },
  {
   "cell_type": "markdown",
   "id": "5681c4bc",
   "metadata": {
    "papermill": {
     "duration": 0.008216,
     "end_time": "2023-02-07T14:24:33.147924",
     "exception": false,
     "start_time": "2023-02-07T14:24:33.139708",
     "status": "completed"
    },
    "tags": []
   },
   "source": [
    "Save train test dataset"
   ]
  },
  {
   "cell_type": "code",
   "execution_count": 11,
   "id": "b1aec032",
   "metadata": {
    "execution": {
     "iopub.execute_input": "2023-02-07T14:24:33.167045Z",
     "iopub.status.busy": "2023-02-07T14:24:33.166578Z",
     "iopub.status.idle": "2023-02-07T14:24:33.173022Z",
     "shell.execute_reply": "2023-02-07T14:24:33.171839Z"
    },
    "papermill": {
     "duration": 0.018823,
     "end_time": "2023-02-07T14:24:33.175410",
     "exception": false,
     "start_time": "2023-02-07T14:24:33.156587",
     "status": "completed"
    },
    "tags": []
   },
   "outputs": [],
   "source": [
    "if not os.path.exists(CFG.cv_dir):\n",
    "    os.makedirs(CFG.cv_dir)"
   ]
  },
  {
   "cell_type": "code",
   "execution_count": 12,
   "id": "4d468748",
   "metadata": {
    "execution": {
     "iopub.execute_input": "2023-02-07T14:24:33.195051Z",
     "iopub.status.busy": "2023-02-07T14:24:33.193917Z",
     "iopub.status.idle": "2023-02-07T14:26:07.123081Z",
     "shell.execute_reply": "2023-02-07T14:26:07.121895Z"
    },
    "papermill": {
     "duration": 93.964011,
     "end_time": "2023-02-07T14:26:07.147860",
     "exception": false,
     "start_time": "2023-02-07T14:24:33.183849",
     "status": "completed"
    },
    "tags": []
   },
   "outputs": [
    {
     "name": "stderr",
     "output_type": "stream",
     "text": [
      "100%|██████████| 4/4 [01:33<00:00, 23.48s/it]"
     ]
    },
    {
     "name": "stdout",
     "output_type": "stream",
     "text": [
      "CPU times: user 1min 28s, sys: 5.63 s, total: 1min 33s\n",
      "Wall time: 1min 33s\n"
     ]
    },
    {
     "name": "stderr",
     "output_type": "stream",
     "text": [
      "\n"
     ]
    }
   ],
   "source": [
    "%%time\n",
    "for i in tqdm(range(CFG.n_fold)):\n",
    "    dir_name = os.path.join(CFG.cv_dir, f'fold_{i}')\n",
    "    if not os.path.exists(dir_name):\n",
    "        os.makedirs(dir_name)\n",
    "    train = df_train.query('fold!=@i')\n",
    "    test = df_train.query('fold==@i')\n",
    "    correlations = train.groupby('topic_id')['content_id'].apply(lambda x: \" \".join(x)).reset_index(name='content_ids')\n",
    "    submission = test.groupby('topic_id')['content_id'].apply(lambda x: \" \".join(x)).reset_index(name='content_ids')\n",
    "    \n",
    "    df_topic.to_csv(os.path.join(dir_name, 'topics.csv'), index=False)\n",
    "    df_content.to_csv(os.path.join(dir_name, 'content.csv'), index=False)\n",
    "    correlations.to_csv(os.path.join(dir_name, 'correlations.csv'), index=False)\n",
    "    submission.to_csv(os.path.join(dir_name, 'sample_submission.csv'), index=False)"
   ]
  },
  {
   "cell_type": "code",
   "execution_count": 13,
   "id": "e776826c",
   "metadata": {
    "execution": {
     "iopub.execute_input": "2023-02-07T14:26:07.175773Z",
     "iopub.status.busy": "2023-02-07T14:26:07.174863Z",
     "iopub.status.idle": "2023-02-07T14:26:09.525545Z",
     "shell.execute_reply": "2023-02-07T14:26:09.523731Z"
    },
    "papermill": {
     "duration": 2.367868,
     "end_time": "2023-02-07T14:26:09.528645",
     "exception": false,
     "start_time": "2023-02-07T14:26:07.160777",
     "status": "completed"
    },
    "tags": []
   },
   "outputs": [
    {
     "name": "stdout",
     "output_type": "stream",
     "text": [
      "fold_0\tfold_1\tfold_2\tfold_3\r\n",
      "content.csv  correlations.csv  sample_submission.csv  topics.csv\r\n"
     ]
    }
   ],
   "source": [
    "!ls cv_data\n",
    "!ls cv_data/fold_0"
   ]
  },
  {
   "cell_type": "markdown",
   "id": "2a4ad793",
   "metadata": {
    "papermill": {
     "duration": 0.008784,
     "end_time": "2023-02-07T14:26:09.547334",
     "exception": false,
     "start_time": "2023-02-07T14:26:09.538550",
     "status": "completed"
    },
    "tags": []
   },
   "source": [
    "## 为叶子topic抽取先前节点的特征\n",
    "仅包含has_content=True的特征"
   ]
  },
  {
   "cell_type": "code",
   "execution_count": 14,
   "id": "6ff1c7d1",
   "metadata": {
    "execution": {
     "iopub.execute_input": "2023-02-07T14:26:09.568753Z",
     "iopub.status.busy": "2023-02-07T14:26:09.568228Z",
     "iopub.status.idle": "2023-02-07T14:26:09.581386Z",
     "shell.execute_reply": "2023-02-07T14:26:09.580055Z"
    },
    "papermill": {
     "duration": 0.026488,
     "end_time": "2023-02-07T14:26:09.583654",
     "exception": false,
     "start_time": "2023-02-07T14:26:09.557166",
     "status": "completed"
    },
    "tags": []
   },
   "outputs": [],
   "source": [
    "# function to extract the level features for each leaf topic\n",
    "def get_level_features(df_topic, level_cols=['title']):\n",
    "    df_hier = df_topic[set(level_cols + ['id', 'parent', 'level', 'has_content'])]\n",
    "    highest_level = df_hier['level'].max()\n",
    "    print(f'Highest Level: {highest_level}')\n",
    "    \n",
    "    df_level = df_hier.query('level == 0').copy(deep=True)\n",
    "    level_list = list()\n",
    "    for col in level_cols:\n",
    "        df_level[f'{col}_level'] = df_level[f'{col}'].apply(lambda x: [x])\n",
    "\n",
    "    for i in tqdm(range(highest_level + 1)):\n",
    "        level_list.append(df_level[df_level['has_content']])\n",
    "        df_level_high = df_hier.query('level == @i+1')\n",
    "        df_level = df_level_high.merge(df_level, left_on='parent', right_on='id', suffixes=['', '_parent'], how='inner')\n",
    "        for col in level_cols:\n",
    "            df_level[f'{col}_level'] = df_level[f'{col}_level'] + df_level[f'{col}'].apply(lambda x: [x])\n",
    "        for col in df_level.columns:\n",
    "            if col.endswith('_parent'):\n",
    "                df_level.drop(columns=col, inplace=True)\n",
    "    df = pd.concat(level_list).reset_index(drop=True)\n",
    "    return df[set(['id'] + [f'{col}_level' for col in level_cols])]"
   ]
  },
  {
   "cell_type": "code",
   "execution_count": 15,
   "id": "54e8139b",
   "metadata": {
    "execution": {
     "iopub.execute_input": "2023-02-07T14:26:09.605622Z",
     "iopub.status.busy": "2023-02-07T14:26:09.604276Z",
     "iopub.status.idle": "2023-02-07T14:26:12.311355Z",
     "shell.execute_reply": "2023-02-07T14:26:12.310045Z"
    },
    "papermill": {
     "duration": 2.72535,
     "end_time": "2023-02-07T14:26:12.318660",
     "exception": false,
     "start_time": "2023-02-07T14:26:09.593310",
     "status": "completed"
    },
    "tags": []
   },
   "outputs": [
    {
     "name": "stdout",
     "output_type": "stream",
     "text": [
      "Highest Level: 10\n"
     ]
    },
    {
     "name": "stderr",
     "output_type": "stream",
     "text": [
      "100%|██████████| 11/11 [00:02<00:00,  4.56it/s]\n"
     ]
    },
    {
     "name": "stdout",
     "output_type": "stream",
     "text": [
      "CPU times: user 2.48 s, sys: 116 ms, total: 2.6 s\n",
      "Wall time: 2.65 s\n"
     ]
    },
    {
     "data": {
      "text/html": [
       "<div>\n",
       "<style scoped>\n",
       "    .dataframe tbody tr th:only-of-type {\n",
       "        vertical-align: middle;\n",
       "    }\n",
       "\n",
       "    .dataframe tbody tr th {\n",
       "        vertical-align: top;\n",
       "    }\n",
       "\n",
       "    .dataframe thead th {\n",
       "        text-align: right;\n",
       "    }\n",
       "</style>\n",
       "<table border=\"1\" class=\"dataframe\">\n",
       "  <thead>\n",
       "    <tr style=\"text-align: right;\">\n",
       "      <th></th>\n",
       "      <th>language_level</th>\n",
       "      <th>level_level</th>\n",
       "      <th>id</th>\n",
       "      <th>description_level</th>\n",
       "      <th>has_content_level</th>\n",
       "      <th>title_level</th>\n",
       "      <th>id_level</th>\n",
       "    </tr>\n",
       "  </thead>\n",
       "  <tbody>\n",
       "    <tr>\n",
       "      <th>0</th>\n",
       "      <td>[ar]</td>\n",
       "      <td>[0]</td>\n",
       "      <td>t_10035396d740</td>\n",
       "      <td>[]</td>\n",
       "      <td>[True]</td>\n",
       "      <td>[قناة كم كلمة لتمكين المعلّمين الناطقين باللغة...</td>\n",
       "      <td>[t_10035396d740]</td>\n",
       "    </tr>\n",
       "    <tr>\n",
       "      <th>1</th>\n",
       "      <td>[en]</td>\n",
       "      <td>[0]</td>\n",
       "      <td>t_30dd476279c8</td>\n",
       "      <td>[]</td>\n",
       "      <td>[True]</td>\n",
       "      <td>[Medicine]</td>\n",
       "      <td>[t_30dd476279c8]</td>\n",
       "    </tr>\n",
       "    <tr>\n",
       "      <th>2</th>\n",
       "      <td>[ar]</td>\n",
       "      <td>[0]</td>\n",
       "      <td>t_3efcae0132f0</td>\n",
       "      <td>[]</td>\n",
       "      <td>[True]</td>\n",
       "      <td>[وزارة التربية والتعليم الأردنية]</td>\n",
       "      <td>[t_3efcae0132f0]</td>\n",
       "    </tr>\n",
       "    <tr>\n",
       "      <th>3</th>\n",
       "      <td>[en]</td>\n",
       "      <td>[0]</td>\n",
       "      <td>t_470986f56fbe</td>\n",
       "      <td>[]</td>\n",
       "      <td>[True]</td>\n",
       "      <td>[Khan Academy - Standardized Test Preparation]</td>\n",
       "      <td>[t_470986f56fbe]</td>\n",
       "    </tr>\n",
       "    <tr>\n",
       "      <th>4</th>\n",
       "      <td>[es]</td>\n",
       "      <td>[0]</td>\n",
       "      <td>t_72d1321023d9</td>\n",
       "      <td>[]</td>\n",
       "      <td>[True]</td>\n",
       "      <td>[Matemáticas Quinto Grado (Guatemala)]</td>\n",
       "      <td>[t_72d1321023d9]</td>\n",
       "    </tr>\n",
       "    <tr>\n",
       "      <th>...</th>\n",
       "      <td>...</td>\n",
       "      <td>...</td>\n",
       "      <td>...</td>\n",
       "      <td>...</td>\n",
       "      <td>...</td>\n",
       "      <td>...</td>\n",
       "      <td>...</td>\n",
       "    </tr>\n",
       "    <tr>\n",
       "      <th>61512</th>\n",
       "      <td>[es, es, es, es, es, es, es, es, es, es]</td>\n",
       "      <td>[0, 1, 2, 3, 4, 5, 6, 7, 8, 9]</td>\n",
       "      <td>t_ed58066fa353</td>\n",
       "      <td>[, , , , , , , , , ]</td>\n",
       "      <td>[False, False, True, False, True, True, True, ...</td>\n",
       "      <td>[Ganar - Habilidades para el Trabajo, Laborato...</td>\n",
       "      <td>[t_44623019938d, t_0d57669638bd, t_4cc29e19e15...</td>\n",
       "    </tr>\n",
       "    <tr>\n",
       "      <th>61513</th>\n",
       "      <td>[es, es, es, es, es, es, es, es, es, es]</td>\n",
       "      <td>[0, 1, 2, 3, 4, 5, 6, 7, 8, 9]</td>\n",
       "      <td>t_d7e92d224506</td>\n",
       "      <td>[, , , , , , , , , ]</td>\n",
       "      <td>[False, False, True, False, True, True, True, ...</td>\n",
       "      <td>[Ganar - Habilidades para el Trabajo, Laborato...</td>\n",
       "      <td>[t_44623019938d, t_0d57669638bd, t_4cc29e19e15...</td>\n",
       "    </tr>\n",
       "    <tr>\n",
       "      <th>61514</th>\n",
       "      <td>[es, es, es, es, es, es, es, es, es, es]</td>\n",
       "      <td>[0, 1, 2, 3, 4, 5, 6, 7, 8, 9]</td>\n",
       "      <td>t_f60d6940436e</td>\n",
       "      <td>[, , , , , , , , , ]</td>\n",
       "      <td>[False, False, True, False, True, False, True,...</td>\n",
       "      <td>[Ganar - Habilidades para el Trabajo, Laborato...</td>\n",
       "      <td>[t_44623019938d, t_0d57669638bd, t_4cc29e19e15...</td>\n",
       "    </tr>\n",
       "    <tr>\n",
       "      <th>61515</th>\n",
       "      <td>[es, es, es, es, es, es, es, es, es, es, es]</td>\n",
       "      <td>[0, 1, 2, 3, 4, 5, 6, 7, 8, 9, 10]</td>\n",
       "      <td>t_2cb874d9bfed</td>\n",
       "      <td>[, , , , , , , , , , ]</td>\n",
       "      <td>[False, False, True, False, True, True, True, ...</td>\n",
       "      <td>[Ganar - Habilidades para el Trabajo, Laborato...</td>\n",
       "      <td>[t_44623019938d, t_0d57669638bd, t_4cc29e19e15...</td>\n",
       "    </tr>\n",
       "    <tr>\n",
       "      <th>61516</th>\n",
       "      <td>[es, es, es, es, es, es, es, es, es, es, es]</td>\n",
       "      <td>[0, 1, 2, 3, 4, 5, 6, 7, 8, 9, 10]</td>\n",
       "      <td>t_b245cd8697dd</td>\n",
       "      <td>[, , , , , , , , , , ]</td>\n",
       "      <td>[False, False, True, False, True, True, True, ...</td>\n",
       "      <td>[Ganar - Habilidades para el Trabajo, Laborato...</td>\n",
       "      <td>[t_44623019938d, t_0d57669638bd, t_4cc29e19e15...</td>\n",
       "    </tr>\n",
       "  </tbody>\n",
       "</table>\n",
       "<p>61517 rows × 7 columns</p>\n",
       "</div>"
      ],
      "text/plain": [
       "                                     language_level  \\\n",
       "0                                              [ar]   \n",
       "1                                              [en]   \n",
       "2                                              [ar]   \n",
       "3                                              [en]   \n",
       "4                                              [es]   \n",
       "...                                             ...   \n",
       "61512      [es, es, es, es, es, es, es, es, es, es]   \n",
       "61513      [es, es, es, es, es, es, es, es, es, es]   \n",
       "61514      [es, es, es, es, es, es, es, es, es, es]   \n",
       "61515  [es, es, es, es, es, es, es, es, es, es, es]   \n",
       "61516  [es, es, es, es, es, es, es, es, es, es, es]   \n",
       "\n",
       "                              level_level              id  \\\n",
       "0                                     [0]  t_10035396d740   \n",
       "1                                     [0]  t_30dd476279c8   \n",
       "2                                     [0]  t_3efcae0132f0   \n",
       "3                                     [0]  t_470986f56fbe   \n",
       "4                                     [0]  t_72d1321023d9   \n",
       "...                                   ...             ...   \n",
       "61512      [0, 1, 2, 3, 4, 5, 6, 7, 8, 9]  t_ed58066fa353   \n",
       "61513      [0, 1, 2, 3, 4, 5, 6, 7, 8, 9]  t_d7e92d224506   \n",
       "61514      [0, 1, 2, 3, 4, 5, 6, 7, 8, 9]  t_f60d6940436e   \n",
       "61515  [0, 1, 2, 3, 4, 5, 6, 7, 8, 9, 10]  t_2cb874d9bfed   \n",
       "61516  [0, 1, 2, 3, 4, 5, 6, 7, 8, 9, 10]  t_b245cd8697dd   \n",
       "\n",
       "            description_level  \\\n",
       "0                          []   \n",
       "1                          []   \n",
       "2                          []   \n",
       "3                          []   \n",
       "4                          []   \n",
       "...                       ...   \n",
       "61512    [, , , , , , , , , ]   \n",
       "61513    [, , , , , , , , , ]   \n",
       "61514    [, , , , , , , , , ]   \n",
       "61515  [, , , , , , , , , , ]   \n",
       "61516  [, , , , , , , , , , ]   \n",
       "\n",
       "                                       has_content_level  \\\n",
       "0                                                 [True]   \n",
       "1                                                 [True]   \n",
       "2                                                 [True]   \n",
       "3                                                 [True]   \n",
       "4                                                 [True]   \n",
       "...                                                  ...   \n",
       "61512  [False, False, True, False, True, True, True, ...   \n",
       "61513  [False, False, True, False, True, True, True, ...   \n",
       "61514  [False, False, True, False, True, False, True,...   \n",
       "61515  [False, False, True, False, True, True, True, ...   \n",
       "61516  [False, False, True, False, True, True, True, ...   \n",
       "\n",
       "                                             title_level  \\\n",
       "0      [قناة كم كلمة لتمكين المعلّمين الناطقين باللغة...   \n",
       "1                                             [Medicine]   \n",
       "2                      [وزارة التربية والتعليم الأردنية]   \n",
       "3         [Khan Academy - Standardized Test Preparation]   \n",
       "4                 [Matemáticas Quinto Grado (Guatemala)]   \n",
       "...                                                  ...   \n",
       "61512  [Ganar - Habilidades para el Trabajo, Laborato...   \n",
       "61513  [Ganar - Habilidades para el Trabajo, Laborato...   \n",
       "61514  [Ganar - Habilidades para el Trabajo, Laborato...   \n",
       "61515  [Ganar - Habilidades para el Trabajo, Laborato...   \n",
       "61516  [Ganar - Habilidades para el Trabajo, Laborato...   \n",
       "\n",
       "                                                id_level  \n",
       "0                                       [t_10035396d740]  \n",
       "1                                       [t_30dd476279c8]  \n",
       "2                                       [t_3efcae0132f0]  \n",
       "3                                       [t_470986f56fbe]  \n",
       "4                                       [t_72d1321023d9]  \n",
       "...                                                  ...  \n",
       "61512  [t_44623019938d, t_0d57669638bd, t_4cc29e19e15...  \n",
       "61513  [t_44623019938d, t_0d57669638bd, t_4cc29e19e15...  \n",
       "61514  [t_44623019938d, t_0d57669638bd, t_4cc29e19e15...  \n",
       "61515  [t_44623019938d, t_0d57669638bd, t_4cc29e19e15...  \n",
       "61516  [t_44623019938d, t_0d57669638bd, t_4cc29e19e15...  \n",
       "\n",
       "[61517 rows x 7 columns]"
      ]
     },
     "execution_count": 15,
     "metadata": {},
     "output_type": "execute_result"
    }
   ],
   "source": [
    "%%time\n",
    "level_cols = ['id', 'title', 'description', 'level', 'language', 'has_content']\n",
    "df_level = get_level_features(df_topic.fillna(''), level_cols)\n",
    "df_level"
   ]
  },
  {
   "cell_type": "markdown",
   "id": "03a444d0",
   "metadata": {
    "papermill": {
     "duration": 0.010263,
     "end_time": "2023-02-07T14:26:12.341438",
     "exception": false,
     "start_time": "2023-02-07T14:26:12.331175",
     "status": "completed"
    },
    "tags": []
   },
   "source": [
    "## Match by Language\n",
    "超过99%的correlations为同一语种，可以通过匹配language缩小retrieval candidates"
   ]
  },
  {
   "cell_type": "code",
   "execution_count": 16,
   "id": "67fc1d0d",
   "metadata": {
    "execution": {
     "iopub.execute_input": "2023-02-07T14:26:12.365528Z",
     "iopub.status.busy": "2023-02-07T14:26:12.364841Z",
     "iopub.status.idle": "2023-02-07T14:26:12.375317Z",
     "shell.execute_reply": "2023-02-07T14:26:12.373750Z"
    },
    "papermill": {
     "duration": 0.026151,
     "end_time": "2023-02-07T14:26:12.378283",
     "exception": false,
     "start_time": "2023-02-07T14:26:12.352132",
     "status": "completed"
    },
    "tags": []
   },
   "outputs": [],
   "source": [
    "def prepare_language_match(cfg, mode='train'):\n",
    "    topic = pd.read_csv(cfg.topic_dir)[['id', 'language']]\n",
    "    content = pd.read_csv(cfg.content_dir)[['id', 'language']]\n",
    "    if mode == 'train':\n",
    "        corr = pd.read_csv(cfg.correlation_dir)\n",
    "    elif mode == 'valid':\n",
    "        corr = pd.read_csv(cfg.submission_dir)\n",
    "    topic = topic.merge(corr, left_on='id', right_on='topic_id')[['id', 'language']]\n",
    "    match_dict = {}\n",
    "    for language in topic['language'].unique():\n",
    "        match_dict[language] = (topic.query('language==@language')[['id']], content.query('language==@language')[['id']])\n",
    "    return match_dict"
   ]
  },
  {
   "cell_type": "code",
   "execution_count": 17,
   "id": "75f5b93e",
   "metadata": {
    "execution": {
     "iopub.execute_input": "2023-02-07T14:26:12.407887Z",
     "iopub.status.busy": "2023-02-07T14:26:12.406497Z",
     "iopub.status.idle": "2023-02-07T14:26:27.045014Z",
     "shell.execute_reply": "2023-02-07T14:26:27.043269Z"
    },
    "papermill": {
     "duration": 14.655419,
     "end_time": "2023-02-07T14:26:27.048161",
     "exception": false,
     "start_time": "2023-02-07T14:26:12.392742",
     "status": "completed"
    },
    "tags": []
   },
   "outputs": [
    {
     "name": "stdout",
     "output_type": "stream",
     "text": [
      "CPU times: user 13.5 s, sys: 1.14 s, total: 14.6 s\n",
      "Wall time: 14.6 s\n"
     ]
    }
   ],
   "source": [
    "%%time\n",
    "topic_content_match = prepare_language_match(CFG)"
   ]
  },
  {
   "cell_type": "code",
   "execution_count": 18,
   "id": "6f5e8e01",
   "metadata": {
    "execution": {
     "iopub.execute_input": "2023-02-07T14:26:27.071211Z",
     "iopub.status.busy": "2023-02-07T14:26:27.070760Z",
     "iopub.status.idle": "2023-02-07T14:26:27.078953Z",
     "shell.execute_reply": "2023-02-07T14:26:27.077645Z"
    },
    "papermill": {
     "duration": 0.022552,
     "end_time": "2023-02-07T14:26:27.081402",
     "exception": false,
     "start_time": "2023-02-07T14:26:27.058850",
     "status": "completed"
    },
    "tags": []
   },
   "outputs": [],
   "source": [
    "def prepare_input(text, cfg):\n",
    "    inputs = cfg.tokenizer.encode_plus(\n",
    "        text, \n",
    "        return_tensors = None, \n",
    "        add_special_tokens = True, \n",
    "        max_length = cfg.max_len,\n",
    "        pad_to_max_length = True,\n",
    "        truncation = True\n",
    "    )\n",
    "    for k, v in inputs.items():\n",
    "        inputs[k] = torch.tensor(v, dtype = torch.long)\n",
    "    return inputs"
   ]
  },
  {
   "cell_type": "code",
   "execution_count": 19,
   "id": "faa884ec",
   "metadata": {
    "execution": {
     "iopub.execute_input": "2023-02-07T14:26:27.105038Z",
     "iopub.status.busy": "2023-02-07T14:26:27.104583Z",
     "iopub.status.idle": "2023-02-07T14:26:27.110221Z",
     "shell.execute_reply": "2023-02-07T14:26:27.109016Z"
    },
    "papermill": {
     "duration": 0.020499,
     "end_time": "2023-02-07T14:26:27.112699",
     "exception": false,
     "start_time": "2023-02-07T14:26:27.092200",
     "status": "completed"
    },
    "tags": []
   },
   "outputs": [],
   "source": [
    "topic, content = topic_content_match['en']"
   ]
  },
  {
   "cell_type": "code",
   "execution_count": 20,
   "id": "e18381b9",
   "metadata": {
    "execution": {
     "iopub.execute_input": "2023-02-07T14:26:27.136058Z",
     "iopub.status.busy": "2023-02-07T14:26:27.135574Z",
     "iopub.status.idle": "2023-02-07T14:26:27.148730Z",
     "shell.execute_reply": "2023-02-07T14:26:27.147474Z"
    },
    "papermill": {
     "duration": 0.02829,
     "end_time": "2023-02-07T14:26:27.151442",
     "exception": false,
     "start_time": "2023-02-07T14:26:27.123152",
     "status": "completed"
    },
    "tags": []
   },
   "outputs": [
    {
     "data": {
      "text/html": [
       "<div>\n",
       "<style scoped>\n",
       "    .dataframe tbody tr th:only-of-type {\n",
       "        vertical-align: middle;\n",
       "    }\n",
       "\n",
       "    .dataframe tbody tr th {\n",
       "        vertical-align: top;\n",
       "    }\n",
       "\n",
       "    .dataframe thead th {\n",
       "        text-align: right;\n",
       "    }\n",
       "</style>\n",
       "<table border=\"1\" class=\"dataframe\">\n",
       "  <thead>\n",
       "    <tr style=\"text-align: right;\">\n",
       "      <th></th>\n",
       "      <th>id</th>\n",
       "    </tr>\n",
       "  </thead>\n",
       "  <tbody>\n",
       "    <tr>\n",
       "      <th>2</th>\n",
       "      <td>t_00069b63a70a</td>\n",
       "    </tr>\n",
       "    <tr>\n",
       "      <th>5</th>\n",
       "      <td>t_0008a1bd84ba</td>\n",
       "    </tr>\n",
       "    <tr>\n",
       "      <th>6</th>\n",
       "      <td>t_000d1fb3f2f5</td>\n",
       "    </tr>\n",
       "    <tr>\n",
       "      <th>8</th>\n",
       "      <td>t_00102869fbcb</td>\n",
       "    </tr>\n",
       "    <tr>\n",
       "      <th>10</th>\n",
       "      <td>t_0012a45fa09c</td>\n",
       "    </tr>\n",
       "    <tr>\n",
       "      <th>...</th>\n",
       "      <td>...</td>\n",
       "    </tr>\n",
       "    <tr>\n",
       "      <th>61504</th>\n",
       "      <td>t_fff05585df72</td>\n",
       "    </tr>\n",
       "    <tr>\n",
       "      <th>61507</th>\n",
       "      <td>t_fff51448598c</td>\n",
       "    </tr>\n",
       "    <tr>\n",
       "      <th>61509</th>\n",
       "      <td>t_fff5da49c4d3</td>\n",
       "    </tr>\n",
       "    <tr>\n",
       "      <th>61510</th>\n",
       "      <td>t_fff7782561f4</td>\n",
       "    </tr>\n",
       "    <tr>\n",
       "      <th>61512</th>\n",
       "      <td>t_fff830472691</td>\n",
       "    </tr>\n",
       "  </tbody>\n",
       "</table>\n",
       "<p>28053 rows × 1 columns</p>\n",
       "</div>"
      ],
      "text/plain": [
       "                   id\n",
       "2      t_00069b63a70a\n",
       "5      t_0008a1bd84ba\n",
       "6      t_000d1fb3f2f5\n",
       "8      t_00102869fbcb\n",
       "10     t_0012a45fa09c\n",
       "...               ...\n",
       "61504  t_fff05585df72\n",
       "61507  t_fff51448598c\n",
       "61509  t_fff5da49c4d3\n",
       "61510  t_fff7782561f4\n",
       "61512  t_fff830472691\n",
       "\n",
       "[28053 rows x 1 columns]"
      ]
     },
     "execution_count": 20,
     "metadata": {},
     "output_type": "execute_result"
    }
   ],
   "source": [
    "topic"
   ]
  },
  {
   "cell_type": "code",
   "execution_count": 21,
   "id": "b39575b9",
   "metadata": {
    "execution": {
     "iopub.execute_input": "2023-02-07T14:26:27.175005Z",
     "iopub.status.busy": "2023-02-07T14:26:27.174486Z",
     "iopub.status.idle": "2023-02-07T14:26:27.188110Z",
     "shell.execute_reply": "2023-02-07T14:26:27.186724Z"
    },
    "papermill": {
     "duration": 0.028354,
     "end_time": "2023-02-07T14:26:27.190708",
     "exception": false,
     "start_time": "2023-02-07T14:26:27.162354",
     "status": "completed"
    },
    "tags": []
   },
   "outputs": [
    {
     "data": {
      "text/html": [
       "<div>\n",
       "<style scoped>\n",
       "    .dataframe tbody tr th:only-of-type {\n",
       "        vertical-align: middle;\n",
       "    }\n",
       "\n",
       "    .dataframe tbody tr th {\n",
       "        vertical-align: top;\n",
       "    }\n",
       "\n",
       "    .dataframe thead th {\n",
       "        text-align: right;\n",
       "    }\n",
       "</style>\n",
       "<table border=\"1\" class=\"dataframe\">\n",
       "  <thead>\n",
       "    <tr style=\"text-align: right;\">\n",
       "      <th></th>\n",
       "      <th>id</th>\n",
       "    </tr>\n",
       "  </thead>\n",
       "  <tbody>\n",
       "    <tr>\n",
       "      <th>5</th>\n",
       "      <td>c_00019840d110</td>\n",
       "    </tr>\n",
       "    <tr>\n",
       "      <th>8</th>\n",
       "      <td>c_00027d03ca7d</td>\n",
       "    </tr>\n",
       "    <tr>\n",
       "      <th>10</th>\n",
       "      <td>c_000425df0161</td>\n",
       "    </tr>\n",
       "    <tr>\n",
       "      <th>11</th>\n",
       "      <td>c_00046806ad8a</td>\n",
       "    </tr>\n",
       "    <tr>\n",
       "      <th>18</th>\n",
       "      <td>c_000751f58836</td>\n",
       "    </tr>\n",
       "    <tr>\n",
       "      <th>...</th>\n",
       "      <td>...</td>\n",
       "    </tr>\n",
       "    <tr>\n",
       "      <th>154035</th>\n",
       "      <td>c_fffa90b024e3</td>\n",
       "    </tr>\n",
       "    <tr>\n",
       "      <th>154041</th>\n",
       "      <td>c_fffbfc3d60c6</td>\n",
       "    </tr>\n",
       "    <tr>\n",
       "      <th>154042</th>\n",
       "      <td>c_fffcbdd4de8b</td>\n",
       "    </tr>\n",
       "    <tr>\n",
       "      <th>154045</th>\n",
       "      <td>c_ffff04ba7ac7</td>\n",
       "    </tr>\n",
       "    <tr>\n",
       "      <th>154046</th>\n",
       "      <td>c_ffffe5254266</td>\n",
       "    </tr>\n",
       "  </tbody>\n",
       "</table>\n",
       "<p>65939 rows × 1 columns</p>\n",
       "</div>"
      ],
      "text/plain": [
       "                    id\n",
       "5       c_00019840d110\n",
       "8       c_00027d03ca7d\n",
       "10      c_000425df0161\n",
       "11      c_00046806ad8a\n",
       "18      c_000751f58836\n",
       "...                ...\n",
       "154035  c_fffa90b024e3\n",
       "154041  c_fffbfc3d60c6\n",
       "154042  c_fffcbdd4de8b\n",
       "154045  c_ffff04ba7ac7\n",
       "154046  c_ffffe5254266\n",
       "\n",
       "[65939 rows x 1 columns]"
      ]
     },
     "execution_count": 21,
     "metadata": {},
     "output_type": "execute_result"
    }
   ],
   "source": [
    "content"
   ]
  },
  {
   "cell_type": "markdown",
   "id": "d947798c",
   "metadata": {
    "papermill": {
     "duration": 0.01013,
     "end_time": "2023-02-07T14:26:27.211703",
     "exception": false,
     "start_time": "2023-02-07T14:26:27.201573",
     "status": "completed"
    },
    "tags": []
   },
   "source": [
    "## TODOs"
   ]
  },
  {
   "cell_type": "markdown",
   "id": "479683a4",
   "metadata": {
    "papermill": {
     "duration": 0.01008,
     "end_time": "2023-02-07T14:26:27.232098",
     "exception": false,
     "start_time": "2023-02-07T14:26:27.222018",
     "status": "completed"
    },
    "tags": []
   },
   "source": [
    "### F2\n",
    "$$\n",
    "F2 = \\frac{5\\cdot{}precision\\cdot{}recall}{4\\cdot{}(precision+recall)}\n",
    "$$"
   ]
  },
  {
   "cell_type": "code",
   "execution_count": null,
   "id": "a18b04ed",
   "metadata": {
    "papermill": {
     "duration": 0.010063,
     "end_time": "2023-02-07T14:26:27.252653",
     "exception": false,
     "start_time": "2023-02-07T14:26:27.242590",
     "status": "completed"
    },
    "tags": []
   },
   "outputs": [],
   "source": []
  },
  {
   "cell_type": "markdown",
   "id": "eba6494a",
   "metadata": {
    "papermill": {
     "duration": 0.010028,
     "end_time": "2023-02-07T14:26:27.273250",
     "exception": false,
     "start_time": "2023-02-07T14:26:27.263222",
     "status": "completed"
    },
    "tags": []
   },
   "source": [
    "### Recall@N"
   ]
  },
  {
   "cell_type": "code",
   "execution_count": null,
   "id": "6b79ae74",
   "metadata": {
    "papermill": {
     "duration": 0.010749,
     "end_time": "2023-02-07T14:26:27.294438",
     "exception": false,
     "start_time": "2023-02-07T14:26:27.283689",
     "status": "completed"
    },
    "tags": []
   },
   "outputs": [],
   "source": []
  },
  {
   "cell_type": "code",
   "execution_count": null,
   "id": "16f38a61",
   "metadata": {
    "papermill": {
     "duration": 0.009915,
     "end_time": "2023-02-07T14:26:27.314730",
     "exception": false,
     "start_time": "2023-02-07T14:26:27.304815",
     "status": "completed"
    },
    "tags": []
   },
   "outputs": [],
   "source": []
  }
 ],
 "metadata": {
  "kernelspec": {
   "display_name": "Python 3",
   "language": "python",
   "name": "python3"
  },
  "language_info": {
   "codemirror_mode": {
    "name": "ipython",
    "version": 3
   },
   "file_extension": ".py",
   "mimetype": "text/x-python",
   "name": "python",
   "nbconvert_exporter": "python",
   "pygments_lexer": "ipython3",
   "version": "3.7.12"
  },
  "papermill": {
   "default_parameters": {},
   "duration": 165.366218,
   "end_time": "2023-02-07T14:26:28.755368",
   "environment_variables": {},
   "exception": null,
   "input_path": "__notebook__.ipynb",
   "output_path": "__notebook__.ipynb",
   "parameters": {},
   "start_time": "2023-02-07T14:23:43.389150",
   "version": "2.3.4"
  }
 },
 "nbformat": 4,
 "nbformat_minor": 5
}
