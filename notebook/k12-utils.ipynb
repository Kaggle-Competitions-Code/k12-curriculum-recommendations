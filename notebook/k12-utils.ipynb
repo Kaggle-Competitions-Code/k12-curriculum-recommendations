{
 "cells": [
  {
   "cell_type": "code",
   "execution_count": 1,
   "id": "4a1ff527",
   "metadata": {
    "execution": {
     "iopub.execute_input": "2023-02-07T06:04:14.407772Z",
     "iopub.status.busy": "2023-02-07T06:04:14.407221Z",
     "iopub.status.idle": "2023-02-07T06:04:15.633637Z",
     "shell.execute_reply": "2023-02-07T06:04:15.632485Z"
    },
    "papermill": {
     "duration": 1.238855,
     "end_time": "2023-02-07T06:04:15.637004",
     "exception": false,
     "start_time": "2023-02-07T06:04:14.398149",
     "status": "completed"
    },
    "tags": []
   },
   "outputs": [],
   "source": [
    "import pandas as pd\n",
    "import os\n",
    "\n",
    "from tqdm import tqdm\n",
    "from sklearn.model_selection import StratifiedGroupKFold, GroupKFold, KFold\n",
    "\n",
    "pd.set_option('display.max_rows', 100)"
   ]
  },
  {
   "cell_type": "code",
   "execution_count": 2,
   "id": "8e7fbb6a",
   "metadata": {
    "execution": {
     "iopub.execute_input": "2023-02-07T06:04:15.650643Z",
     "iopub.status.busy": "2023-02-07T06:04:15.649890Z",
     "iopub.status.idle": "2023-02-07T06:04:15.656156Z",
     "shell.execute_reply": "2023-02-07T06:04:15.655258Z"
    },
    "papermill": {
     "duration": 0.015293,
     "end_time": "2023-02-07T06:04:15.658169",
     "exception": false,
     "start_time": "2023-02-07T06:04:15.642876",
     "status": "completed"
    },
    "tags": []
   },
   "outputs": [],
   "source": [
    "class CFG:\n",
    "    input_dir = '/kaggle/input/learning-equality-curriculum-recommendations'\n",
    "    cv_dir = '/kaggle/working/cv_data'\n",
    "    \n",
    "    content_dir = os.path.join(input_dir, 'content.csv')\n",
    "    correlation_dir = os.path.join(input_dir, 'correlations.csv')\n",
    "    submission_dir = os.path.join(input_dir, 'sample_submission.csv')\n",
    "    topic_dir = os.path.join(input_dir, 'topics.csv')\n",
    "    \n",
    "    seed = 17\n",
    "    n_fold = 4"
   ]
  },
  {
   "cell_type": "code",
   "execution_count": 3,
   "id": "01fb1788",
   "metadata": {
    "execution": {
     "iopub.execute_input": "2023-02-07T06:04:15.671876Z",
     "iopub.status.busy": "2023-02-07T06:04:15.671121Z",
     "iopub.status.idle": "2023-02-07T06:04:40.588946Z",
     "shell.execute_reply": "2023-02-07T06:04:40.587783Z"
    },
    "papermill": {
     "duration": 24.92807,
     "end_time": "2023-02-07T06:04:40.591893",
     "exception": false,
     "start_time": "2023-02-07T06:04:15.663823",
     "status": "completed"
    },
    "tags": []
   },
   "outputs": [],
   "source": [
    "df_content = pd.read_csv(CFG.content_dir)\n",
    "df_corr = pd.read_csv(CFG.correlation_dir)\n",
    "df_sub = pd.read_csv(CFG.submission_dir)\n",
    "df_topic = pd.read_csv(CFG.topic_dir)"
   ]
  },
  {
   "cell_type": "code",
   "execution_count": 4,
   "id": "20f33973",
   "metadata": {
    "execution": {
     "iopub.execute_input": "2023-02-07T06:04:40.606403Z",
     "iopub.status.busy": "2023-02-07T06:04:40.605059Z",
     "iopub.status.idle": "2023-02-07T06:04:40.646599Z",
     "shell.execute_reply": "2023-02-07T06:04:40.645492Z"
    },
    "papermill": {
     "duration": 0.052197,
     "end_time": "2023-02-07T06:04:40.650134",
     "exception": false,
     "start_time": "2023-02-07T06:04:40.597937",
     "status": "completed"
    },
    "tags": []
   },
   "outputs": [
    {
     "data": {
      "text/plain": [
       "True     25003\n",
       "False     8482\n",
       "Name: has_content, dtype: int64"
      ]
     },
     "execution_count": 4,
     "metadata": {},
     "output_type": "execute_result"
    }
   ],
   "source": [
    "df_topic.query(\"category!='source'\")['has_content'].value_counts()"
   ]
  },
  {
   "cell_type": "code",
   "execution_count": 5,
   "id": "224eaccd",
   "metadata": {
    "execution": {
     "iopub.execute_input": "2023-02-07T06:04:40.664461Z",
     "iopub.status.busy": "2023-02-07T06:04:40.663390Z",
     "iopub.status.idle": "2023-02-07T06:04:40.674247Z",
     "shell.execute_reply": "2023-02-07T06:04:40.673128Z"
    },
    "papermill": {
     "duration": 0.020858,
     "end_time": "2023-02-07T06:04:40.676884",
     "exception": false,
     "start_time": "2023-02-07T06:04:40.656026",
     "status": "completed"
    },
    "tags": []
   },
   "outputs": [
    {
     "data": {
      "text/plain": [
       "True     61517\n",
       "False    15455\n",
       "Name: has_content, dtype: int64"
      ]
     },
     "execution_count": 5,
     "metadata": {},
     "output_type": "execute_result"
    }
   ],
   "source": [
    "df_topic['has_content'].value_counts()"
   ]
  },
  {
   "cell_type": "markdown",
   "id": "2b7faf78",
   "metadata": {
    "papermill": {
     "duration": 0.005665,
     "end_time": "2023-02-07T06:04:40.689015",
     "exception": false,
     "start_time": "2023-02-07T06:04:40.683350",
     "status": "completed"
    },
    "tags": []
   },
   "source": [
    "## 准备训练数据"
   ]
  },
  {
   "cell_type": "code",
   "execution_count": 6,
   "id": "9d8d5198",
   "metadata": {
    "execution": {
     "iopub.execute_input": "2023-02-07T06:04:40.702859Z",
     "iopub.status.busy": "2023-02-07T06:04:40.702393Z",
     "iopub.status.idle": "2023-02-07T06:04:40.715378Z",
     "shell.execute_reply": "2023-02-07T06:04:40.714101Z"
    },
    "papermill": {
     "duration": 0.023125,
     "end_time": "2023-02-07T06:04:40.718129",
     "exception": false,
     "start_time": "2023-02-07T06:04:40.695004",
     "status": "completed"
    },
    "tags": []
   },
   "outputs": [],
   "source": [
    "def prepare_topic(cfg):\n",
    "    topic = pd.read_csv(cfg.topic_dir)\n",
    "    topic['title'] = topic['title'].fillna(topic[\"description\"]).fillna('')\n",
    "    return topic\n",
    "    \n",
    "def prepare_content(cfg):\n",
    "    content = pd.read_csv(cfg.content_dir)\n",
    "    content['title'] = content['title'].fillna(content[\"description\"]).fillna(content['text']).fillna('')\n",
    "    return content\n",
    "\n",
    "def prepare_correlation(cfg):\n",
    "    correlation = pd.read_csv(cfg.correlation_dir)\n",
    "    correlation['content_id']=correlation['content_ids'].apply(lambda x: x.split())\n",
    "    correlation = correlation.explode('content_id').drop(columns='content_ids')\n",
    "    return correlation\n",
    "\n",
    "def merge_train_data(cfg, content_cols=['id', 'title'], topic_cols=['id', 'title']):\n",
    "    dup_cols = ['id', 'title', 'description', 'language']\n",
    "    topic = prepare_topic(cfg)\n",
    "    content = prepare_content(cfg)\n",
    "    correlation = prepare_correlation(cfg)\n",
    "    correlation = (\n",
    "        correlation\n",
    "        .merge(content[content_cols], left_on='content_id', right_on='id', how='left')\n",
    "        .drop(columns='id')\n",
    "        .rename(columns=dict(zip(dup_cols, ['content_'+x for x in dup_cols])))\n",
    "        .merge(topic[topic_cols], left_on='topic_id', right_on='id', how='left')\n",
    "        .drop(columns='id')\n",
    "        .rename(columns=dict(zip(dup_cols, ['topic_'+x for x in dup_cols])))\n",
    "    )\n",
    "    return correlation"
   ]
  },
  {
   "cell_type": "code",
   "execution_count": 7,
   "id": "e559f7d0",
   "metadata": {
    "execution": {
     "iopub.execute_input": "2023-02-07T06:04:40.732106Z",
     "iopub.status.busy": "2023-02-07T06:04:40.731614Z",
     "iopub.status.idle": "2023-02-07T06:04:56.703074Z",
     "shell.execute_reply": "2023-02-07T06:04:56.701777Z"
    },
    "papermill": {
     "duration": 15.981445,
     "end_time": "2023-02-07T06:04:56.705655",
     "exception": false,
     "start_time": "2023-02-07T06:04:40.724210",
     "status": "completed"
    },
    "tags": []
   },
   "outputs": [
    {
     "name": "stdout",
     "output_type": "stream",
     "text": [
      "CPU times: user 13.4 s, sys: 2.57 s, total: 15.9 s\n",
      "Wall time: 15.9 s\n"
     ]
    },
    {
     "data": {
      "text/html": [
       "<div>\n",
       "<style scoped>\n",
       "    .dataframe tbody tr th:only-of-type {\n",
       "        vertical-align: middle;\n",
       "    }\n",
       "\n",
       "    .dataframe tbody tr th {\n",
       "        vertical-align: top;\n",
       "    }\n",
       "\n",
       "    .dataframe thead th {\n",
       "        text-align: right;\n",
       "    }\n",
       "</style>\n",
       "<table border=\"1\" class=\"dataframe\">\n",
       "  <thead>\n",
       "    <tr style=\"text-align: right;\">\n",
       "      <th></th>\n",
       "      <th>topic_id</th>\n",
       "      <th>content_id</th>\n",
       "      <th>content_title</th>\n",
       "      <th>content_description</th>\n",
       "      <th>content_language</th>\n",
       "      <th>topic_title</th>\n",
       "      <th>topic_description</th>\n",
       "      <th>channel</th>\n",
       "      <th>category</th>\n",
       "      <th>topic_language</th>\n",
       "    </tr>\n",
       "  </thead>\n",
       "  <tbody>\n",
       "    <tr>\n",
       "      <th>0</th>\n",
       "      <td>t_00004da3a1b2</td>\n",
       "      <td>c_1108dd0c7a5d</td>\n",
       "      <td>Молив като резистор</td>\n",
       "      <td>Моливът причинява промяна в отклонението, подо...</td>\n",
       "      <td>bg</td>\n",
       "      <td>Откриването на резисторите</td>\n",
       "      <td>Изследване на материали, които предизвикват на...</td>\n",
       "      <td>000cf7</td>\n",
       "      <td>source</td>\n",
       "      <td>bg</td>\n",
       "    </tr>\n",
       "    <tr>\n",
       "      <th>1</th>\n",
       "      <td>t_00004da3a1b2</td>\n",
       "      <td>c_376c5a8eb028</td>\n",
       "      <td>Да чуем променливото съпротивление</td>\n",
       "      <td>Тук чертаем линия на лист хартия и я използвам...</td>\n",
       "      <td>bg</td>\n",
       "      <td>Откриването на резисторите</td>\n",
       "      <td>Изследване на материали, които предизвикват на...</td>\n",
       "      <td>000cf7</td>\n",
       "      <td>source</td>\n",
       "      <td>bg</td>\n",
       "    </tr>\n",
       "    <tr>\n",
       "      <th>2</th>\n",
       "      <td>t_00004da3a1b2</td>\n",
       "      <td>c_5bc0e1e2cba0</td>\n",
       "      <td>Променлив резистор (реостат) с графит от молив</td>\n",
       "      <td>Използваме сърцевината на молива (неговия граф...</td>\n",
       "      <td>bg</td>\n",
       "      <td>Откриването на резисторите</td>\n",
       "      <td>Изследване на материали, които предизвикват на...</td>\n",
       "      <td>000cf7</td>\n",
       "      <td>source</td>\n",
       "      <td>bg</td>\n",
       "    </tr>\n",
       "    <tr>\n",
       "      <th>3</th>\n",
       "      <td>t_00004da3a1b2</td>\n",
       "      <td>c_76231f9d0b5e</td>\n",
       "      <td>Последователно свързване на галваничен елемент...</td>\n",
       "      <td>Защо отклонението се променя, когато се свърже...</td>\n",
       "      <td>bg</td>\n",
       "      <td>Откриването на резисторите</td>\n",
       "      <td>Изследване на материали, които предизвикват на...</td>\n",
       "      <td>000cf7</td>\n",
       "      <td>source</td>\n",
       "      <td>bg</td>\n",
       "    </tr>\n",
       "    <tr>\n",
       "      <th>4</th>\n",
       "      <td>t_00068291e9a4</td>\n",
       "      <td>c_639ea2ef9c95</td>\n",
       "      <td>Dados e resultados de funções: gráficos</td>\n",
       "      <td>Encontre todas as entradas que correspondem a ...</td>\n",
       "      <td>pt</td>\n",
       "      <td>Entradas e saídas de uma função</td>\n",
       "      <td>Entenda um pouco mais sobre funções.</td>\n",
       "      <td>8e286a</td>\n",
       "      <td>source</td>\n",
       "      <td>pt</td>\n",
       "    </tr>\n",
       "    <tr>\n",
       "      <th>...</th>\n",
       "      <td>...</td>\n",
       "      <td>...</td>\n",
       "      <td>...</td>\n",
       "      <td>...</td>\n",
       "      <td>...</td>\n",
       "      <td>...</td>\n",
       "      <td>...</td>\n",
       "      <td>...</td>\n",
       "      <td>...</td>\n",
       "      <td>...</td>\n",
       "    </tr>\n",
       "    <tr>\n",
       "      <th>279914</th>\n",
       "      <td>t_fff9e5407d13</td>\n",
       "      <td>c_d64037a72376</td>\n",
       "      <td>Introducción: El periódico</td>\n",
       "      <td>NaN</td>\n",
       "      <td>es</td>\n",
       "      <td>NA_U06 - El periódico</td>\n",
       "      <td>NaN</td>\n",
       "      <td>71fd51</td>\n",
       "      <td>supplemental</td>\n",
       "      <td>es</td>\n",
       "    </tr>\n",
       "    <tr>\n",
       "      <th>279915</th>\n",
       "      <td>t_fffbe1d5d43c</td>\n",
       "      <td>c_46f852a49c08</td>\n",
       "      <td>Proof: Right triangles inscribed in circles -d...</td>\n",
       "      <td>Proof showing that a triangle inscribed in a c...</td>\n",
       "      <td>sw</td>\n",
       "      <td>Inscribed shapes problem solving</td>\n",
       "      <td>Use properties of inscribed angles to prove pr...</td>\n",
       "      <td>0c929f</td>\n",
       "      <td>source</td>\n",
       "      <td>sw</td>\n",
       "    </tr>\n",
       "    <tr>\n",
       "      <th>279916</th>\n",
       "      <td>t_fffbe1d5d43c</td>\n",
       "      <td>c_6659207b25d5</td>\n",
       "      <td>Area of inscribed equilateral triangle -dubbed...</td>\n",
       "      <td>A worked example of finding the area of an equ...</td>\n",
       "      <td>sw</td>\n",
       "      <td>Inscribed shapes problem solving</td>\n",
       "      <td>Use properties of inscribed angles to prove pr...</td>\n",
       "      <td>0c929f</td>\n",
       "      <td>source</td>\n",
       "      <td>sw</td>\n",
       "    </tr>\n",
       "    <tr>\n",
       "      <th>279917</th>\n",
       "      <td>t_fffe14f1be1e</td>\n",
       "      <td>c_cece166bad6a</td>\n",
       "      <td>Juego con las palabras</td>\n",
       "      <td>NaN</td>\n",
       "      <td>es</td>\n",
       "      <td>Lección 7</td>\n",
       "      <td>NaN</td>\n",
       "      <td>6e90a7</td>\n",
       "      <td>aligned</td>\n",
       "      <td>es</td>\n",
       "    </tr>\n",
       "    <tr>\n",
       "      <th>279918</th>\n",
       "      <td>t_fffe811a6da9</td>\n",
       "      <td>c_92b8fad372ee</td>\n",
       "      <td>التقييم</td>\n",
       "      <td>5b0a30e7b42e8704a45b2bfd</td>\n",
       "      <td>ar</td>\n",
       "      <td>تحديد العلاقة بين الإحداثيّات القطبية والإحداث...</td>\n",
       "      <td>5b9e5ca86571f90499ea987f</td>\n",
       "      <td>9fd860</td>\n",
       "      <td>source</td>\n",
       "      <td>ar</td>\n",
       "    </tr>\n",
       "  </tbody>\n",
       "</table>\n",
       "<p>279919 rows × 10 columns</p>\n",
       "</div>"
      ],
      "text/plain": [
       "              topic_id      content_id  \\\n",
       "0       t_00004da3a1b2  c_1108dd0c7a5d   \n",
       "1       t_00004da3a1b2  c_376c5a8eb028   \n",
       "2       t_00004da3a1b2  c_5bc0e1e2cba0   \n",
       "3       t_00004da3a1b2  c_76231f9d0b5e   \n",
       "4       t_00068291e9a4  c_639ea2ef9c95   \n",
       "...                ...             ...   \n",
       "279914  t_fff9e5407d13  c_d64037a72376   \n",
       "279915  t_fffbe1d5d43c  c_46f852a49c08   \n",
       "279916  t_fffbe1d5d43c  c_6659207b25d5   \n",
       "279917  t_fffe14f1be1e  c_cece166bad6a   \n",
       "279918  t_fffe811a6da9  c_92b8fad372ee   \n",
       "\n",
       "                                            content_title  \\\n",
       "0                                     Молив като резистор   \n",
       "1                      Да чуем променливото съпротивление   \n",
       "2          Променлив резистор (реостат) с графит от молив   \n",
       "3       Последователно свързване на галваничен елемент...   \n",
       "4                 Dados e resultados de funções: gráficos   \n",
       "...                                                   ...   \n",
       "279914                         Introducción: El periódico   \n",
       "279915  Proof: Right triangles inscribed in circles -d...   \n",
       "279916  Area of inscribed equilateral triangle -dubbed...   \n",
       "279917                             Juego con las palabras   \n",
       "279918                                            التقييم   \n",
       "\n",
       "                                      content_description content_language  \\\n",
       "0       Моливът причинява промяна в отклонението, подо...               bg   \n",
       "1       Тук чертаем линия на лист хартия и я използвам...               bg   \n",
       "2       Използваме сърцевината на молива (неговия граф...               bg   \n",
       "3       Защо отклонението се променя, когато се свърже...               bg   \n",
       "4       Encontre todas as entradas que correspondem a ...               pt   \n",
       "...                                                   ...              ...   \n",
       "279914                                                NaN               es   \n",
       "279915  Proof showing that a triangle inscribed in a c...               sw   \n",
       "279916  A worked example of finding the area of an equ...               sw   \n",
       "279917                                                NaN               es   \n",
       "279918                           5b0a30e7b42e8704a45b2bfd               ar   \n",
       "\n",
       "                                              topic_title  \\\n",
       "0                              Откриването на резисторите   \n",
       "1                              Откриването на резисторите   \n",
       "2                              Откриването на резисторите   \n",
       "3                              Откриването на резисторите   \n",
       "4                         Entradas e saídas de uma função   \n",
       "...                                                   ...   \n",
       "279914                              NA_U06 - El periódico   \n",
       "279915                   Inscribed shapes problem solving   \n",
       "279916                   Inscribed shapes problem solving   \n",
       "279917                                          Lección 7   \n",
       "279918  تحديد العلاقة بين الإحداثيّات القطبية والإحداث...   \n",
       "\n",
       "                                        topic_description channel  \\\n",
       "0       Изследване на материали, които предизвикват на...  000cf7   \n",
       "1       Изследване на материали, които предизвикват на...  000cf7   \n",
       "2       Изследване на материали, които предизвикват на...  000cf7   \n",
       "3       Изследване на материали, които предизвикват на...  000cf7   \n",
       "4                    Entenda um pouco mais sobre funções.  8e286a   \n",
       "...                                                   ...     ...   \n",
       "279914                                                NaN  71fd51   \n",
       "279915  Use properties of inscribed angles to prove pr...  0c929f   \n",
       "279916  Use properties of inscribed angles to prove pr...  0c929f   \n",
       "279917                                                NaN  6e90a7   \n",
       "279918                           5b9e5ca86571f90499ea987f  9fd860   \n",
       "\n",
       "            category topic_language  \n",
       "0             source             bg  \n",
       "1             source             bg  \n",
       "2             source             bg  \n",
       "3             source             bg  \n",
       "4             source             pt  \n",
       "...              ...            ...  \n",
       "279914  supplemental             es  \n",
       "279915        source             sw  \n",
       "279916        source             sw  \n",
       "279917       aligned             es  \n",
       "279918        source             ar  \n",
       "\n",
       "[279919 rows x 10 columns]"
      ]
     },
     "execution_count": 7,
     "metadata": {},
     "output_type": "execute_result"
    }
   ],
   "source": [
    "%%time\n",
    "content_cols = ['id', 'title', 'description', 'language']\n",
    "topic_cols = ['id', 'title', 'description', 'channel', 'category', 'language']\n",
    "df_train = merge_train_data(CFG, content_cols, topic_cols)\n",
    "df_train"
   ]
  },
  {
   "cell_type": "markdown",
   "id": "bb022e33",
   "metadata": {
    "papermill": {
     "duration": 0.006041,
     "end_time": "2023-02-07T06:04:56.718252",
     "exception": false,
     "start_time": "2023-02-07T06:04:56.712211",
     "status": "completed"
    },
    "tags": []
   },
   "source": [
    "## One Fold CV"
   ]
  },
  {
   "cell_type": "markdown",
   "id": "e1e57f84",
   "metadata": {
    "papermill": {
     "duration": 0.005916,
     "end_time": "2023-02-07T06:04:56.730480",
     "exception": false,
     "start_time": "2023-02-07T06:04:56.724564",
     "status": "completed"
    },
    "tags": []
   },
   "source": [
    "### Train Valid Split\n",
    "1. 同一个channel的category唯一\n",
    "2. 不同语言的字数统计方式不同，按字长分可能对部分语言不友好\n",
    "3. 合适的candidate feature for split有channel category language[???]\n",
    "4. test set中的channel会出现训练集中有过的channel + 全新的channel\n",
    "5. test set中的category只有aligned和supplemental，没有source\n",
    "6. 将train set和valid set中的content分很开可能没用，因为测试环境中的content是训练集content的超集"
   ]
  },
  {
   "cell_type": "code",
   "execution_count": 8,
   "id": "46995ac9",
   "metadata": {
    "execution": {
     "iopub.execute_input": "2023-02-07T06:04:56.745421Z",
     "iopub.status.busy": "2023-02-07T06:04:56.744524Z",
     "iopub.status.idle": "2023-02-07T06:04:56.755064Z",
     "shell.execute_reply": "2023-02-07T06:04:56.753993Z"
    },
    "papermill": {
     "duration": 0.020456,
     "end_time": "2023-02-07T06:04:56.757193",
     "exception": false,
     "start_time": "2023-02-07T06:04:56.736737",
     "status": "completed"
    },
    "tags": []
   },
   "outputs": [],
   "source": [
    "def cv_split(df_train, cfg):\n",
    "    df_train['fold'] = -1\n",
    "    df_candidates = df_train[df_train[\"category\"]!='source'].copy(deep=True)\n",
    "    df_candidates['count'] = df_candidates.groupby('channel')['channel'].transform('count')\n",
    "    df_shared_topic = df_candidates.query('count > 4000').reset_index(drop=True)\n",
    "    df_independent_topic = df_candidates.query('count <= 4000').reset_index(drop=True)\n",
    "    gkf = GroupKFold(n_splits=cfg.n_fold)\n",
    "    for i, (train_index, test_index) in enumerate(gkf.split(df_independent_topic, \n",
    "                                                            df_independent_topic['category'], \n",
    "                                                            df_independent_topic['channel'],)):\n",
    "        df_independent_topic.loc[test_index, 'fold'] = i\n",
    "    for i, (train_index, test_index) in enumerate(gkf.split(df_shared_topic,\n",
    "                                                            df_shared_topic['channel'],\n",
    "                                                            df_shared_topic['topic_id'],)):\n",
    "        df_shared_topic.loc[test_index, 'fold'] = i\n",
    "    df_source = df_train.query('category==\"source\"')\n",
    "    df_train.drop(columns='fold', inplace=True)\n",
    "    df_train = pd.concat([df_independent_topic, df_shared_topic, df_source]).reset_index(drop=True)\n",
    "    df_train = df_train.drop(columns=['count'])\n",
    "    return df_train"
   ]
  },
  {
   "cell_type": "code",
   "execution_count": 9,
   "id": "7f44c5ef",
   "metadata": {
    "execution": {
     "iopub.execute_input": "2023-02-07T06:04:56.772277Z",
     "iopub.status.busy": "2023-02-07T06:04:56.771453Z",
     "iopub.status.idle": "2023-02-07T06:04:57.381428Z",
     "shell.execute_reply": "2023-02-07T06:04:57.379851Z"
    },
    "papermill": {
     "duration": 0.620577,
     "end_time": "2023-02-07T06:04:57.384179",
     "exception": false,
     "start_time": "2023-02-07T06:04:56.763602",
     "status": "completed"
    },
    "tags": []
   },
   "outputs": [
    {
     "name": "stdout",
     "output_type": "stream",
     "text": [
      "CPU times: user 554 ms, sys: 46.8 ms, total: 600 ms\n",
      "Wall time: 602 ms\n"
     ]
    }
   ],
   "source": [
    "%%time\n",
    "df_train = cv_split(df_train, CFG)"
   ]
  },
  {
   "cell_type": "code",
   "execution_count": 10,
   "id": "f108de20",
   "metadata": {
    "execution": {
     "iopub.execute_input": "2023-02-07T06:04:57.399280Z",
     "iopub.status.busy": "2023-02-07T06:04:57.398833Z",
     "iopub.status.idle": "2023-02-07T06:04:57.534595Z",
     "shell.execute_reply": "2023-02-07T06:04:57.533375Z"
    },
    "papermill": {
     "duration": 0.146983,
     "end_time": "2023-02-07T06:04:57.537661",
     "exception": false,
     "start_time": "2023-02-07T06:04:57.390678",
     "status": "completed"
    },
    "tags": []
   },
   "outputs": [],
   "source": [
    "tk0 = (df_train.query('fold!=0'), df_train.query('fold!=0'))"
   ]
  },
  {
   "cell_type": "markdown",
   "id": "d18e639f",
   "metadata": {
    "papermill": {
     "duration": 0.006071,
     "end_time": "2023-02-07T06:04:57.551367",
     "exception": false,
     "start_time": "2023-02-07T06:04:57.545296",
     "status": "completed"
    },
    "tags": []
   },
   "source": [
    "Save train test dataset"
   ]
  },
  {
   "cell_type": "code",
   "execution_count": 11,
   "id": "07d51a7c",
   "metadata": {
    "execution": {
     "iopub.execute_input": "2023-02-07T06:04:57.566465Z",
     "iopub.status.busy": "2023-02-07T06:04:57.565395Z",
     "iopub.status.idle": "2023-02-07T06:04:57.571138Z",
     "shell.execute_reply": "2023-02-07T06:04:57.570105Z"
    },
    "papermill": {
     "duration": 0.015759,
     "end_time": "2023-02-07T06:04:57.573430",
     "exception": false,
     "start_time": "2023-02-07T06:04:57.557671",
     "status": "completed"
    },
    "tags": []
   },
   "outputs": [],
   "source": [
    "if not os.path.exists(CFG.cv_dir):\n",
    "    os.makedirs(CFG.cv_dir)"
   ]
  },
  {
   "cell_type": "code",
   "execution_count": 12,
   "id": "45e6d00a",
   "metadata": {
    "execution": {
     "iopub.execute_input": "2023-02-07T06:04:57.588321Z",
     "iopub.status.busy": "2023-02-07T06:04:57.587899Z",
     "iopub.status.idle": "2023-02-07T06:06:33.325480Z",
     "shell.execute_reply": "2023-02-07T06:06:33.324317Z"
    },
    "papermill": {
     "duration": 95.75547,
     "end_time": "2023-02-07T06:06:33.335532",
     "exception": false,
     "start_time": "2023-02-07T06:04:57.580062",
     "status": "completed"
    },
    "tags": []
   },
   "outputs": [
    {
     "name": "stderr",
     "output_type": "stream",
     "text": [
      "100%|██████████| 4/4 [01:35<00:00, 23.93s/it]"
     ]
    },
    {
     "name": "stdout",
     "output_type": "stream",
     "text": [
      "CPU times: user 1min 30s, sys: 4.75 s, total: 1min 35s\n",
      "Wall time: 1min 35s\n"
     ]
    },
    {
     "name": "stderr",
     "output_type": "stream",
     "text": [
      "\n"
     ]
    }
   ],
   "source": [
    "%%time\n",
    "for i in tqdm(range(CFG.n_fold)):\n",
    "    dir_name = os.path.join(CFG.cv_dir, f'fold_{i}')\n",
    "    if not os.path.exists(dir_name):\n",
    "        os.makedirs(dir_name)\n",
    "    train = df_train.query('fold!=@i')\n",
    "    test = df_train.query('fold==@i')\n",
    "    correlations = train.groupby('topic_id')['content_id'].apply(lambda x: \" \".join(x)).reset_index(name='content_ids')\n",
    "    submission = test.groupby('topic_id')['content_id'].apply(lambda x: \" \".join(x)).reset_index(name='content_ids')\n",
    "    \n",
    "    df_topic.to_csv(os.path.join(dir_name, 'topics.csv'))\n",
    "    df_content.to_csv(os.path.join(dir_name, 'content.csv'))\n",
    "    correlations.to_csv(os.path.join(dir_name, 'correlations.csv'))\n",
    "    submission.to_csv(os.path.join(dir_name, 'sample_submission.csv'))"
   ]
  },
  {
   "cell_type": "code",
   "execution_count": 13,
   "id": "337e1519",
   "metadata": {
    "execution": {
     "iopub.execute_input": "2023-02-07T06:06:33.351964Z",
     "iopub.status.busy": "2023-02-07T06:06:33.351433Z",
     "iopub.status.idle": "2023-02-07T06:06:35.705877Z",
     "shell.execute_reply": "2023-02-07T06:06:35.703977Z"
    },
    "papermill": {
     "duration": 2.366586,
     "end_time": "2023-02-07T06:06:35.709244",
     "exception": false,
     "start_time": "2023-02-07T06:06:33.342658",
     "status": "completed"
    },
    "tags": []
   },
   "outputs": [
    {
     "name": "stdout",
     "output_type": "stream",
     "text": [
      "fold_0\tfold_1\tfold_2\tfold_3\r\n",
      "content.csv  correlations.csv  sample_submission.csv  topics.csv\r\n"
     ]
    }
   ],
   "source": [
    "!ls cv_data\n",
    "!ls cv_data/fold_0"
   ]
  },
  {
   "cell_type": "markdown",
   "id": "24acfa01",
   "metadata": {
    "papermill": {
     "duration": 0.006959,
     "end_time": "2023-02-07T06:06:35.724010",
     "exception": false,
     "start_time": "2023-02-07T06:06:35.717051",
     "status": "completed"
    },
    "tags": []
   },
   "source": [
    "## 为叶子topic抽取先前节点的特征\n",
    "仅包含has_content=True的特征"
   ]
  },
  {
   "cell_type": "code",
   "execution_count": 14,
   "id": "8631e927",
   "metadata": {
    "execution": {
     "iopub.execute_input": "2023-02-07T06:06:35.742417Z",
     "iopub.status.busy": "2023-02-07T06:06:35.741916Z",
     "iopub.status.idle": "2023-02-07T06:06:35.755562Z",
     "shell.execute_reply": "2023-02-07T06:06:35.754129Z"
    },
    "papermill": {
     "duration": 0.026654,
     "end_time": "2023-02-07T06:06:35.758441",
     "exception": false,
     "start_time": "2023-02-07T06:06:35.731787",
     "status": "completed"
    },
    "tags": []
   },
   "outputs": [],
   "source": [
    "# function to extract the level features for each leaf topic\n",
    "def get_level_features(df_topic, level_cols=['title']):\n",
    "    df_hier = df_topic[set(level_cols + ['id', 'parent', 'level', 'has_content'])]\n",
    "    highest_level = df_hier['level'].max()\n",
    "    print(f'Highest Level: {highest_level}')\n",
    "    \n",
    "    df_level = df_hier.query('level == 0').copy(deep=True)\n",
    "    level_list = list()\n",
    "    for col in level_cols:\n",
    "        df_level[f'{col}_level'] = df_level[f'{col}'].apply(lambda x: [x])\n",
    "\n",
    "    for i in tqdm(range(highest_level + 1)):\n",
    "        level_list.append(df_level[df_level['has_content']])\n",
    "        df_level_high = df_hier.query('level == @i+1')\n",
    "        df_level = df_level_high.merge(df_level, left_on='parent', right_on='id', suffixes=['', '_parent'], how='inner')\n",
    "        for col in level_cols:\n",
    "            df_level[f'{col}_level'] = df_level[f'{col}_level'] + df_level[f'{col}'].apply(lambda x: [x])\n",
    "        for col in df_level.columns:\n",
    "            if col.endswith('_parent'):\n",
    "                df_level.drop(columns=col, inplace=True)\n",
    "    df = pd.concat(level_list).reset_index(drop=True)\n",
    "    return df[set(['id'] + [f'{col}_level' for col in level_cols])]"
   ]
  },
  {
   "cell_type": "code",
   "execution_count": 15,
   "id": "cc09bf09",
   "metadata": {
    "execution": {
     "iopub.execute_input": "2023-02-07T06:06:35.775160Z",
     "iopub.status.busy": "2023-02-07T06:06:35.774661Z",
     "iopub.status.idle": "2023-02-07T06:06:38.849227Z",
     "shell.execute_reply": "2023-02-07T06:06:38.848202Z"
    },
    "papermill": {
     "duration": 3.08611,
     "end_time": "2023-02-07T06:06:38.852041",
     "exception": false,
     "start_time": "2023-02-07T06:06:35.765931",
     "status": "completed"
    },
    "tags": []
   },
   "outputs": [
    {
     "name": "stdout",
     "output_type": "stream",
     "text": [
      "Highest Level: 10\n"
     ]
    },
    {
     "name": "stderr",
     "output_type": "stream",
     "text": [
      "100%|██████████| 11/11 [00:02<00:00,  3.94it/s]\n"
     ]
    },
    {
     "name": "stdout",
     "output_type": "stream",
     "text": [
      "CPU times: user 2.94 s, sys: 98.7 ms, total: 3.03 s\n",
      "Wall time: 3.03 s\n"
     ]
    },
    {
     "data": {
      "text/html": [
       "<div>\n",
       "<style scoped>\n",
       "    .dataframe tbody tr th:only-of-type {\n",
       "        vertical-align: middle;\n",
       "    }\n",
       "\n",
       "    .dataframe tbody tr th {\n",
       "        vertical-align: top;\n",
       "    }\n",
       "\n",
       "    .dataframe thead th {\n",
       "        text-align: right;\n",
       "    }\n",
       "</style>\n",
       "<table border=\"1\" class=\"dataframe\">\n",
       "  <thead>\n",
       "    <tr style=\"text-align: right;\">\n",
       "      <th></th>\n",
       "      <th>id_level</th>\n",
       "      <th>has_content_level</th>\n",
       "      <th>description_level</th>\n",
       "      <th>language_level</th>\n",
       "      <th>id</th>\n",
       "      <th>level_level</th>\n",
       "      <th>title_level</th>\n",
       "    </tr>\n",
       "  </thead>\n",
       "  <tbody>\n",
       "    <tr>\n",
       "      <th>0</th>\n",
       "      <td>[t_10035396d740]</td>\n",
       "      <td>[True]</td>\n",
       "      <td>[]</td>\n",
       "      <td>[ar]</td>\n",
       "      <td>t_10035396d740</td>\n",
       "      <td>[0]</td>\n",
       "      <td>[قناة كم كلمة لتمكين المعلّمين الناطقين باللغة...</td>\n",
       "    </tr>\n",
       "    <tr>\n",
       "      <th>1</th>\n",
       "      <td>[t_30dd476279c8]</td>\n",
       "      <td>[True]</td>\n",
       "      <td>[]</td>\n",
       "      <td>[en]</td>\n",
       "      <td>t_30dd476279c8</td>\n",
       "      <td>[0]</td>\n",
       "      <td>[Medicine]</td>\n",
       "    </tr>\n",
       "    <tr>\n",
       "      <th>2</th>\n",
       "      <td>[t_3efcae0132f0]</td>\n",
       "      <td>[True]</td>\n",
       "      <td>[]</td>\n",
       "      <td>[ar]</td>\n",
       "      <td>t_3efcae0132f0</td>\n",
       "      <td>[0]</td>\n",
       "      <td>[وزارة التربية والتعليم الأردنية]</td>\n",
       "    </tr>\n",
       "    <tr>\n",
       "      <th>3</th>\n",
       "      <td>[t_470986f56fbe]</td>\n",
       "      <td>[True]</td>\n",
       "      <td>[]</td>\n",
       "      <td>[en]</td>\n",
       "      <td>t_470986f56fbe</td>\n",
       "      <td>[0]</td>\n",
       "      <td>[Khan Academy - Standardized Test Preparation]</td>\n",
       "    </tr>\n",
       "    <tr>\n",
       "      <th>4</th>\n",
       "      <td>[t_72d1321023d9]</td>\n",
       "      <td>[True]</td>\n",
       "      <td>[]</td>\n",
       "      <td>[es]</td>\n",
       "      <td>t_72d1321023d9</td>\n",
       "      <td>[0]</td>\n",
       "      <td>[Matemáticas Quinto Grado (Guatemala)]</td>\n",
       "    </tr>\n",
       "    <tr>\n",
       "      <th>...</th>\n",
       "      <td>...</td>\n",
       "      <td>...</td>\n",
       "      <td>...</td>\n",
       "      <td>...</td>\n",
       "      <td>...</td>\n",
       "      <td>...</td>\n",
       "      <td>...</td>\n",
       "    </tr>\n",
       "    <tr>\n",
       "      <th>61512</th>\n",
       "      <td>[t_44623019938d, t_0d57669638bd, t_4cc29e19e15...</td>\n",
       "      <td>[False, False, True, False, True, True, True, ...</td>\n",
       "      <td>[, , , , , , , , , ]</td>\n",
       "      <td>[es, es, es, es, es, es, es, es, es, es]</td>\n",
       "      <td>t_ed58066fa353</td>\n",
       "      <td>[0, 1, 2, 3, 4, 5, 6, 7, 8, 9]</td>\n",
       "      <td>[Ganar - Habilidades para el Trabajo, Laborato...</td>\n",
       "    </tr>\n",
       "    <tr>\n",
       "      <th>61513</th>\n",
       "      <td>[t_44623019938d, t_0d57669638bd, t_4cc29e19e15...</td>\n",
       "      <td>[False, False, True, False, True, True, True, ...</td>\n",
       "      <td>[, , , , , , , , , ]</td>\n",
       "      <td>[es, es, es, es, es, es, es, es, es, es]</td>\n",
       "      <td>t_d7e92d224506</td>\n",
       "      <td>[0, 1, 2, 3, 4, 5, 6, 7, 8, 9]</td>\n",
       "      <td>[Ganar - Habilidades para el Trabajo, Laborato...</td>\n",
       "    </tr>\n",
       "    <tr>\n",
       "      <th>61514</th>\n",
       "      <td>[t_44623019938d, t_0d57669638bd, t_4cc29e19e15...</td>\n",
       "      <td>[False, False, True, False, True, False, True,...</td>\n",
       "      <td>[, , , , , , , , , ]</td>\n",
       "      <td>[es, es, es, es, es, es, es, es, es, es]</td>\n",
       "      <td>t_f60d6940436e</td>\n",
       "      <td>[0, 1, 2, 3, 4, 5, 6, 7, 8, 9]</td>\n",
       "      <td>[Ganar - Habilidades para el Trabajo, Laborato...</td>\n",
       "    </tr>\n",
       "    <tr>\n",
       "      <th>61515</th>\n",
       "      <td>[t_44623019938d, t_0d57669638bd, t_4cc29e19e15...</td>\n",
       "      <td>[False, False, True, False, True, True, True, ...</td>\n",
       "      <td>[, , , , , , , , , , ]</td>\n",
       "      <td>[es, es, es, es, es, es, es, es, es, es, es]</td>\n",
       "      <td>t_2cb874d9bfed</td>\n",
       "      <td>[0, 1, 2, 3, 4, 5, 6, 7, 8, 9, 10]</td>\n",
       "      <td>[Ganar - Habilidades para el Trabajo, Laborato...</td>\n",
       "    </tr>\n",
       "    <tr>\n",
       "      <th>61516</th>\n",
       "      <td>[t_44623019938d, t_0d57669638bd, t_4cc29e19e15...</td>\n",
       "      <td>[False, False, True, False, True, True, True, ...</td>\n",
       "      <td>[, , , , , , , , , , ]</td>\n",
       "      <td>[es, es, es, es, es, es, es, es, es, es, es]</td>\n",
       "      <td>t_b245cd8697dd</td>\n",
       "      <td>[0, 1, 2, 3, 4, 5, 6, 7, 8, 9, 10]</td>\n",
       "      <td>[Ganar - Habilidades para el Trabajo, Laborato...</td>\n",
       "    </tr>\n",
       "  </tbody>\n",
       "</table>\n",
       "<p>61517 rows × 7 columns</p>\n",
       "</div>"
      ],
      "text/plain": [
       "                                                id_level  \\\n",
       "0                                       [t_10035396d740]   \n",
       "1                                       [t_30dd476279c8]   \n",
       "2                                       [t_3efcae0132f0]   \n",
       "3                                       [t_470986f56fbe]   \n",
       "4                                       [t_72d1321023d9]   \n",
       "...                                                  ...   \n",
       "61512  [t_44623019938d, t_0d57669638bd, t_4cc29e19e15...   \n",
       "61513  [t_44623019938d, t_0d57669638bd, t_4cc29e19e15...   \n",
       "61514  [t_44623019938d, t_0d57669638bd, t_4cc29e19e15...   \n",
       "61515  [t_44623019938d, t_0d57669638bd, t_4cc29e19e15...   \n",
       "61516  [t_44623019938d, t_0d57669638bd, t_4cc29e19e15...   \n",
       "\n",
       "                                       has_content_level  \\\n",
       "0                                                 [True]   \n",
       "1                                                 [True]   \n",
       "2                                                 [True]   \n",
       "3                                                 [True]   \n",
       "4                                                 [True]   \n",
       "...                                                  ...   \n",
       "61512  [False, False, True, False, True, True, True, ...   \n",
       "61513  [False, False, True, False, True, True, True, ...   \n",
       "61514  [False, False, True, False, True, False, True,...   \n",
       "61515  [False, False, True, False, True, True, True, ...   \n",
       "61516  [False, False, True, False, True, True, True, ...   \n",
       "\n",
       "            description_level                                language_level  \\\n",
       "0                          []                                          [ar]   \n",
       "1                          []                                          [en]   \n",
       "2                          []                                          [ar]   \n",
       "3                          []                                          [en]   \n",
       "4                          []                                          [es]   \n",
       "...                       ...                                           ...   \n",
       "61512    [, , , , , , , , , ]      [es, es, es, es, es, es, es, es, es, es]   \n",
       "61513    [, , , , , , , , , ]      [es, es, es, es, es, es, es, es, es, es]   \n",
       "61514    [, , , , , , , , , ]      [es, es, es, es, es, es, es, es, es, es]   \n",
       "61515  [, , , , , , , , , , ]  [es, es, es, es, es, es, es, es, es, es, es]   \n",
       "61516  [, , , , , , , , , , ]  [es, es, es, es, es, es, es, es, es, es, es]   \n",
       "\n",
       "                   id                         level_level  \\\n",
       "0      t_10035396d740                                 [0]   \n",
       "1      t_30dd476279c8                                 [0]   \n",
       "2      t_3efcae0132f0                                 [0]   \n",
       "3      t_470986f56fbe                                 [0]   \n",
       "4      t_72d1321023d9                                 [0]   \n",
       "...               ...                                 ...   \n",
       "61512  t_ed58066fa353      [0, 1, 2, 3, 4, 5, 6, 7, 8, 9]   \n",
       "61513  t_d7e92d224506      [0, 1, 2, 3, 4, 5, 6, 7, 8, 9]   \n",
       "61514  t_f60d6940436e      [0, 1, 2, 3, 4, 5, 6, 7, 8, 9]   \n",
       "61515  t_2cb874d9bfed  [0, 1, 2, 3, 4, 5, 6, 7, 8, 9, 10]   \n",
       "61516  t_b245cd8697dd  [0, 1, 2, 3, 4, 5, 6, 7, 8, 9, 10]   \n",
       "\n",
       "                                             title_level  \n",
       "0      [قناة كم كلمة لتمكين المعلّمين الناطقين باللغة...  \n",
       "1                                             [Medicine]  \n",
       "2                      [وزارة التربية والتعليم الأردنية]  \n",
       "3         [Khan Academy - Standardized Test Preparation]  \n",
       "4                 [Matemáticas Quinto Grado (Guatemala)]  \n",
       "...                                                  ...  \n",
       "61512  [Ganar - Habilidades para el Trabajo, Laborato...  \n",
       "61513  [Ganar - Habilidades para el Trabajo, Laborato...  \n",
       "61514  [Ganar - Habilidades para el Trabajo, Laborato...  \n",
       "61515  [Ganar - Habilidades para el Trabajo, Laborato...  \n",
       "61516  [Ganar - Habilidades para el Trabajo, Laborato...  \n",
       "\n",
       "[61517 rows x 7 columns]"
      ]
     },
     "execution_count": 15,
     "metadata": {},
     "output_type": "execute_result"
    }
   ],
   "source": [
    "%%time\n",
    "level_cols = ['id', 'title', 'description', 'level', 'language', 'has_content']\n",
    "df_level = get_level_features(df_topic.fillna(''), level_cols)\n",
    "df_level"
   ]
  },
  {
   "cell_type": "markdown",
   "id": "29e1b10b",
   "metadata": {
    "papermill": {
     "duration": 0.008684,
     "end_time": "2023-02-07T06:06:38.869361",
     "exception": false,
     "start_time": "2023-02-07T06:06:38.860677",
     "status": "completed"
    },
    "tags": []
   },
   "source": [
    "## TODOs"
   ]
  },
  {
   "cell_type": "code",
   "execution_count": null,
   "id": "74339cff",
   "metadata": {
    "papermill": {
     "duration": 0.008309,
     "end_time": "2023-02-07T06:06:38.887578",
     "exception": false,
     "start_time": "2023-02-07T06:06:38.879269",
     "status": "completed"
    },
    "tags": []
   },
   "outputs": [],
   "source": []
  },
  {
   "cell_type": "code",
   "execution_count": null,
   "id": "ffb2fdc0",
   "metadata": {
    "papermill": {
     "duration": 0.008098,
     "end_time": "2023-02-07T06:06:38.904180",
     "exception": false,
     "start_time": "2023-02-07T06:06:38.896082",
     "status": "completed"
    },
    "tags": []
   },
   "outputs": [],
   "source": []
  }
 ],
 "metadata": {
  "kernelspec": {
   "display_name": "Python 3",
   "language": "python",
   "name": "python3"
  },
  "language_info": {
   "codemirror_mode": {
    "name": "ipython",
    "version": 3
   },
   "file_extension": ".py",
   "mimetype": "text/x-python",
   "name": "python",
   "nbconvert_exporter": "python",
   "pygments_lexer": "ipython3",
   "version": "3.7.12"
  },
  "papermill": {
   "default_parameters": {},
   "duration": 155.165761,
   "end_time": "2023-02-07T06:06:40.641095",
   "environment_variables": {},
   "exception": null,
   "input_path": "__notebook__.ipynb",
   "output_path": "__notebook__.ipynb",
   "parameters": {},
   "start_time": "2023-02-07T06:04:05.475334",
   "version": "2.3.4"
  }
 },
 "nbformat": 4,
 "nbformat_minor": 5
}
