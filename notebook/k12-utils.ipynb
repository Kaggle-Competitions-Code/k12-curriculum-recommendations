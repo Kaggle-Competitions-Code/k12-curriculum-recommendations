{
 "cells": [
  {
   "cell_type": "code",
   "execution_count": 1,
   "id": "11e7a8ac",
   "metadata": {
    "execution": {
     "iopub.execute_input": "2023-02-08T03:32:20.750792Z",
     "iopub.status.busy": "2023-02-08T03:32:20.749318Z",
     "iopub.status.idle": "2023-02-08T03:32:21.894720Z",
     "shell.execute_reply": "2023-02-08T03:32:21.893502Z"
    },
    "papermill": {
     "duration": 1.15911,
     "end_time": "2023-02-08T03:32:21.897922",
     "exception": false,
     "start_time": "2023-02-08T03:32:20.738812",
     "status": "completed"
    },
    "tags": []
   },
   "outputs": [],
   "source": [
    "import pandas as pd\n",
    "import os\n",
    "\n",
    "from tqdm import tqdm\n",
    "from sklearn.model_selection import StratifiedGroupKFold, GroupKFold, KFold\n",
    "\n",
    "pd.set_option('display.max_rows', 100)"
   ]
  },
  {
   "cell_type": "code",
   "execution_count": 2,
   "id": "c4442a67",
   "metadata": {
    "execution": {
     "iopub.execute_input": "2023-02-08T03:32:21.914753Z",
     "iopub.status.busy": "2023-02-08T03:32:21.914300Z",
     "iopub.status.idle": "2023-02-08T03:32:21.921006Z",
     "shell.execute_reply": "2023-02-08T03:32:21.919778Z"
    },
    "papermill": {
     "duration": 0.017973,
     "end_time": "2023-02-08T03:32:21.923536",
     "exception": false,
     "start_time": "2023-02-08T03:32:21.905563",
     "status": "completed"
    },
    "tags": []
   },
   "outputs": [],
   "source": [
    "class CFG:\n",
    "    input_dir = '/kaggle/input/learning-equality-curriculum-recommendations'\n",
    "    cv_dir = '/kaggle/working/cv_data'\n",
    "    \n",
    "    content_dir = os.path.join(input_dir, 'content.csv')\n",
    "    correlation_dir = os.path.join(input_dir, 'correlations.csv')\n",
    "    submission_dir = os.path.join(input_dir, 'sample_submission.csv')\n",
    "    topic_dir = os.path.join(input_dir, 'topics.csv')\n",
    "    \n",
    "    max_len = 38\n",
    "    seed = 17\n",
    "    n_fold = 4"
   ]
  },
  {
   "cell_type": "code",
   "execution_count": 3,
   "id": "0a9aff6f",
   "metadata": {
    "execution": {
     "iopub.execute_input": "2023-02-08T03:32:21.940172Z",
     "iopub.status.busy": "2023-02-08T03:32:21.939772Z",
     "iopub.status.idle": "2023-02-08T03:32:46.214189Z",
     "shell.execute_reply": "2023-02-08T03:32:46.212847Z"
    },
    "papermill": {
     "duration": 24.286519,
     "end_time": "2023-02-08T03:32:46.217464",
     "exception": false,
     "start_time": "2023-02-08T03:32:21.930945",
     "status": "completed"
    },
    "tags": []
   },
   "outputs": [],
   "source": [
    "df_content = pd.read_csv(CFG.content_dir)\n",
    "df_corr = pd.read_csv(CFG.correlation_dir)\n",
    "df_sub = pd.read_csv(CFG.submission_dir)\n",
    "df_topic = pd.read_csv(CFG.topic_dir)"
   ]
  },
  {
   "cell_type": "code",
   "execution_count": 4,
   "id": "f6feb303",
   "metadata": {
    "execution": {
     "iopub.execute_input": "2023-02-08T03:32:46.234182Z",
     "iopub.status.busy": "2023-02-08T03:32:46.233796Z",
     "iopub.status.idle": "2023-02-08T03:32:46.271075Z",
     "shell.execute_reply": "2023-02-08T03:32:46.270033Z"
    },
    "papermill": {
     "duration": 0.048974,
     "end_time": "2023-02-08T03:32:46.274099",
     "exception": false,
     "start_time": "2023-02-08T03:32:46.225125",
     "status": "completed"
    },
    "tags": []
   },
   "outputs": [
    {
     "data": {
      "text/plain": [
       "True     25003\n",
       "False     8482\n",
       "Name: has_content, dtype: int64"
      ]
     },
     "execution_count": 4,
     "metadata": {},
     "output_type": "execute_result"
    }
   ],
   "source": [
    "df_topic.query(\"category!='source'\")['has_content'].value_counts()"
   ]
  },
  {
   "cell_type": "code",
   "execution_count": 5,
   "id": "11fc8338",
   "metadata": {
    "execution": {
     "iopub.execute_input": "2023-02-08T03:32:46.292283Z",
     "iopub.status.busy": "2023-02-08T03:32:46.291183Z",
     "iopub.status.idle": "2023-02-08T03:32:46.299539Z",
     "shell.execute_reply": "2023-02-08T03:32:46.298676Z"
    },
    "papermill": {
     "duration": 0.01969,
     "end_time": "2023-02-08T03:32:46.301586",
     "exception": false,
     "start_time": "2023-02-08T03:32:46.281896",
     "status": "completed"
    },
    "tags": []
   },
   "outputs": [
    {
     "data": {
      "text/plain": [
       "True     61517\n",
       "False    15455\n",
       "Name: has_content, dtype: int64"
      ]
     },
     "execution_count": 5,
     "metadata": {},
     "output_type": "execute_result"
    }
   ],
   "source": [
    "df_topic['has_content'].value_counts()"
   ]
  },
  {
   "cell_type": "markdown",
   "id": "71135687",
   "metadata": {
    "papermill": {
     "duration": 0.007258,
     "end_time": "2023-02-08T03:32:46.316506",
     "exception": false,
     "start_time": "2023-02-08T03:32:46.309248",
     "status": "completed"
    },
    "tags": []
   },
   "source": [
    "## 准备训练数据"
   ]
  },
  {
   "cell_type": "code",
   "execution_count": 6,
   "id": "e9907566",
   "metadata": {
    "execution": {
     "iopub.execute_input": "2023-02-08T03:32:46.334119Z",
     "iopub.status.busy": "2023-02-08T03:32:46.333115Z",
     "iopub.status.idle": "2023-02-08T03:32:46.344668Z",
     "shell.execute_reply": "2023-02-08T03:32:46.343734Z"
    },
    "papermill": {
     "duration": 0.023018,
     "end_time": "2023-02-08T03:32:46.347163",
     "exception": false,
     "start_time": "2023-02-08T03:32:46.324145",
     "status": "completed"
    },
    "tags": []
   },
   "outputs": [],
   "source": [
    "def prepare_topic(cfg):\n",
    "    topic = pd.read_csv(cfg.topic_dir)\n",
    "    topic['title'] = topic['title'].fillna(topic[\"description\"]).fillna('')\n",
    "    return topic\n",
    "    \n",
    "def prepare_content(cfg):\n",
    "    content = pd.read_csv(cfg.content_dir)\n",
    "    content['title'] = content['title'].fillna(content[\"description\"]).fillna(content['text']).fillna('')\n",
    "    return content\n",
    "\n",
    "def prepare_correlation(cfg):\n",
    "    correlation = pd.read_csv(cfg.correlation_dir)\n",
    "    correlation['content_id']=correlation['content_ids'].apply(lambda x: x.split())\n",
    "    correlation = correlation.explode('content_id').drop(columns='content_ids')\n",
    "    return correlation\n",
    "\n",
    "def merge_train_data(cfg, content_cols=['id', 'title'], topic_cols=['id', 'title']):\n",
    "    dup_cols = ['id', 'title', 'description', 'language']\n",
    "    topic = prepare_topic(cfg)\n",
    "    content = prepare_content(cfg)\n",
    "    correlation = prepare_correlation(cfg)\n",
    "    correlation = (\n",
    "        correlation\n",
    "        .merge(content[content_cols], left_on='content_id', right_on='id', how='left')\n",
    "        .drop(columns='id')\n",
    "        .rename(columns=dict(zip(dup_cols, ['content_'+x for x in dup_cols])))\n",
    "        .merge(topic[topic_cols], left_on='topic_id', right_on='id', how='left')\n",
    "        .drop(columns='id')\n",
    "        .rename(columns=dict(zip(dup_cols, ['topic_'+x for x in dup_cols])))\n",
    "    )\n",
    "    return correlation"
   ]
  },
  {
   "cell_type": "code",
   "execution_count": 7,
   "id": "ad335ca2",
   "metadata": {
    "execution": {
     "iopub.execute_input": "2023-02-08T03:32:46.365522Z",
     "iopub.status.busy": "2023-02-08T03:32:46.365084Z",
     "iopub.status.idle": "2023-02-08T03:33:01.325572Z",
     "shell.execute_reply": "2023-02-08T03:33:01.324114Z"
    },
    "papermill": {
     "duration": 14.972619,
     "end_time": "2023-02-08T03:33:01.328637",
     "exception": false,
     "start_time": "2023-02-08T03:32:46.356018",
     "status": "completed"
    },
    "tags": []
   },
   "outputs": [
    {
     "name": "stdout",
     "output_type": "stream",
     "text": [
      "CPU times: user 12.9 s, sys: 2.05 s, total: 14.9 s\n",
      "Wall time: 14.9 s\n"
     ]
    },
    {
     "data": {
      "text/html": [
       "<div>\n",
       "<style scoped>\n",
       "    .dataframe tbody tr th:only-of-type {\n",
       "        vertical-align: middle;\n",
       "    }\n",
       "\n",
       "    .dataframe tbody tr th {\n",
       "        vertical-align: top;\n",
       "    }\n",
       "\n",
       "    .dataframe thead th {\n",
       "        text-align: right;\n",
       "    }\n",
       "</style>\n",
       "<table border=\"1\" class=\"dataframe\">\n",
       "  <thead>\n",
       "    <tr style=\"text-align: right;\">\n",
       "      <th></th>\n",
       "      <th>topic_id</th>\n",
       "      <th>content_id</th>\n",
       "      <th>content_title</th>\n",
       "      <th>content_description</th>\n",
       "      <th>content_language</th>\n",
       "      <th>topic_title</th>\n",
       "      <th>topic_description</th>\n",
       "      <th>channel</th>\n",
       "      <th>category</th>\n",
       "      <th>topic_language</th>\n",
       "    </tr>\n",
       "  </thead>\n",
       "  <tbody>\n",
       "    <tr>\n",
       "      <th>0</th>\n",
       "      <td>t_00004da3a1b2</td>\n",
       "      <td>c_1108dd0c7a5d</td>\n",
       "      <td>Молив като резистор</td>\n",
       "      <td>Моливът причинява промяна в отклонението, подо...</td>\n",
       "      <td>bg</td>\n",
       "      <td>Откриването на резисторите</td>\n",
       "      <td>Изследване на материали, които предизвикват на...</td>\n",
       "      <td>000cf7</td>\n",
       "      <td>source</td>\n",
       "      <td>bg</td>\n",
       "    </tr>\n",
       "    <tr>\n",
       "      <th>1</th>\n",
       "      <td>t_00004da3a1b2</td>\n",
       "      <td>c_376c5a8eb028</td>\n",
       "      <td>Да чуем променливото съпротивление</td>\n",
       "      <td>Тук чертаем линия на лист хартия и я използвам...</td>\n",
       "      <td>bg</td>\n",
       "      <td>Откриването на резисторите</td>\n",
       "      <td>Изследване на материали, които предизвикват на...</td>\n",
       "      <td>000cf7</td>\n",
       "      <td>source</td>\n",
       "      <td>bg</td>\n",
       "    </tr>\n",
       "    <tr>\n",
       "      <th>2</th>\n",
       "      <td>t_00004da3a1b2</td>\n",
       "      <td>c_5bc0e1e2cba0</td>\n",
       "      <td>Променлив резистор (реостат) с графит от молив</td>\n",
       "      <td>Използваме сърцевината на молива (неговия граф...</td>\n",
       "      <td>bg</td>\n",
       "      <td>Откриването на резисторите</td>\n",
       "      <td>Изследване на материали, които предизвикват на...</td>\n",
       "      <td>000cf7</td>\n",
       "      <td>source</td>\n",
       "      <td>bg</td>\n",
       "    </tr>\n",
       "    <tr>\n",
       "      <th>3</th>\n",
       "      <td>t_00004da3a1b2</td>\n",
       "      <td>c_76231f9d0b5e</td>\n",
       "      <td>Последователно свързване на галваничен елемент...</td>\n",
       "      <td>Защо отклонението се променя, когато се свърже...</td>\n",
       "      <td>bg</td>\n",
       "      <td>Откриването на резисторите</td>\n",
       "      <td>Изследване на материали, които предизвикват на...</td>\n",
       "      <td>000cf7</td>\n",
       "      <td>source</td>\n",
       "      <td>bg</td>\n",
       "    </tr>\n",
       "    <tr>\n",
       "      <th>4</th>\n",
       "      <td>t_00068291e9a4</td>\n",
       "      <td>c_639ea2ef9c95</td>\n",
       "      <td>Dados e resultados de funções: gráficos</td>\n",
       "      <td>Encontre todas as entradas que correspondem a ...</td>\n",
       "      <td>pt</td>\n",
       "      <td>Entradas e saídas de uma função</td>\n",
       "      <td>Entenda um pouco mais sobre funções.</td>\n",
       "      <td>8e286a</td>\n",
       "      <td>source</td>\n",
       "      <td>pt</td>\n",
       "    </tr>\n",
       "    <tr>\n",
       "      <th>...</th>\n",
       "      <td>...</td>\n",
       "      <td>...</td>\n",
       "      <td>...</td>\n",
       "      <td>...</td>\n",
       "      <td>...</td>\n",
       "      <td>...</td>\n",
       "      <td>...</td>\n",
       "      <td>...</td>\n",
       "      <td>...</td>\n",
       "      <td>...</td>\n",
       "    </tr>\n",
       "    <tr>\n",
       "      <th>279914</th>\n",
       "      <td>t_fff9e5407d13</td>\n",
       "      <td>c_d64037a72376</td>\n",
       "      <td>Introducción: El periódico</td>\n",
       "      <td>NaN</td>\n",
       "      <td>es</td>\n",
       "      <td>NA_U06 - El periódico</td>\n",
       "      <td>NaN</td>\n",
       "      <td>71fd51</td>\n",
       "      <td>supplemental</td>\n",
       "      <td>es</td>\n",
       "    </tr>\n",
       "    <tr>\n",
       "      <th>279915</th>\n",
       "      <td>t_fffbe1d5d43c</td>\n",
       "      <td>c_46f852a49c08</td>\n",
       "      <td>Proof: Right triangles inscribed in circles -d...</td>\n",
       "      <td>Proof showing that a triangle inscribed in a c...</td>\n",
       "      <td>sw</td>\n",
       "      <td>Inscribed shapes problem solving</td>\n",
       "      <td>Use properties of inscribed angles to prove pr...</td>\n",
       "      <td>0c929f</td>\n",
       "      <td>source</td>\n",
       "      <td>sw</td>\n",
       "    </tr>\n",
       "    <tr>\n",
       "      <th>279916</th>\n",
       "      <td>t_fffbe1d5d43c</td>\n",
       "      <td>c_6659207b25d5</td>\n",
       "      <td>Area of inscribed equilateral triangle -dubbed...</td>\n",
       "      <td>A worked example of finding the area of an equ...</td>\n",
       "      <td>sw</td>\n",
       "      <td>Inscribed shapes problem solving</td>\n",
       "      <td>Use properties of inscribed angles to prove pr...</td>\n",
       "      <td>0c929f</td>\n",
       "      <td>source</td>\n",
       "      <td>sw</td>\n",
       "    </tr>\n",
       "    <tr>\n",
       "      <th>279917</th>\n",
       "      <td>t_fffe14f1be1e</td>\n",
       "      <td>c_cece166bad6a</td>\n",
       "      <td>Juego con las palabras</td>\n",
       "      <td>NaN</td>\n",
       "      <td>es</td>\n",
       "      <td>Lección 7</td>\n",
       "      <td>NaN</td>\n",
       "      <td>6e90a7</td>\n",
       "      <td>aligned</td>\n",
       "      <td>es</td>\n",
       "    </tr>\n",
       "    <tr>\n",
       "      <th>279918</th>\n",
       "      <td>t_fffe811a6da9</td>\n",
       "      <td>c_92b8fad372ee</td>\n",
       "      <td>التقييم</td>\n",
       "      <td>5b0a30e7b42e8704a45b2bfd</td>\n",
       "      <td>ar</td>\n",
       "      <td>تحديد العلاقة بين الإحداثيّات القطبية والإحداث...</td>\n",
       "      <td>5b9e5ca86571f90499ea987f</td>\n",
       "      <td>9fd860</td>\n",
       "      <td>source</td>\n",
       "      <td>ar</td>\n",
       "    </tr>\n",
       "  </tbody>\n",
       "</table>\n",
       "<p>279919 rows × 10 columns</p>\n",
       "</div>"
      ],
      "text/plain": [
       "              topic_id      content_id  \\\n",
       "0       t_00004da3a1b2  c_1108dd0c7a5d   \n",
       "1       t_00004da3a1b2  c_376c5a8eb028   \n",
       "2       t_00004da3a1b2  c_5bc0e1e2cba0   \n",
       "3       t_00004da3a1b2  c_76231f9d0b5e   \n",
       "4       t_00068291e9a4  c_639ea2ef9c95   \n",
       "...                ...             ...   \n",
       "279914  t_fff9e5407d13  c_d64037a72376   \n",
       "279915  t_fffbe1d5d43c  c_46f852a49c08   \n",
       "279916  t_fffbe1d5d43c  c_6659207b25d5   \n",
       "279917  t_fffe14f1be1e  c_cece166bad6a   \n",
       "279918  t_fffe811a6da9  c_92b8fad372ee   \n",
       "\n",
       "                                            content_title  \\\n",
       "0                                     Молив като резистор   \n",
       "1                      Да чуем променливото съпротивление   \n",
       "2          Променлив резистор (реостат) с графит от молив   \n",
       "3       Последователно свързване на галваничен елемент...   \n",
       "4                 Dados e resultados de funções: gráficos   \n",
       "...                                                   ...   \n",
       "279914                         Introducción: El periódico   \n",
       "279915  Proof: Right triangles inscribed in circles -d...   \n",
       "279916  Area of inscribed equilateral triangle -dubbed...   \n",
       "279917                             Juego con las palabras   \n",
       "279918                                            التقييم   \n",
       "\n",
       "                                      content_description content_language  \\\n",
       "0       Моливът причинява промяна в отклонението, подо...               bg   \n",
       "1       Тук чертаем линия на лист хартия и я използвам...               bg   \n",
       "2       Използваме сърцевината на молива (неговия граф...               bg   \n",
       "3       Защо отклонението се променя, когато се свърже...               bg   \n",
       "4       Encontre todas as entradas que correspondem a ...               pt   \n",
       "...                                                   ...              ...   \n",
       "279914                                                NaN               es   \n",
       "279915  Proof showing that a triangle inscribed in a c...               sw   \n",
       "279916  A worked example of finding the area of an equ...               sw   \n",
       "279917                                                NaN               es   \n",
       "279918                           5b0a30e7b42e8704a45b2bfd               ar   \n",
       "\n",
       "                                              topic_title  \\\n",
       "0                              Откриването на резисторите   \n",
       "1                              Откриването на резисторите   \n",
       "2                              Откриването на резисторите   \n",
       "3                              Откриването на резисторите   \n",
       "4                         Entradas e saídas de uma função   \n",
       "...                                                   ...   \n",
       "279914                              NA_U06 - El periódico   \n",
       "279915                   Inscribed shapes problem solving   \n",
       "279916                   Inscribed shapes problem solving   \n",
       "279917                                          Lección 7   \n",
       "279918  تحديد العلاقة بين الإحداثيّات القطبية والإحداث...   \n",
       "\n",
       "                                        topic_description channel  \\\n",
       "0       Изследване на материали, които предизвикват на...  000cf7   \n",
       "1       Изследване на материали, които предизвикват на...  000cf7   \n",
       "2       Изследване на материали, които предизвикват на...  000cf7   \n",
       "3       Изследване на материали, които предизвикват на...  000cf7   \n",
       "4                    Entenda um pouco mais sobre funções.  8e286a   \n",
       "...                                                   ...     ...   \n",
       "279914                                                NaN  71fd51   \n",
       "279915  Use properties of inscribed angles to prove pr...  0c929f   \n",
       "279916  Use properties of inscribed angles to prove pr...  0c929f   \n",
       "279917                                                NaN  6e90a7   \n",
       "279918                           5b9e5ca86571f90499ea987f  9fd860   \n",
       "\n",
       "            category topic_language  \n",
       "0             source             bg  \n",
       "1             source             bg  \n",
       "2             source             bg  \n",
       "3             source             bg  \n",
       "4             source             pt  \n",
       "...              ...            ...  \n",
       "279914  supplemental             es  \n",
       "279915        source             sw  \n",
       "279916        source             sw  \n",
       "279917       aligned             es  \n",
       "279918        source             ar  \n",
       "\n",
       "[279919 rows x 10 columns]"
      ]
     },
     "execution_count": 7,
     "metadata": {},
     "output_type": "execute_result"
    }
   ],
   "source": [
    "%%time\n",
    "content_cols = ['id', 'title', 'description', 'language']\n",
    "topic_cols = ['id', 'title', 'description', 'channel', 'category', 'language']\n",
    "df_train = merge_train_data(CFG, content_cols, topic_cols)\n",
    "df_train"
   ]
  },
  {
   "cell_type": "markdown",
   "id": "da0c77ac",
   "metadata": {
    "papermill": {
     "duration": 0.00782,
     "end_time": "2023-02-08T03:33:01.345050",
     "exception": false,
     "start_time": "2023-02-08T03:33:01.337230",
     "status": "completed"
    },
    "tags": []
   },
   "source": [
    "## One Fold CV"
   ]
  },
  {
   "cell_type": "markdown",
   "id": "b079e2f7",
   "metadata": {
    "papermill": {
     "duration": 0.008446,
     "end_time": "2023-02-08T03:33:01.361565",
     "exception": false,
     "start_time": "2023-02-08T03:33:01.353119",
     "status": "completed"
    },
    "tags": []
   },
   "source": [
    "### Train Valid Split\n",
    "1. 同一个channel的category唯一\n",
    "2. 不同语言的字数统计方式不同，按字长分可能对部分语言不友好\n",
    "3. 合适的candidate feature for split有channel category language[???]\n",
    "4. test set中的channel会出现训练集中有过的channel + 全新的channel\n",
    "5. test set中的category只有aligned和supplemental，没有source\n",
    "6. 将train set和valid set中的content分很开可能没用，因为测试环境中的content是训练集content的超集"
   ]
  },
  {
   "cell_type": "code",
   "execution_count": 8,
   "id": "032ff5fe",
   "metadata": {
    "execution": {
     "iopub.execute_input": "2023-02-08T03:33:01.379831Z",
     "iopub.status.busy": "2023-02-08T03:33:01.379393Z",
     "iopub.status.idle": "2023-02-08T03:33:01.391526Z",
     "shell.execute_reply": "2023-02-08T03:33:01.389974Z"
    },
    "papermill": {
     "duration": 0.024178,
     "end_time": "2023-02-08T03:33:01.394014",
     "exception": false,
     "start_time": "2023-02-08T03:33:01.369836",
     "status": "completed"
    },
    "tags": []
   },
   "outputs": [],
   "source": [
    "def cv_split(df_train, cfg):\n",
    "    df_train['fold'] = -1\n",
    "    df_candidates = df_train[df_train[\"category\"]!='source'].copy(deep=True).reset_index(drop=True)\n",
    "    df_candidates['count'] = df_candidates.groupby('channel')['channel'].transform('count')\n",
    "    df_shared_topic = df_candidates.query('count > 4000').reset_index(drop=True)\n",
    "    df_independent_topic = df_candidates.query('count <= 4000').reset_index(drop=True)\n",
    "    gkf = GroupKFold(n_splits=cfg.n_fold)\n",
    "#     for i, (train_index, test_index) in enumerate(gkf.split(df_candidates, \n",
    "#                                                             df_candidates['topic_language'], \n",
    "#                                                             df_candidates['channel'],)):\n",
    "#         df_candidates.loc[test_index, 'fold'] = i\n",
    "    for i, (train_index, test_index) in enumerate(gkf.split(df_independent_topic, \n",
    "                                                            df_independent_topic['topic_language'], \n",
    "                                                            df_independent_topic['channel'],)):\n",
    "        df_independent_topic.loc[test_index, 'fold'] = i\n",
    "    for i, (train_index, test_index) in enumerate(gkf.split(df_shared_topic,\n",
    "                                                            df_shared_topic['channel'],\n",
    "                                                            df_shared_topic['topic_id'],)):\n",
    "        df_shared_topic.loc[test_index, 'fold'] = i\n",
    "\n",
    "    df_source = df_train.query('category==\"source\"')\n",
    "    df_train.drop(columns='fold', inplace=True)\n",
    "    df_train = pd.concat([df_independent_topic, df_shared_topic, df_source]).reset_index(drop=True)\n",
    "#     df_train = pd.concat([df_candidates, df_source]).reset_index(drop=True)\n",
    "\n",
    "    df_train = df_train.drop(columns=['count'])\n",
    "    return df_train"
   ]
  },
  {
   "cell_type": "code",
   "execution_count": 9,
   "id": "4fc9479a",
   "metadata": {
    "execution": {
     "iopub.execute_input": "2023-02-08T03:33:01.412288Z",
     "iopub.status.busy": "2023-02-08T03:33:01.411875Z",
     "iopub.status.idle": "2023-02-08T03:33:01.964499Z",
     "shell.execute_reply": "2023-02-08T03:33:01.963260Z"
    },
    "papermill": {
     "duration": 0.564841,
     "end_time": "2023-02-08T03:33:01.966998",
     "exception": false,
     "start_time": "2023-02-08T03:33:01.402157",
     "status": "completed"
    },
    "tags": []
   },
   "outputs": [
    {
     "name": "stdout",
     "output_type": "stream",
     "text": [
      "CPU times: user 500 ms, sys: 44.7 ms, total: 545 ms\n",
      "Wall time: 546 ms\n"
     ]
    }
   ],
   "source": [
    "%%time\n",
    "df_train = cv_split(df_train, CFG)"
   ]
  },
  {
   "cell_type": "code",
   "execution_count": 10,
   "id": "3e87e501",
   "metadata": {
    "execution": {
     "iopub.execute_input": "2023-02-08T03:33:01.985479Z",
     "iopub.status.busy": "2023-02-08T03:33:01.984819Z",
     "iopub.status.idle": "2023-02-08T03:33:02.050672Z",
     "shell.execute_reply": "2023-02-08T03:33:02.049452Z"
    },
    "papermill": {
     "duration": 0.078766,
     "end_time": "2023-02-08T03:33:02.053818",
     "exception": false,
     "start_time": "2023-02-08T03:33:01.975052",
     "status": "completed"
    },
    "tags": []
   },
   "outputs": [
    {
     "data": {
      "text/plain": [
       "channel  topic_language  fold\n",
       "00a2b4   bn              2       392\n",
       "018d08   en              3       195\n",
       "01dbc1   en              3       734\n",
       "02be07   bn              3       107\n",
       "03de11   en              2       164\n",
       "                                ... \n",
       "f08256   en              3        58\n",
       "f65044   es              1       746\n",
       "f9db19   es              0       136\n",
       "fc1d48   es              0        47\n",
       "fc9105   es              0       970\n",
       "Length: 114, dtype: int64"
      ]
     },
     "execution_count": 10,
     "metadata": {},
     "output_type": "execute_result"
    }
   ],
   "source": [
    "df_train.query('fold!=-1').groupby(['channel', 'topic_language', 'fold']).size()"
   ]
  },
  {
   "cell_type": "code",
   "execution_count": 11,
   "id": "2bc30902",
   "metadata": {
    "execution": {
     "iopub.execute_input": "2023-02-08T03:33:02.072244Z",
     "iopub.status.busy": "2023-02-08T03:33:02.071812Z",
     "iopub.status.idle": "2023-02-08T03:33:02.083798Z",
     "shell.execute_reply": "2023-02-08T03:33:02.082447Z"
    },
    "papermill": {
     "duration": 0.024058,
     "end_time": "2023-02-08T03:33:02.086185",
     "exception": false,
     "start_time": "2023-02-08T03:33:02.062127",
     "status": "completed"
    },
    "tags": []
   },
   "outputs": [
    {
     "data": {
      "text/plain": [
       "-1    177290\n",
       " 0     25683\n",
       " 1     25657\n",
       " 2     25650\n",
       " 3     25639\n",
       "Name: fold, dtype: int64"
      ]
     },
     "execution_count": 11,
     "metadata": {},
     "output_type": "execute_result"
    }
   ],
   "source": [
    "df_train['fold'].value_counts()"
   ]
  },
  {
   "cell_type": "code",
   "execution_count": 12,
   "id": "fe23d818",
   "metadata": {
    "execution": {
     "iopub.execute_input": "2023-02-08T03:33:02.105795Z",
     "iopub.status.busy": "2023-02-08T03:33:02.105298Z",
     "iopub.status.idle": "2023-02-08T03:33:02.173150Z",
     "shell.execute_reply": "2023-02-08T03:33:02.171871Z"
    },
    "papermill": {
     "duration": 0.080825,
     "end_time": "2023-02-08T03:33:02.175850",
     "exception": false,
     "start_time": "2023-02-08T03:33:02.095025",
     "status": "completed"
    },
    "tags": []
   },
   "outputs": [],
   "source": [
    "tk0 = (df_train.query('fold!=0'), df_train.query('fold==0'))"
   ]
  },
  {
   "cell_type": "markdown",
   "id": "56bb8c0b",
   "metadata": {
    "papermill": {
     "duration": 0.008145,
     "end_time": "2023-02-08T03:33:02.192523",
     "exception": false,
     "start_time": "2023-02-08T03:33:02.184378",
     "status": "completed"
    },
    "tags": []
   },
   "source": [
    "Save train test dataset"
   ]
  },
  {
   "cell_type": "code",
   "execution_count": 13,
   "id": "69195a5d",
   "metadata": {
    "execution": {
     "iopub.execute_input": "2023-02-08T03:33:02.211660Z",
     "iopub.status.busy": "2023-02-08T03:33:02.211214Z",
     "iopub.status.idle": "2023-02-08T03:33:02.218494Z",
     "shell.execute_reply": "2023-02-08T03:33:02.216473Z"
    },
    "papermill": {
     "duration": 0.020141,
     "end_time": "2023-02-08T03:33:02.221018",
     "exception": false,
     "start_time": "2023-02-08T03:33:02.200877",
     "status": "completed"
    },
    "tags": []
   },
   "outputs": [],
   "source": [
    "if not os.path.exists(CFG.cv_dir):\n",
    "    os.makedirs(CFG.cv_dir)"
   ]
  },
  {
   "cell_type": "code",
   "execution_count": 14,
   "id": "aa347a62",
   "metadata": {
    "execution": {
     "iopub.execute_input": "2023-02-08T03:33:02.240102Z",
     "iopub.status.busy": "2023-02-08T03:33:02.239424Z",
     "iopub.status.idle": "2023-02-08T03:34:37.920702Z",
     "shell.execute_reply": "2023-02-08T03:34:37.918591Z"
    },
    "papermill": {
     "duration": 95.812671,
     "end_time": "2023-02-08T03:34:38.042213",
     "exception": false,
     "start_time": "2023-02-08T03:33:02.229542",
     "status": "completed"
    },
    "tags": []
   },
   "outputs": [
    {
     "name": "stderr",
     "output_type": "stream",
     "text": [
      "100%|██████████| 4/4 [01:35<00:00, 23.91s/it]"
     ]
    },
    {
     "name": "stdout",
     "output_type": "stream",
     "text": [
      "CPU times: user 1min 28s, sys: 6.75 s, total: 1min 35s\n",
      "Wall time: 1min 35s\n"
     ]
    },
    {
     "name": "stderr",
     "output_type": "stream",
     "text": [
      "\n"
     ]
    }
   ],
   "source": [
    "%%time\n",
    "for i in tqdm(range(CFG.n_fold)):\n",
    "    dir_name = os.path.join(CFG.cv_dir, f'fold_{i}')\n",
    "    if not os.path.exists(dir_name):\n",
    "        os.makedirs(dir_name)\n",
    "    train = df_train.query('fold!=@i')\n",
    "    test = df_train.query('fold==@i')\n",
    "    correlations = train.groupby('topic_id')['content_id'].apply(lambda x: \" \".join(x)).reset_index(name='content_ids')\n",
    "    submission = test.groupby('topic_id')['content_id'].apply(lambda x: \" \".join(x)).reset_index(name='content_ids')\n",
    "    \n",
    "    df_topic.to_csv(os.path.join(dir_name, 'topics.csv'), index=False)\n",
    "    df_content.to_csv(os.path.join(dir_name, 'content.csv'), index=False)\n",
    "    correlations.to_csv(os.path.join(dir_name, 'correlations.csv'), index=False)\n",
    "    submission.to_csv(os.path.join(dir_name, 'sample_submission.csv'), index=False)"
   ]
  },
  {
   "cell_type": "code",
   "execution_count": 15,
   "id": "637a57d8",
   "metadata": {
    "execution": {
     "iopub.execute_input": "2023-02-08T03:34:38.395916Z",
     "iopub.status.busy": "2023-02-08T03:34:38.394029Z",
     "iopub.status.idle": "2023-02-08T03:34:41.034994Z",
     "shell.execute_reply": "2023-02-08T03:34:41.033408Z"
    },
    "papermill": {
     "duration": 2.810531,
     "end_time": "2023-02-08T03:34:41.037985",
     "exception": false,
     "start_time": "2023-02-08T03:34:38.227454",
     "status": "completed"
    },
    "tags": []
   },
   "outputs": [
    {
     "name": "stdout",
     "output_type": "stream",
     "text": [
      "fold_0\tfold_1\tfold_2\tfold_3\r\n",
      "content.csv  correlations.csv  sample_submission.csv  topics.csv\r\n"
     ]
    }
   ],
   "source": [
    "!ls cv_data\n",
    "!ls cv_data/fold_0"
   ]
  },
  {
   "cell_type": "markdown",
   "id": "cd8a4238",
   "metadata": {
    "papermill": {
     "duration": 0.008664,
     "end_time": "2023-02-08T03:34:41.056051",
     "exception": false,
     "start_time": "2023-02-08T03:34:41.047387",
     "status": "completed"
    },
    "tags": []
   },
   "source": [
    "## 为叶子topic抽取先前节点的特征\n",
    "仅包含has_content=True的特征"
   ]
  },
  {
   "cell_type": "code",
   "execution_count": 16,
   "id": "d64378f5",
   "metadata": {
    "execution": {
     "iopub.execute_input": "2023-02-08T03:34:41.076700Z",
     "iopub.status.busy": "2023-02-08T03:34:41.076193Z",
     "iopub.status.idle": "2023-02-08T03:34:41.089988Z",
     "shell.execute_reply": "2023-02-08T03:34:41.088057Z"
    },
    "papermill": {
     "duration": 0.028722,
     "end_time": "2023-02-08T03:34:41.093736",
     "exception": false,
     "start_time": "2023-02-08T03:34:41.065014",
     "status": "completed"
    },
    "tags": []
   },
   "outputs": [],
   "source": [
    "# function to extract the level features for each leaf topic\n",
    "def get_level_features(df_topic, level_cols=['title']):\n",
    "    df_hier = df_topic[set(level_cols + ['id', 'parent', 'level', 'has_content'])]\n",
    "    highest_level = df_hier['level'].max()\n",
    "    print(f'Highest Level: {highest_level}')\n",
    "    \n",
    "    df_level = df_hier.query('level == 0').copy(deep=True)\n",
    "    level_list = list()\n",
    "    for col in level_cols:\n",
    "        df_level[f'{col}_level'] = df_level[f'{col}'].apply(lambda x: [x])\n",
    "\n",
    "    for i in tqdm(range(highest_level + 1)):\n",
    "        level_list.append(df_level[df_level['has_content']])\n",
    "        df_level_high = df_hier.query('level == @i+1')\n",
    "        df_level = df_level_high.merge(df_level, left_on='parent', right_on='id', suffixes=['', '_parent'], how='inner')\n",
    "        for col in level_cols:\n",
    "            df_level[f'{col}_level'] = df_level[f'{col}_level'] + df_level[f'{col}'].apply(lambda x: [x])\n",
    "        for col in df_level.columns:\n",
    "            if col.endswith('_parent'):\n",
    "                df_level.drop(columns=col, inplace=True)\n",
    "    df = pd.concat(level_list).reset_index(drop=True)\n",
    "    return df[set(['id'] + [f'{col}_level' for col in level_cols])]"
   ]
  },
  {
   "cell_type": "code",
   "execution_count": 17,
   "id": "a1e49d19",
   "metadata": {
    "execution": {
     "iopub.execute_input": "2023-02-08T03:34:41.114665Z",
     "iopub.status.busy": "2023-02-08T03:34:41.114229Z",
     "iopub.status.idle": "2023-02-08T03:34:43.887375Z",
     "shell.execute_reply": "2023-02-08T03:34:43.882473Z"
    },
    "papermill": {
     "duration": 2.787335,
     "end_time": "2023-02-08T03:34:43.890545",
     "exception": false,
     "start_time": "2023-02-08T03:34:41.103210",
     "status": "completed"
    },
    "tags": []
   },
   "outputs": [
    {
     "name": "stdout",
     "output_type": "stream",
     "text": [
      "Highest Level: 10\n"
     ]
    },
    {
     "name": "stderr",
     "output_type": "stream",
     "text": [
      "100%|██████████| 11/11 [00:02<00:00,  4.44it/s]\n"
     ]
    },
    {
     "name": "stdout",
     "output_type": "stream",
     "text": [
      "CPU times: user 2.6 s, sys: 128 ms, total: 2.73 s\n",
      "Wall time: 2.73 s\n"
     ]
    },
    {
     "data": {
      "text/html": [
       "<div>\n",
       "<style scoped>\n",
       "    .dataframe tbody tr th:only-of-type {\n",
       "        vertical-align: middle;\n",
       "    }\n",
       "\n",
       "    .dataframe tbody tr th {\n",
       "        vertical-align: top;\n",
       "    }\n",
       "\n",
       "    .dataframe thead th {\n",
       "        text-align: right;\n",
       "    }\n",
       "</style>\n",
       "<table border=\"1\" class=\"dataframe\">\n",
       "  <thead>\n",
       "    <tr style=\"text-align: right;\">\n",
       "      <th></th>\n",
       "      <th>language_level</th>\n",
       "      <th>description_level</th>\n",
       "      <th>id</th>\n",
       "      <th>level_level</th>\n",
       "      <th>has_content_level</th>\n",
       "      <th>id_level</th>\n",
       "      <th>title_level</th>\n",
       "    </tr>\n",
       "  </thead>\n",
       "  <tbody>\n",
       "    <tr>\n",
       "      <th>0</th>\n",
       "      <td>[ar]</td>\n",
       "      <td>[]</td>\n",
       "      <td>t_10035396d740</td>\n",
       "      <td>[0]</td>\n",
       "      <td>[True]</td>\n",
       "      <td>[t_10035396d740]</td>\n",
       "      <td>[قناة كم كلمة لتمكين المعلّمين الناطقين باللغة...</td>\n",
       "    </tr>\n",
       "    <tr>\n",
       "      <th>1</th>\n",
       "      <td>[en]</td>\n",
       "      <td>[]</td>\n",
       "      <td>t_30dd476279c8</td>\n",
       "      <td>[0]</td>\n",
       "      <td>[True]</td>\n",
       "      <td>[t_30dd476279c8]</td>\n",
       "      <td>[Medicine]</td>\n",
       "    </tr>\n",
       "    <tr>\n",
       "      <th>2</th>\n",
       "      <td>[ar]</td>\n",
       "      <td>[]</td>\n",
       "      <td>t_3efcae0132f0</td>\n",
       "      <td>[0]</td>\n",
       "      <td>[True]</td>\n",
       "      <td>[t_3efcae0132f0]</td>\n",
       "      <td>[وزارة التربية والتعليم الأردنية]</td>\n",
       "    </tr>\n",
       "    <tr>\n",
       "      <th>3</th>\n",
       "      <td>[en]</td>\n",
       "      <td>[]</td>\n",
       "      <td>t_470986f56fbe</td>\n",
       "      <td>[0]</td>\n",
       "      <td>[True]</td>\n",
       "      <td>[t_470986f56fbe]</td>\n",
       "      <td>[Khan Academy - Standardized Test Preparation]</td>\n",
       "    </tr>\n",
       "    <tr>\n",
       "      <th>4</th>\n",
       "      <td>[es]</td>\n",
       "      <td>[]</td>\n",
       "      <td>t_72d1321023d9</td>\n",
       "      <td>[0]</td>\n",
       "      <td>[True]</td>\n",
       "      <td>[t_72d1321023d9]</td>\n",
       "      <td>[Matemáticas Quinto Grado (Guatemala)]</td>\n",
       "    </tr>\n",
       "    <tr>\n",
       "      <th>...</th>\n",
       "      <td>...</td>\n",
       "      <td>...</td>\n",
       "      <td>...</td>\n",
       "      <td>...</td>\n",
       "      <td>...</td>\n",
       "      <td>...</td>\n",
       "      <td>...</td>\n",
       "    </tr>\n",
       "    <tr>\n",
       "      <th>61512</th>\n",
       "      <td>[es, es, es, es, es, es, es, es, es, es]</td>\n",
       "      <td>[, , , , , , , , , ]</td>\n",
       "      <td>t_ed58066fa353</td>\n",
       "      <td>[0, 1, 2, 3, 4, 5, 6, 7, 8, 9]</td>\n",
       "      <td>[False, False, True, False, True, True, True, ...</td>\n",
       "      <td>[t_44623019938d, t_0d57669638bd, t_4cc29e19e15...</td>\n",
       "      <td>[Ganar - Habilidades para el Trabajo, Laborato...</td>\n",
       "    </tr>\n",
       "    <tr>\n",
       "      <th>61513</th>\n",
       "      <td>[es, es, es, es, es, es, es, es, es, es]</td>\n",
       "      <td>[, , , , , , , , , ]</td>\n",
       "      <td>t_d7e92d224506</td>\n",
       "      <td>[0, 1, 2, 3, 4, 5, 6, 7, 8, 9]</td>\n",
       "      <td>[False, False, True, False, True, True, True, ...</td>\n",
       "      <td>[t_44623019938d, t_0d57669638bd, t_4cc29e19e15...</td>\n",
       "      <td>[Ganar - Habilidades para el Trabajo, Laborato...</td>\n",
       "    </tr>\n",
       "    <tr>\n",
       "      <th>61514</th>\n",
       "      <td>[es, es, es, es, es, es, es, es, es, es]</td>\n",
       "      <td>[, , , , , , , , , ]</td>\n",
       "      <td>t_f60d6940436e</td>\n",
       "      <td>[0, 1, 2, 3, 4, 5, 6, 7, 8, 9]</td>\n",
       "      <td>[False, False, True, False, True, False, True,...</td>\n",
       "      <td>[t_44623019938d, t_0d57669638bd, t_4cc29e19e15...</td>\n",
       "      <td>[Ganar - Habilidades para el Trabajo, Laborato...</td>\n",
       "    </tr>\n",
       "    <tr>\n",
       "      <th>61515</th>\n",
       "      <td>[es, es, es, es, es, es, es, es, es, es, es]</td>\n",
       "      <td>[, , , , , , , , , , ]</td>\n",
       "      <td>t_2cb874d9bfed</td>\n",
       "      <td>[0, 1, 2, 3, 4, 5, 6, 7, 8, 9, 10]</td>\n",
       "      <td>[False, False, True, False, True, True, True, ...</td>\n",
       "      <td>[t_44623019938d, t_0d57669638bd, t_4cc29e19e15...</td>\n",
       "      <td>[Ganar - Habilidades para el Trabajo, Laborato...</td>\n",
       "    </tr>\n",
       "    <tr>\n",
       "      <th>61516</th>\n",
       "      <td>[es, es, es, es, es, es, es, es, es, es, es]</td>\n",
       "      <td>[, , , , , , , , , , ]</td>\n",
       "      <td>t_b245cd8697dd</td>\n",
       "      <td>[0, 1, 2, 3, 4, 5, 6, 7, 8, 9, 10]</td>\n",
       "      <td>[False, False, True, False, True, True, True, ...</td>\n",
       "      <td>[t_44623019938d, t_0d57669638bd, t_4cc29e19e15...</td>\n",
       "      <td>[Ganar - Habilidades para el Trabajo, Laborato...</td>\n",
       "    </tr>\n",
       "  </tbody>\n",
       "</table>\n",
       "<p>61517 rows × 7 columns</p>\n",
       "</div>"
      ],
      "text/plain": [
       "                                     language_level       description_level  \\\n",
       "0                                              [ar]                      []   \n",
       "1                                              [en]                      []   \n",
       "2                                              [ar]                      []   \n",
       "3                                              [en]                      []   \n",
       "4                                              [es]                      []   \n",
       "...                                             ...                     ...   \n",
       "61512      [es, es, es, es, es, es, es, es, es, es]    [, , , , , , , , , ]   \n",
       "61513      [es, es, es, es, es, es, es, es, es, es]    [, , , , , , , , , ]   \n",
       "61514      [es, es, es, es, es, es, es, es, es, es]    [, , , , , , , , , ]   \n",
       "61515  [es, es, es, es, es, es, es, es, es, es, es]  [, , , , , , , , , , ]   \n",
       "61516  [es, es, es, es, es, es, es, es, es, es, es]  [, , , , , , , , , , ]   \n",
       "\n",
       "                   id                         level_level  \\\n",
       "0      t_10035396d740                                 [0]   \n",
       "1      t_30dd476279c8                                 [0]   \n",
       "2      t_3efcae0132f0                                 [0]   \n",
       "3      t_470986f56fbe                                 [0]   \n",
       "4      t_72d1321023d9                                 [0]   \n",
       "...               ...                                 ...   \n",
       "61512  t_ed58066fa353      [0, 1, 2, 3, 4, 5, 6, 7, 8, 9]   \n",
       "61513  t_d7e92d224506      [0, 1, 2, 3, 4, 5, 6, 7, 8, 9]   \n",
       "61514  t_f60d6940436e      [0, 1, 2, 3, 4, 5, 6, 7, 8, 9]   \n",
       "61515  t_2cb874d9bfed  [0, 1, 2, 3, 4, 5, 6, 7, 8, 9, 10]   \n",
       "61516  t_b245cd8697dd  [0, 1, 2, 3, 4, 5, 6, 7, 8, 9, 10]   \n",
       "\n",
       "                                       has_content_level  \\\n",
       "0                                                 [True]   \n",
       "1                                                 [True]   \n",
       "2                                                 [True]   \n",
       "3                                                 [True]   \n",
       "4                                                 [True]   \n",
       "...                                                  ...   \n",
       "61512  [False, False, True, False, True, True, True, ...   \n",
       "61513  [False, False, True, False, True, True, True, ...   \n",
       "61514  [False, False, True, False, True, False, True,...   \n",
       "61515  [False, False, True, False, True, True, True, ...   \n",
       "61516  [False, False, True, False, True, True, True, ...   \n",
       "\n",
       "                                                id_level  \\\n",
       "0                                       [t_10035396d740]   \n",
       "1                                       [t_30dd476279c8]   \n",
       "2                                       [t_3efcae0132f0]   \n",
       "3                                       [t_470986f56fbe]   \n",
       "4                                       [t_72d1321023d9]   \n",
       "...                                                  ...   \n",
       "61512  [t_44623019938d, t_0d57669638bd, t_4cc29e19e15...   \n",
       "61513  [t_44623019938d, t_0d57669638bd, t_4cc29e19e15...   \n",
       "61514  [t_44623019938d, t_0d57669638bd, t_4cc29e19e15...   \n",
       "61515  [t_44623019938d, t_0d57669638bd, t_4cc29e19e15...   \n",
       "61516  [t_44623019938d, t_0d57669638bd, t_4cc29e19e15...   \n",
       "\n",
       "                                             title_level  \n",
       "0      [قناة كم كلمة لتمكين المعلّمين الناطقين باللغة...  \n",
       "1                                             [Medicine]  \n",
       "2                      [وزارة التربية والتعليم الأردنية]  \n",
       "3         [Khan Academy - Standardized Test Preparation]  \n",
       "4                 [Matemáticas Quinto Grado (Guatemala)]  \n",
       "...                                                  ...  \n",
       "61512  [Ganar - Habilidades para el Trabajo, Laborato...  \n",
       "61513  [Ganar - Habilidades para el Trabajo, Laborato...  \n",
       "61514  [Ganar - Habilidades para el Trabajo, Laborato...  \n",
       "61515  [Ganar - Habilidades para el Trabajo, Laborato...  \n",
       "61516  [Ganar - Habilidades para el Trabajo, Laborato...  \n",
       "\n",
       "[61517 rows x 7 columns]"
      ]
     },
     "execution_count": 17,
     "metadata": {},
     "output_type": "execute_result"
    }
   ],
   "source": [
    "%%time\n",
    "level_cols = ['id', 'title', 'description', 'level', 'language', 'has_content']\n",
    "df_level = get_level_features(df_topic.fillna(''), level_cols)\n",
    "df_level"
   ]
  },
  {
   "cell_type": "markdown",
   "id": "6b4b0c2f",
   "metadata": {
    "papermill": {
     "duration": 0.010026,
     "end_time": "2023-02-08T03:34:43.911336",
     "exception": false,
     "start_time": "2023-02-08T03:34:43.901310",
     "status": "completed"
    },
    "tags": []
   },
   "source": [
    "## Match by Language\n",
    "超过99%的correlations为同一语种，可以通过匹配language缩小retrieval candidates"
   ]
  },
  {
   "cell_type": "code",
   "execution_count": 18,
   "id": "1553852b",
   "metadata": {
    "execution": {
     "iopub.execute_input": "2023-02-08T03:34:43.934699Z",
     "iopub.status.busy": "2023-02-08T03:34:43.933448Z",
     "iopub.status.idle": "2023-02-08T03:34:43.942021Z",
     "shell.execute_reply": "2023-02-08T03:34:43.941126Z"
    },
    "papermill": {
     "duration": 0.022661,
     "end_time": "2023-02-08T03:34:43.944458",
     "exception": false,
     "start_time": "2023-02-08T03:34:43.921797",
     "status": "completed"
    },
    "tags": []
   },
   "outputs": [],
   "source": [
    "def prepare_language_match(cfg, mode='train'):\n",
    "    topic = pd.read_csv(cfg.topic_dir)[['id', 'language']]\n",
    "    content = pd.read_csv(cfg.content_dir)[['id', 'language']]\n",
    "    if mode == 'train':\n",
    "        corr = pd.read_csv(cfg.correlation_dir)\n",
    "    elif mode == 'valid':\n",
    "        corr = pd.read_csv(cfg.submission_dir)\n",
    "    topic = topic.merge(corr, left_on='id', right_on='topic_id')[['id', 'language']]\n",
    "    match_dict = {}\n",
    "    for language in topic['language'].unique():\n",
    "        match_dict[language] = (topic.query('language==@language')[['id']], content.query('language==@language')[['id']])\n",
    "    return match_dict"
   ]
  },
  {
   "cell_type": "code",
   "execution_count": 19,
   "id": "aeb5065c",
   "metadata": {
    "execution": {
     "iopub.execute_input": "2023-02-08T03:34:43.967991Z",
     "iopub.status.busy": "2023-02-08T03:34:43.966897Z",
     "iopub.status.idle": "2023-02-08T03:35:08.192028Z",
     "shell.execute_reply": "2023-02-08T03:35:08.189893Z"
    },
    "papermill": {
     "duration": 24.240482,
     "end_time": "2023-02-08T03:35:08.195568",
     "exception": false,
     "start_time": "2023-02-08T03:34:43.955086",
     "status": "completed"
    },
    "tags": []
   },
   "outputs": [
    {
     "name": "stdout",
     "output_type": "stream",
     "text": [
      "CPU times: user 14.1 s, sys: 2.24 s, total: 16.4 s\n",
      "Wall time: 24.2 s\n"
     ]
    }
   ],
   "source": [
    "%%time\n",
    "topic_content_match = prepare_language_match(CFG)"
   ]
  },
  {
   "cell_type": "code",
   "execution_count": 20,
   "id": "3bbca41c",
   "metadata": {
    "execution": {
     "iopub.execute_input": "2023-02-08T03:35:08.218991Z",
     "iopub.status.busy": "2023-02-08T03:35:08.218465Z",
     "iopub.status.idle": "2023-02-08T03:35:08.225715Z",
     "shell.execute_reply": "2023-02-08T03:35:08.224631Z"
    },
    "papermill": {
     "duration": 0.0216,
     "end_time": "2023-02-08T03:35:08.228263",
     "exception": false,
     "start_time": "2023-02-08T03:35:08.206663",
     "status": "completed"
    },
    "tags": []
   },
   "outputs": [],
   "source": [
    "def prepare_input(text, cfg):\n",
    "    inputs = cfg.tokenizer.encode_plus(\n",
    "        text, \n",
    "        return_tensors = None, \n",
    "        add_special_tokens = True, \n",
    "        max_length = cfg.max_len,\n",
    "        pad_to_max_length = True,\n",
    "        truncation = True\n",
    "    )\n",
    "    for k, v in inputs.items():\n",
    "        inputs[k] = torch.tensor(v, dtype = torch.long)\n",
    "    return inputs"
   ]
  },
  {
   "cell_type": "code",
   "execution_count": 21,
   "id": "c9ef0d44",
   "metadata": {
    "execution": {
     "iopub.execute_input": "2023-02-08T03:35:08.251590Z",
     "iopub.status.busy": "2023-02-08T03:35:08.251133Z",
     "iopub.status.idle": "2023-02-08T03:35:08.256842Z",
     "shell.execute_reply": "2023-02-08T03:35:08.255620Z"
    },
    "papermill": {
     "duration": 0.019745,
     "end_time": "2023-02-08T03:35:08.259143",
     "exception": false,
     "start_time": "2023-02-08T03:35:08.239398",
     "status": "completed"
    },
    "tags": []
   },
   "outputs": [],
   "source": [
    "topic, content = topic_content_match['en']"
   ]
  },
  {
   "cell_type": "code",
   "execution_count": 22,
   "id": "a095de02",
   "metadata": {
    "execution": {
     "iopub.execute_input": "2023-02-08T03:35:08.282920Z",
     "iopub.status.busy": "2023-02-08T03:35:08.282484Z",
     "iopub.status.idle": "2023-02-08T03:35:08.295443Z",
     "shell.execute_reply": "2023-02-08T03:35:08.294266Z"
    },
    "papermill": {
     "duration": 0.027861,
     "end_time": "2023-02-08T03:35:08.298218",
     "exception": false,
     "start_time": "2023-02-08T03:35:08.270357",
     "status": "completed"
    },
    "tags": []
   },
   "outputs": [
    {
     "data": {
      "text/html": [
       "<div>\n",
       "<style scoped>\n",
       "    .dataframe tbody tr th:only-of-type {\n",
       "        vertical-align: middle;\n",
       "    }\n",
       "\n",
       "    .dataframe tbody tr th {\n",
       "        vertical-align: top;\n",
       "    }\n",
       "\n",
       "    .dataframe thead th {\n",
       "        text-align: right;\n",
       "    }\n",
       "</style>\n",
       "<table border=\"1\" class=\"dataframe\">\n",
       "  <thead>\n",
       "    <tr style=\"text-align: right;\">\n",
       "      <th></th>\n",
       "      <th>id</th>\n",
       "    </tr>\n",
       "  </thead>\n",
       "  <tbody>\n",
       "    <tr>\n",
       "      <th>2</th>\n",
       "      <td>t_00069b63a70a</td>\n",
       "    </tr>\n",
       "    <tr>\n",
       "      <th>5</th>\n",
       "      <td>t_0008a1bd84ba</td>\n",
       "    </tr>\n",
       "    <tr>\n",
       "      <th>6</th>\n",
       "      <td>t_000d1fb3f2f5</td>\n",
       "    </tr>\n",
       "    <tr>\n",
       "      <th>8</th>\n",
       "      <td>t_00102869fbcb</td>\n",
       "    </tr>\n",
       "    <tr>\n",
       "      <th>10</th>\n",
       "      <td>t_0012a45fa09c</td>\n",
       "    </tr>\n",
       "    <tr>\n",
       "      <th>...</th>\n",
       "      <td>...</td>\n",
       "    </tr>\n",
       "    <tr>\n",
       "      <th>61504</th>\n",
       "      <td>t_fff05585df72</td>\n",
       "    </tr>\n",
       "    <tr>\n",
       "      <th>61507</th>\n",
       "      <td>t_fff51448598c</td>\n",
       "    </tr>\n",
       "    <tr>\n",
       "      <th>61509</th>\n",
       "      <td>t_fff5da49c4d3</td>\n",
       "    </tr>\n",
       "    <tr>\n",
       "      <th>61510</th>\n",
       "      <td>t_fff7782561f4</td>\n",
       "    </tr>\n",
       "    <tr>\n",
       "      <th>61512</th>\n",
       "      <td>t_fff830472691</td>\n",
       "    </tr>\n",
       "  </tbody>\n",
       "</table>\n",
       "<p>28053 rows × 1 columns</p>\n",
       "</div>"
      ],
      "text/plain": [
       "                   id\n",
       "2      t_00069b63a70a\n",
       "5      t_0008a1bd84ba\n",
       "6      t_000d1fb3f2f5\n",
       "8      t_00102869fbcb\n",
       "10     t_0012a45fa09c\n",
       "...               ...\n",
       "61504  t_fff05585df72\n",
       "61507  t_fff51448598c\n",
       "61509  t_fff5da49c4d3\n",
       "61510  t_fff7782561f4\n",
       "61512  t_fff830472691\n",
       "\n",
       "[28053 rows x 1 columns]"
      ]
     },
     "execution_count": 22,
     "metadata": {},
     "output_type": "execute_result"
    }
   ],
   "source": [
    "topic"
   ]
  },
  {
   "cell_type": "code",
   "execution_count": 23,
   "id": "ba8aabd1",
   "metadata": {
    "execution": {
     "iopub.execute_input": "2023-02-08T03:35:08.322180Z",
     "iopub.status.busy": "2023-02-08T03:35:08.321746Z",
     "iopub.status.idle": "2023-02-08T03:35:08.333577Z",
     "shell.execute_reply": "2023-02-08T03:35:08.332682Z"
    },
    "papermill": {
     "duration": 0.026175,
     "end_time": "2023-02-08T03:35:08.335633",
     "exception": false,
     "start_time": "2023-02-08T03:35:08.309458",
     "status": "completed"
    },
    "tags": []
   },
   "outputs": [
    {
     "data": {
      "text/html": [
       "<div>\n",
       "<style scoped>\n",
       "    .dataframe tbody tr th:only-of-type {\n",
       "        vertical-align: middle;\n",
       "    }\n",
       "\n",
       "    .dataframe tbody tr th {\n",
       "        vertical-align: top;\n",
       "    }\n",
       "\n",
       "    .dataframe thead th {\n",
       "        text-align: right;\n",
       "    }\n",
       "</style>\n",
       "<table border=\"1\" class=\"dataframe\">\n",
       "  <thead>\n",
       "    <tr style=\"text-align: right;\">\n",
       "      <th></th>\n",
       "      <th>id</th>\n",
       "    </tr>\n",
       "  </thead>\n",
       "  <tbody>\n",
       "    <tr>\n",
       "      <th>5</th>\n",
       "      <td>c_00019840d110</td>\n",
       "    </tr>\n",
       "    <tr>\n",
       "      <th>8</th>\n",
       "      <td>c_00027d03ca7d</td>\n",
       "    </tr>\n",
       "    <tr>\n",
       "      <th>10</th>\n",
       "      <td>c_000425df0161</td>\n",
       "    </tr>\n",
       "    <tr>\n",
       "      <th>11</th>\n",
       "      <td>c_00046806ad8a</td>\n",
       "    </tr>\n",
       "    <tr>\n",
       "      <th>18</th>\n",
       "      <td>c_000751f58836</td>\n",
       "    </tr>\n",
       "    <tr>\n",
       "      <th>...</th>\n",
       "      <td>...</td>\n",
       "    </tr>\n",
       "    <tr>\n",
       "      <th>154035</th>\n",
       "      <td>c_fffa90b024e3</td>\n",
       "    </tr>\n",
       "    <tr>\n",
       "      <th>154041</th>\n",
       "      <td>c_fffbfc3d60c6</td>\n",
       "    </tr>\n",
       "    <tr>\n",
       "      <th>154042</th>\n",
       "      <td>c_fffcbdd4de8b</td>\n",
       "    </tr>\n",
       "    <tr>\n",
       "      <th>154045</th>\n",
       "      <td>c_ffff04ba7ac7</td>\n",
       "    </tr>\n",
       "    <tr>\n",
       "      <th>154046</th>\n",
       "      <td>c_ffffe5254266</td>\n",
       "    </tr>\n",
       "  </tbody>\n",
       "</table>\n",
       "<p>65939 rows × 1 columns</p>\n",
       "</div>"
      ],
      "text/plain": [
       "                    id\n",
       "5       c_00019840d110\n",
       "8       c_00027d03ca7d\n",
       "10      c_000425df0161\n",
       "11      c_00046806ad8a\n",
       "18      c_000751f58836\n",
       "...                ...\n",
       "154035  c_fffa90b024e3\n",
       "154041  c_fffbfc3d60c6\n",
       "154042  c_fffcbdd4de8b\n",
       "154045  c_ffff04ba7ac7\n",
       "154046  c_ffffe5254266\n",
       "\n",
       "[65939 rows x 1 columns]"
      ]
     },
     "execution_count": 23,
     "metadata": {},
     "output_type": "execute_result"
    }
   ],
   "source": [
    "content"
   ]
  },
  {
   "cell_type": "markdown",
   "id": "27aabc9f",
   "metadata": {
    "papermill": {
     "duration": 0.010566,
     "end_time": "2023-02-08T03:35:08.357359",
     "exception": false,
     "start_time": "2023-02-08T03:35:08.346793",
     "status": "completed"
    },
    "tags": []
   },
   "source": [
    "## TODOs"
   ]
  },
  {
   "cell_type": "markdown",
   "id": "a6d180e1",
   "metadata": {
    "papermill": {
     "duration": 0.010655,
     "end_time": "2023-02-08T03:35:08.379272",
     "exception": false,
     "start_time": "2023-02-08T03:35:08.368617",
     "status": "completed"
    },
    "tags": []
   },
   "source": [
    "### F2\n",
    "\n",
    "$$\n",
    "F2 = \\frac{5\\cdot{}precision\\cdot{}recall}{4\\cdot{}precision+recall}\n",
    "$$"
   ]
  },
  {
   "cell_type": "code",
   "execution_count": null,
   "id": "ff5b6198",
   "metadata": {
    "papermill": {
     "duration": 0.010661,
     "end_time": "2023-02-08T03:35:08.400986",
     "exception": false,
     "start_time": "2023-02-08T03:35:08.390325",
     "status": "completed"
    },
    "tags": []
   },
   "outputs": [],
   "source": []
  },
  {
   "cell_type": "markdown",
   "id": "5c13f05c",
   "metadata": {
    "papermill": {
     "duration": 0.01124,
     "end_time": "2023-02-08T03:35:08.424149",
     "exception": false,
     "start_time": "2023-02-08T03:35:08.412909",
     "status": "completed"
    },
    "tags": []
   },
   "source": [
    "### Recall@N"
   ]
  },
  {
   "cell_type": "code",
   "execution_count": null,
   "id": "865162e9",
   "metadata": {
    "papermill": {
     "duration": 0.010518,
     "end_time": "2023-02-08T03:35:08.445620",
     "exception": false,
     "start_time": "2023-02-08T03:35:08.435102",
     "status": "completed"
    },
    "tags": []
   },
   "outputs": [],
   "source": []
  },
  {
   "cell_type": "code",
   "execution_count": null,
   "id": "ac066e32",
   "metadata": {
    "papermill": {
     "duration": 0.010529,
     "end_time": "2023-02-08T03:35:08.467144",
     "exception": false,
     "start_time": "2023-02-08T03:35:08.456615",
     "status": "completed"
    },
    "tags": []
   },
   "outputs": [],
   "source": []
  }
 ],
 "metadata": {
  "kernelspec": {
   "display_name": "Python 3",
   "language": "python",
   "name": "python3"
  },
  "language_info": {
   "codemirror_mode": {
    "name": "ipython",
    "version": 3
   },
   "file_extension": ".py",
   "mimetype": "text/x-python",
   "name": "python",
   "nbconvert_exporter": "python",
   "pygments_lexer": "ipython3",
   "version": "3.7.12"
  },
  "papermill": {
   "default_parameters": {},
   "duration": 178.004003,
   "end_time": "2023-02-08T03:35:10.107377",
   "environment_variables": {},
   "exception": null,
   "input_path": "__notebook__.ipynb",
   "output_path": "__notebook__.ipynb",
   "parameters": {},
   "start_time": "2023-02-08T03:32:12.103374",
   "version": "2.3.4"
  }
 },
 "nbformat": 4,
 "nbformat_minor": 5
}
