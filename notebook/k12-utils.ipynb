{
 "cells": [
  {
   "cell_type": "code",
   "execution_count": 1,
   "id": "d6da07a6",
   "metadata": {
    "execution": {
     "iopub.execute_input": "2023-02-10T04:05:33.313783Z",
     "iopub.status.busy": "2023-02-10T04:05:33.313239Z",
     "iopub.status.idle": "2023-02-10T04:05:34.328709Z",
     "shell.execute_reply": "2023-02-10T04:05:34.326961Z"
    },
    "papermill": {
     "duration": 1.029469,
     "end_time": "2023-02-10T04:05:34.332191",
     "exception": false,
     "start_time": "2023-02-10T04:05:33.302722",
     "status": "completed"
    },
    "tags": []
   },
   "outputs": [],
   "source": [
    "import pandas as pd\n",
    "import os\n",
    "\n",
    "from tqdm import tqdm\n",
    "from sklearn.model_selection import StratifiedGroupKFold, GroupKFold, KFold\n",
    "\n",
    "pd.set_option('display.max_rows', 100)"
   ]
  },
  {
   "cell_type": "code",
   "execution_count": 2,
   "id": "96d0b616",
   "metadata": {
    "execution": {
     "iopub.execute_input": "2023-02-10T04:05:34.349532Z",
     "iopub.status.busy": "2023-02-10T04:05:34.349066Z",
     "iopub.status.idle": "2023-02-10T04:05:34.356281Z",
     "shell.execute_reply": "2023-02-10T04:05:34.354791Z"
    },
    "papermill": {
     "duration": 0.018764,
     "end_time": "2023-02-10T04:05:34.358784",
     "exception": false,
     "start_time": "2023-02-10T04:05:34.340020",
     "status": "completed"
    },
    "tags": []
   },
   "outputs": [],
   "source": [
    "class CFG:\n",
    "    input_dir = '/kaggle/input/learning-equality-curriculum-recommendations'\n",
    "    cv_dir = '/kaggle/working/cv_data'\n",
    "    \n",
    "    content_dir = os.path.join(input_dir, 'content.csv')\n",
    "    correlation_dir = os.path.join(input_dir, 'correlations.csv')\n",
    "    submission_dir = os.path.join(input_dir, 'sample_submission.csv')\n",
    "    topic_dir = os.path.join(input_dir, 'topics.csv')\n",
    "    \n",
    "    max_len = 38\n",
    "    seed = 11\n",
    "    n_fold = 4"
   ]
  },
  {
   "cell_type": "code",
   "execution_count": 3,
   "id": "e318fce5",
   "metadata": {
    "execution": {
     "iopub.execute_input": "2023-02-10T04:05:34.375546Z",
     "iopub.status.busy": "2023-02-10T04:05:34.375048Z",
     "iopub.status.idle": "2023-02-10T04:05:55.743722Z",
     "shell.execute_reply": "2023-02-10T04:05:55.742266Z"
    },
    "papermill": {
     "duration": 21.38069,
     "end_time": "2023-02-10T04:05:55.746878",
     "exception": false,
     "start_time": "2023-02-10T04:05:34.366188",
     "status": "completed"
    },
    "tags": []
   },
   "outputs": [],
   "source": [
    "df_content = pd.read_csv(CFG.content_dir)\n",
    "df_corr = pd.read_csv(CFG.correlation_dir)\n",
    "df_sub = pd.read_csv(CFG.submission_dir)\n",
    "df_topic = pd.read_csv(CFG.topic_dir)"
   ]
  },
  {
   "cell_type": "code",
   "execution_count": 4,
   "id": "db3e646e",
   "metadata": {
    "execution": {
     "iopub.execute_input": "2023-02-10T04:05:55.763253Z",
     "iopub.status.busy": "2023-02-10T04:05:55.762794Z",
     "iopub.status.idle": "2023-02-10T04:05:55.800785Z",
     "shell.execute_reply": "2023-02-10T04:05:55.799565Z"
    },
    "papermill": {
     "duration": 0.048896,
     "end_time": "2023-02-10T04:05:55.803160",
     "exception": false,
     "start_time": "2023-02-10T04:05:55.754264",
     "status": "completed"
    },
    "tags": []
   },
   "outputs": [
    {
     "data": {
      "text/plain": [
       "True     25003\n",
       "False     8482\n",
       "Name: has_content, dtype: int64"
      ]
     },
     "execution_count": 4,
     "metadata": {},
     "output_type": "execute_result"
    }
   ],
   "source": [
    "df_topic.query(\"category!='source'\")['has_content'].value_counts()"
   ]
  },
  {
   "cell_type": "code",
   "execution_count": 5,
   "id": "16334d93",
   "metadata": {
    "execution": {
     "iopub.execute_input": "2023-02-10T04:05:55.819650Z",
     "iopub.status.busy": "2023-02-10T04:05:55.819146Z",
     "iopub.status.idle": "2023-02-10T04:05:55.829129Z",
     "shell.execute_reply": "2023-02-10T04:05:55.827931Z"
    },
    "papermill": {
     "duration": 0.021086,
     "end_time": "2023-02-10T04:05:55.831651",
     "exception": false,
     "start_time": "2023-02-10T04:05:55.810565",
     "status": "completed"
    },
    "tags": []
   },
   "outputs": [
    {
     "data": {
      "text/plain": [
       "True     61517\n",
       "False    15455\n",
       "Name: has_content, dtype: int64"
      ]
     },
     "execution_count": 5,
     "metadata": {},
     "output_type": "execute_result"
    }
   ],
   "source": [
    "df_topic['has_content'].value_counts()"
   ]
  },
  {
   "cell_type": "markdown",
   "id": "656811f7",
   "metadata": {
    "papermill": {
     "duration": 0.007128,
     "end_time": "2023-02-10T04:05:55.846152",
     "exception": false,
     "start_time": "2023-02-10T04:05:55.839024",
     "status": "completed"
    },
    "tags": []
   },
   "source": [
    "## 准备训练数据"
   ]
  },
  {
   "cell_type": "code",
   "execution_count": 6,
   "id": "4f3412ee",
   "metadata": {
    "execution": {
     "iopub.execute_input": "2023-02-10T04:05:55.863249Z",
     "iopub.status.busy": "2023-02-10T04:05:55.862785Z",
     "iopub.status.idle": "2023-02-10T04:05:55.875606Z",
     "shell.execute_reply": "2023-02-10T04:05:55.873655Z"
    },
    "papermill": {
     "duration": 0.024522,
     "end_time": "2023-02-10T04:05:55.878105",
     "exception": false,
     "start_time": "2023-02-10T04:05:55.853583",
     "status": "completed"
    },
    "tags": []
   },
   "outputs": [],
   "source": [
    "def prepare_topic(cfg):\n",
    "    topic = pd.read_csv(cfg.topic_dir)\n",
    "    topic['title'] = topic['title'].fillna(topic[\"description\"]).fillna('')\n",
    "    return topic\n",
    "    \n",
    "def prepare_content(cfg):\n",
    "    content = pd.read_csv(cfg.content_dir)\n",
    "    content['title'] = content['title'].fillna(content[\"description\"]).fillna(content['text']).fillna('')\n",
    "    return content\n",
    "\n",
    "def prepare_correlation(cfg):\n",
    "    correlation = pd.read_csv(cfg.correlation_dir)\n",
    "    correlation['content_id']=correlation['content_ids'].apply(lambda x: x.split())\n",
    "    correlation = correlation.explode('content_id').drop(columns='content_ids')\n",
    "    return correlation\n",
    "\n",
    "def merge_train_data(cfg, content_cols=['id', 'title'], topic_cols=['id', 'title']):\n",
    "    dup_cols = ['id', 'title', 'description', 'language']\n",
    "    topic = prepare_topic(cfg)\n",
    "    content = prepare_content(cfg)\n",
    "    correlation = prepare_correlation(cfg)\n",
    "    correlation = (\n",
    "        correlation\n",
    "        .merge(content[content_cols], left_on='content_id', right_on='id', how='left')\n",
    "        .drop(columns='id')\n",
    "        .rename(columns=dict(zip(dup_cols, ['content_'+x for x in dup_cols])))\n",
    "        .merge(topic[topic_cols], left_on='topic_id', right_on='id', how='left')\n",
    "        .drop(columns='id')\n",
    "        .rename(columns=dict(zip(dup_cols, ['topic_'+x for x in dup_cols])))\n",
    "    )\n",
    "    return correlation"
   ]
  },
  {
   "cell_type": "code",
   "execution_count": 7,
   "id": "f2153039",
   "metadata": {
    "execution": {
     "iopub.execute_input": "2023-02-10T04:05:55.897305Z",
     "iopub.status.busy": "2023-02-10T04:05:55.895680Z",
     "iopub.status.idle": "2023-02-10T04:06:07.158912Z",
     "shell.execute_reply": "2023-02-10T04:06:07.157850Z"
    },
    "papermill": {
     "duration": 11.274206,
     "end_time": "2023-02-10T04:06:07.161027",
     "exception": false,
     "start_time": "2023-02-10T04:05:55.886821",
     "status": "completed"
    },
    "tags": []
   },
   "outputs": [
    {
     "name": "stdout",
     "output_type": "stream",
     "text": [
      "CPU times: user 10.4 s, sys: 788 ms, total: 11.2 s\n",
      "Wall time: 11.2 s\n"
     ]
    },
    {
     "data": {
      "text/html": [
       "<div>\n",
       "<style scoped>\n",
       "    .dataframe tbody tr th:only-of-type {\n",
       "        vertical-align: middle;\n",
       "    }\n",
       "\n",
       "    .dataframe tbody tr th {\n",
       "        vertical-align: top;\n",
       "    }\n",
       "\n",
       "    .dataframe thead th {\n",
       "        text-align: right;\n",
       "    }\n",
       "</style>\n",
       "<table border=\"1\" class=\"dataframe\">\n",
       "  <thead>\n",
       "    <tr style=\"text-align: right;\">\n",
       "      <th></th>\n",
       "      <th>topic_id</th>\n",
       "      <th>content_id</th>\n",
       "      <th>content_title</th>\n",
       "      <th>content_description</th>\n",
       "      <th>content_language</th>\n",
       "      <th>topic_title</th>\n",
       "      <th>topic_description</th>\n",
       "      <th>channel</th>\n",
       "      <th>category</th>\n",
       "      <th>topic_language</th>\n",
       "    </tr>\n",
       "  </thead>\n",
       "  <tbody>\n",
       "    <tr>\n",
       "      <th>0</th>\n",
       "      <td>t_00004da3a1b2</td>\n",
       "      <td>c_1108dd0c7a5d</td>\n",
       "      <td>Молив като резистор</td>\n",
       "      <td>Моливът причинява промяна в отклонението, подо...</td>\n",
       "      <td>bg</td>\n",
       "      <td>Откриването на резисторите</td>\n",
       "      <td>Изследване на материали, които предизвикват на...</td>\n",
       "      <td>000cf7</td>\n",
       "      <td>source</td>\n",
       "      <td>bg</td>\n",
       "    </tr>\n",
       "    <tr>\n",
       "      <th>1</th>\n",
       "      <td>t_00004da3a1b2</td>\n",
       "      <td>c_376c5a8eb028</td>\n",
       "      <td>Да чуем променливото съпротивление</td>\n",
       "      <td>Тук чертаем линия на лист хартия и я използвам...</td>\n",
       "      <td>bg</td>\n",
       "      <td>Откриването на резисторите</td>\n",
       "      <td>Изследване на материали, които предизвикват на...</td>\n",
       "      <td>000cf7</td>\n",
       "      <td>source</td>\n",
       "      <td>bg</td>\n",
       "    </tr>\n",
       "    <tr>\n",
       "      <th>2</th>\n",
       "      <td>t_00004da3a1b2</td>\n",
       "      <td>c_5bc0e1e2cba0</td>\n",
       "      <td>Променлив резистор (реостат) с графит от молив</td>\n",
       "      <td>Използваме сърцевината на молива (неговия граф...</td>\n",
       "      <td>bg</td>\n",
       "      <td>Откриването на резисторите</td>\n",
       "      <td>Изследване на материали, които предизвикват на...</td>\n",
       "      <td>000cf7</td>\n",
       "      <td>source</td>\n",
       "      <td>bg</td>\n",
       "    </tr>\n",
       "    <tr>\n",
       "      <th>3</th>\n",
       "      <td>t_00004da3a1b2</td>\n",
       "      <td>c_76231f9d0b5e</td>\n",
       "      <td>Последователно свързване на галваничен елемент...</td>\n",
       "      <td>Защо отклонението се променя, когато се свърже...</td>\n",
       "      <td>bg</td>\n",
       "      <td>Откриването на резисторите</td>\n",
       "      <td>Изследване на материали, които предизвикват на...</td>\n",
       "      <td>000cf7</td>\n",
       "      <td>source</td>\n",
       "      <td>bg</td>\n",
       "    </tr>\n",
       "    <tr>\n",
       "      <th>4</th>\n",
       "      <td>t_00068291e9a4</td>\n",
       "      <td>c_639ea2ef9c95</td>\n",
       "      <td>Dados e resultados de funções: gráficos</td>\n",
       "      <td>Encontre todas as entradas que correspondem a ...</td>\n",
       "      <td>pt</td>\n",
       "      <td>Entradas e saídas de uma função</td>\n",
       "      <td>Entenda um pouco mais sobre funções.</td>\n",
       "      <td>8e286a</td>\n",
       "      <td>source</td>\n",
       "      <td>pt</td>\n",
       "    </tr>\n",
       "    <tr>\n",
       "      <th>...</th>\n",
       "      <td>...</td>\n",
       "      <td>...</td>\n",
       "      <td>...</td>\n",
       "      <td>...</td>\n",
       "      <td>...</td>\n",
       "      <td>...</td>\n",
       "      <td>...</td>\n",
       "      <td>...</td>\n",
       "      <td>...</td>\n",
       "      <td>...</td>\n",
       "    </tr>\n",
       "    <tr>\n",
       "      <th>279914</th>\n",
       "      <td>t_fff9e5407d13</td>\n",
       "      <td>c_d64037a72376</td>\n",
       "      <td>Introducción: El periódico</td>\n",
       "      <td>NaN</td>\n",
       "      <td>es</td>\n",
       "      <td>NA_U06 - El periódico</td>\n",
       "      <td>NaN</td>\n",
       "      <td>71fd51</td>\n",
       "      <td>supplemental</td>\n",
       "      <td>es</td>\n",
       "    </tr>\n",
       "    <tr>\n",
       "      <th>279915</th>\n",
       "      <td>t_fffbe1d5d43c</td>\n",
       "      <td>c_46f852a49c08</td>\n",
       "      <td>Proof: Right triangles inscribed in circles -d...</td>\n",
       "      <td>Proof showing that a triangle inscribed in a c...</td>\n",
       "      <td>sw</td>\n",
       "      <td>Inscribed shapes problem solving</td>\n",
       "      <td>Use properties of inscribed angles to prove pr...</td>\n",
       "      <td>0c929f</td>\n",
       "      <td>source</td>\n",
       "      <td>sw</td>\n",
       "    </tr>\n",
       "    <tr>\n",
       "      <th>279916</th>\n",
       "      <td>t_fffbe1d5d43c</td>\n",
       "      <td>c_6659207b25d5</td>\n",
       "      <td>Area of inscribed equilateral triangle -dubbed...</td>\n",
       "      <td>A worked example of finding the area of an equ...</td>\n",
       "      <td>sw</td>\n",
       "      <td>Inscribed shapes problem solving</td>\n",
       "      <td>Use properties of inscribed angles to prove pr...</td>\n",
       "      <td>0c929f</td>\n",
       "      <td>source</td>\n",
       "      <td>sw</td>\n",
       "    </tr>\n",
       "    <tr>\n",
       "      <th>279917</th>\n",
       "      <td>t_fffe14f1be1e</td>\n",
       "      <td>c_cece166bad6a</td>\n",
       "      <td>Juego con las palabras</td>\n",
       "      <td>NaN</td>\n",
       "      <td>es</td>\n",
       "      <td>Lección 7</td>\n",
       "      <td>NaN</td>\n",
       "      <td>6e90a7</td>\n",
       "      <td>aligned</td>\n",
       "      <td>es</td>\n",
       "    </tr>\n",
       "    <tr>\n",
       "      <th>279918</th>\n",
       "      <td>t_fffe811a6da9</td>\n",
       "      <td>c_92b8fad372ee</td>\n",
       "      <td>التقييم</td>\n",
       "      <td>5b0a30e7b42e8704a45b2bfd</td>\n",
       "      <td>ar</td>\n",
       "      <td>تحديد العلاقة بين الإحداثيّات القطبية والإحداث...</td>\n",
       "      <td>5b9e5ca86571f90499ea987f</td>\n",
       "      <td>9fd860</td>\n",
       "      <td>source</td>\n",
       "      <td>ar</td>\n",
       "    </tr>\n",
       "  </tbody>\n",
       "</table>\n",
       "<p>279919 rows × 10 columns</p>\n",
       "</div>"
      ],
      "text/plain": [
       "              topic_id      content_id  \\\n",
       "0       t_00004da3a1b2  c_1108dd0c7a5d   \n",
       "1       t_00004da3a1b2  c_376c5a8eb028   \n",
       "2       t_00004da3a1b2  c_5bc0e1e2cba0   \n",
       "3       t_00004da3a1b2  c_76231f9d0b5e   \n",
       "4       t_00068291e9a4  c_639ea2ef9c95   \n",
       "...                ...             ...   \n",
       "279914  t_fff9e5407d13  c_d64037a72376   \n",
       "279915  t_fffbe1d5d43c  c_46f852a49c08   \n",
       "279916  t_fffbe1d5d43c  c_6659207b25d5   \n",
       "279917  t_fffe14f1be1e  c_cece166bad6a   \n",
       "279918  t_fffe811a6da9  c_92b8fad372ee   \n",
       "\n",
       "                                            content_title  \\\n",
       "0                                     Молив като резистор   \n",
       "1                      Да чуем променливото съпротивление   \n",
       "2          Променлив резистор (реостат) с графит от молив   \n",
       "3       Последователно свързване на галваничен елемент...   \n",
       "4                 Dados e resultados de funções: gráficos   \n",
       "...                                                   ...   \n",
       "279914                         Introducción: El periódico   \n",
       "279915  Proof: Right triangles inscribed in circles -d...   \n",
       "279916  Area of inscribed equilateral triangle -dubbed...   \n",
       "279917                             Juego con las palabras   \n",
       "279918                                            التقييم   \n",
       "\n",
       "                                      content_description content_language  \\\n",
       "0       Моливът причинява промяна в отклонението, подо...               bg   \n",
       "1       Тук чертаем линия на лист хартия и я използвам...               bg   \n",
       "2       Използваме сърцевината на молива (неговия граф...               bg   \n",
       "3       Защо отклонението се променя, когато се свърже...               bg   \n",
       "4       Encontre todas as entradas que correspondem a ...               pt   \n",
       "...                                                   ...              ...   \n",
       "279914                                                NaN               es   \n",
       "279915  Proof showing that a triangle inscribed in a c...               sw   \n",
       "279916  A worked example of finding the area of an equ...               sw   \n",
       "279917                                                NaN               es   \n",
       "279918                           5b0a30e7b42e8704a45b2bfd               ar   \n",
       "\n",
       "                                              topic_title  \\\n",
       "0                              Откриването на резисторите   \n",
       "1                              Откриването на резисторите   \n",
       "2                              Откриването на резисторите   \n",
       "3                              Откриването на резисторите   \n",
       "4                         Entradas e saídas de uma função   \n",
       "...                                                   ...   \n",
       "279914                              NA_U06 - El periódico   \n",
       "279915                   Inscribed shapes problem solving   \n",
       "279916                   Inscribed shapes problem solving   \n",
       "279917                                          Lección 7   \n",
       "279918  تحديد العلاقة بين الإحداثيّات القطبية والإحداث...   \n",
       "\n",
       "                                        topic_description channel  \\\n",
       "0       Изследване на материали, които предизвикват на...  000cf7   \n",
       "1       Изследване на материали, които предизвикват на...  000cf7   \n",
       "2       Изследване на материали, които предизвикват на...  000cf7   \n",
       "3       Изследване на материали, които предизвикват на...  000cf7   \n",
       "4                    Entenda um pouco mais sobre funções.  8e286a   \n",
       "...                                                   ...     ...   \n",
       "279914                                                NaN  71fd51   \n",
       "279915  Use properties of inscribed angles to prove pr...  0c929f   \n",
       "279916  Use properties of inscribed angles to prove pr...  0c929f   \n",
       "279917                                                NaN  6e90a7   \n",
       "279918                           5b9e5ca86571f90499ea987f  9fd860   \n",
       "\n",
       "            category topic_language  \n",
       "0             source             bg  \n",
       "1             source             bg  \n",
       "2             source             bg  \n",
       "3             source             bg  \n",
       "4             source             pt  \n",
       "...              ...            ...  \n",
       "279914  supplemental             es  \n",
       "279915        source             sw  \n",
       "279916        source             sw  \n",
       "279917       aligned             es  \n",
       "279918        source             ar  \n",
       "\n",
       "[279919 rows x 10 columns]"
      ]
     },
     "execution_count": 7,
     "metadata": {},
     "output_type": "execute_result"
    }
   ],
   "source": [
    "%%time\n",
    "content_cols = ['id', 'title', 'description', 'language']\n",
    "topic_cols = ['id', 'title', 'description', 'channel', 'category', 'language']\n",
    "df_train = merge_train_data(CFG, content_cols, topic_cols)\n",
    "df_train"
   ]
  },
  {
   "cell_type": "markdown",
   "id": "35ca35b7",
   "metadata": {
    "papermill": {
     "duration": 0.007829,
     "end_time": "2023-02-10T04:06:07.177454",
     "exception": false,
     "start_time": "2023-02-10T04:06:07.169625",
     "status": "completed"
    },
    "tags": []
   },
   "source": [
    "## One Fold CV"
   ]
  },
  {
   "cell_type": "markdown",
   "id": "42f3326f",
   "metadata": {
    "papermill": {
     "duration": 0.007606,
     "end_time": "2023-02-10T04:06:07.193132",
     "exception": false,
     "start_time": "2023-02-10T04:06:07.185526",
     "status": "completed"
    },
    "tags": []
   },
   "source": [
    "### Train Valid Split\n",
    "1. 同一个channel的category唯一\n",
    "2. 不同语言的字数统计方式不同，按字长分可能对部分语言不友好\n",
    "3. 合适的candidate feature for split有channel category language[???]\n",
    "4. test set中的channel会出现训练集中有过的channel + 全新的channel\n",
    "5. test set中的category只有aligned和supplemental，没有source\n",
    "6. 将train set和valid set中的content分很开可能没用，因为测试环境中的content是训练集content的超集"
   ]
  },
  {
   "cell_type": "code",
   "execution_count": 8,
   "id": "2267ce8e",
   "metadata": {
    "execution": {
     "iopub.execute_input": "2023-02-10T04:06:07.211358Z",
     "iopub.status.busy": "2023-02-10T04:06:07.210884Z",
     "iopub.status.idle": "2023-02-10T04:06:07.220090Z",
     "shell.execute_reply": "2023-02-10T04:06:07.218359Z"
    },
    "papermill": {
     "duration": 0.021,
     "end_time": "2023-02-10T04:06:07.222060",
     "exception": false,
     "start_time": "2023-02-10T04:06:07.201060",
     "status": "completed"
    },
    "tags": []
   },
   "outputs": [],
   "source": [
    "def cv_split(df_train, cfg):\n",
    "    df_train['fold'] = -1\n",
    "    df_candidates = df_train[df_train[\"category\"]!='source'].copy(deep=True).reset_index(drop=True)\n",
    "    df_candidates['count'] = df_candidates.groupby('channel')['channel'].transform('count')\n",
    "    cv = StratifiedGroupKFold(n_splits=cfg.n_fold, random_state=cfg.seed, shuffle=True)\n",
    "    for i, (train_index, test_index) in enumerate(cv.split(df_candidates, df_candidates['topic_language'], df_candidates['channel'],)):\n",
    "        df_candidates.loc[test_index, 'fold'] = i\n",
    "\n",
    "    df_source = df_train.query('category==\"source\"')\n",
    "    df_train.drop(columns='fold', inplace=True)\n",
    "    df_train = pd.concat([df_candidates, df_source]).reset_index(drop=True) \n",
    "    df_train = df_train.drop(columns=['count'])\n",
    "    return df_train"
   ]
  },
  {
   "cell_type": "code",
   "execution_count": 9,
   "id": "62b291a1",
   "metadata": {
    "execution": {
     "iopub.execute_input": "2023-02-10T04:06:07.239658Z",
     "iopub.status.busy": "2023-02-10T04:06:07.238593Z",
     "iopub.status.idle": "2023-02-10T04:06:07.882417Z",
     "shell.execute_reply": "2023-02-10T04:06:07.881288Z"
    },
    "papermill": {
     "duration": 0.65576,
     "end_time": "2023-02-10T04:06:07.885552",
     "exception": false,
     "start_time": "2023-02-10T04:06:07.229792",
     "status": "completed"
    },
    "tags": []
   },
   "outputs": [
    {
     "name": "stdout",
     "output_type": "stream",
     "text": [
      "CPU times: user 618 ms, sys: 16 ms, total: 634 ms\n",
      "Wall time: 637 ms\n"
     ]
    }
   ],
   "source": [
    "%%time\n",
    "df_train = cv_split(df_train, CFG)"
   ]
  },
  {
   "cell_type": "code",
   "execution_count": 10,
   "id": "2f01b59d",
   "metadata": {
    "execution": {
     "iopub.execute_input": "2023-02-10T04:06:07.903733Z",
     "iopub.status.busy": "2023-02-10T04:06:07.903243Z",
     "iopub.status.idle": "2023-02-10T04:06:07.967216Z",
     "shell.execute_reply": "2023-02-10T04:06:07.965901Z"
    },
    "papermill": {
     "duration": 0.076315,
     "end_time": "2023-02-10T04:06:07.969953",
     "exception": false,
     "start_time": "2023-02-10T04:06:07.893638",
     "status": "completed"
    },
    "tags": []
   },
   "outputs": [
    {
     "data": {
      "text/plain": [
       "channel  topic_language  fold\n",
       "00a2b4   bn              1         392\n",
       "018d08   en              1         195\n",
       "01dbc1   en              2         734\n",
       "02be07   bn              2         107\n",
       "03de11   en              1         164\n",
       "05be9f   en              3         520\n",
       "064c49   en              0          85\n",
       "0a9df7   en              3         339\n",
       "0f546a   en              0         336\n",
       "11171c   en              3         221\n",
       "14cb7f   en              2        1514\n",
       "14d190   en              0         947\n",
       "179e73   es              2         835\n",
       "1843c5   en              3         166\n",
       "1b97a4   pt              2         176\n",
       "1dfd91   en              2         197\n",
       "1fb613   en              1        2598\n",
       "2293a4   en              2         517\n",
       "231e82   es              0          76\n",
       "239d8f   es              1          88\n",
       "23f9e1   en              1         244\n",
       "274269   en              2        2644\n",
       "2765c6   en              0        1643\n",
       "2ee29d   en              2       16735\n",
       "344113   en              0        2958\n",
       "36068f   bn              3         623\n",
       "383b8a   en              1         866\n",
       "39979b   en              3         644\n",
       "42e8ef   es              3        2071\n",
       "484bd2   es              3        1430\n",
       "494cf2   en              3         157\n",
       "49ea7a   en              1         257\n",
       "4a1401   en              0         176\n",
       "4b0f81   en              0         702\n",
       "50083f   en              1         786\n",
       "50fe84   en              3        4104\n",
       "5223e0   gu              3        1673\n",
       "54971d   es              1         841\n",
       "57e9d3   pt              0         373\n",
       "5c4c46   sw              0         416\n",
       "5d4a02   en              1         869\n",
       "5de4e5   en              0         160\n",
       "6465e0   es              2          61\n",
       "64cbe8   es              2         108\n",
       "686d66   en              3         232\n",
       "6b09a4   en              1         497\n",
       "6e90a7   en              1         173\n",
       "         es              1        5329\n",
       "71fd51   es              1         884\n",
       "75fbe2   en              2         236\n",
       "760ea6   en              2         735\n",
       "7db7f2   en              1        1246\n",
       "7f116c   en              1        1916\n",
       "858f89   en              0         162\n",
       "88c9d6   en              3        6067\n",
       "8afc0b   en              2         854\n",
       "8b5488   es              2         221\n",
       "8bbad6   en              2        1318\n",
       "956596   bn              1         254\n",
       "983e56   en              3         154\n",
       "998b74   en              2          83\n",
       "998df9   es              2        1503\n",
       "9d5527   en              1          84\n",
       "a2924d   en              1         136\n",
       "a91e32   en              3         531\n",
       "abd7dc   en              3         911\n",
       "b3f329   en              3        1602\n",
       "b4897d   en              3         457\n",
       "bae253   en              0         897\n",
       "bae778   en              1         139\n",
       "bb3a0c   en              1         130\n",
       "bda367   en              0         204\n",
       "bfc678   fr              3        1761\n",
       "c1d57e   pt              2         896\n",
       "c36745   fr              3         786\n",
       "c7ca13   en              3         798\n",
       "c8450a   as              1         212\n",
       "         en              1          23\n",
       "c88ff6   fil             2         666\n",
       "cc360a   en              1         142\n",
       "cf94d5   en              3        2175\n",
       "cfc6dd   en              1         224\n",
       "d2ac0e   hi              0        1820\n",
       "d30518   en              0         252\n",
       "d4eeb3   en              3         814\n",
       "d5963f   es              3         507\n",
       "d5fb04   en              2        1130\n",
       "e77b55   en              1        2109\n",
       "ebc86c   en              0        4796\n",
       "ef2088   en              0        3463\n",
       "ef93f0   en              3         395\n",
       "f08256   en              0          58\n",
       "f65044   es              3         746\n",
       "f9db19   es              1         136\n",
       "fc1d48   es              2          47\n",
       "fc9105   es              0         970\n",
       "dtype: int64"
      ]
     },
     "execution_count": 10,
     "metadata": {},
     "output_type": "execute_result"
    }
   ],
   "source": [
    "df_train.query('fold!=-1').groupby(['channel', 'topic_language', 'fold']).size()"
   ]
  },
  {
   "cell_type": "code",
   "execution_count": 11,
   "id": "4ed32fa8",
   "metadata": {
    "execution": {
     "iopub.execute_input": "2023-02-10T04:06:07.988630Z",
     "iopub.status.busy": "2023-02-10T04:06:07.988173Z",
     "iopub.status.idle": "2023-02-10T04:06:08.001137Z",
     "shell.execute_reply": "2023-02-10T04:06:08.000127Z"
    },
    "papermill": {
     "duration": 0.02474,
     "end_time": "2023-02-10T04:06:08.003037",
     "exception": false,
     "start_time": "2023-02-10T04:06:07.978297",
     "status": "completed"
    },
    "tags": []
   },
   "outputs": [
    {
     "data": {
      "text/plain": [
       "-1    177290\n",
       " 2     31317\n",
       " 3     29884\n",
       " 1     20934\n",
       " 0     20494\n",
       "Name: fold, dtype: int64"
      ]
     },
     "execution_count": 11,
     "metadata": {},
     "output_type": "execute_result"
    }
   ],
   "source": [
    "df_train['fold'].value_counts()"
   ]
  },
  {
   "cell_type": "code",
   "execution_count": 12,
   "id": "a0326f8b",
   "metadata": {
    "execution": {
     "iopub.execute_input": "2023-02-10T04:06:08.022777Z",
     "iopub.status.busy": "2023-02-10T04:06:08.021038Z",
     "iopub.status.idle": "2023-02-10T04:06:08.096313Z",
     "shell.execute_reply": "2023-02-10T04:06:08.094565Z"
    },
    "papermill": {
     "duration": 0.088463,
     "end_time": "2023-02-10T04:06:08.099748",
     "exception": false,
     "start_time": "2023-02-10T04:06:08.011285",
     "status": "completed"
    },
    "tags": []
   },
   "outputs": [],
   "source": [
    "tk0 = (df_train.query('fold!=0'), df_train.query('fold==0'))"
   ]
  },
  {
   "cell_type": "markdown",
   "id": "36ab2a86",
   "metadata": {
    "papermill": {
     "duration": 0.008304,
     "end_time": "2023-02-10T04:06:08.116686",
     "exception": false,
     "start_time": "2023-02-10T04:06:08.108382",
     "status": "completed"
    },
    "tags": []
   },
   "source": [
    "Save train test dataset"
   ]
  },
  {
   "cell_type": "code",
   "execution_count": 13,
   "id": "d57584d0",
   "metadata": {
    "execution": {
     "iopub.execute_input": "2023-02-10T04:06:08.135665Z",
     "iopub.status.busy": "2023-02-10T04:06:08.135167Z",
     "iopub.status.idle": "2023-02-10T04:06:08.141218Z",
     "shell.execute_reply": "2023-02-10T04:06:08.139881Z"
    },
    "papermill": {
     "duration": 0.018428,
     "end_time": "2023-02-10T04:06:08.143596",
     "exception": false,
     "start_time": "2023-02-10T04:06:08.125168",
     "status": "completed"
    },
    "tags": []
   },
   "outputs": [],
   "source": [
    "if not os.path.exists(CFG.cv_dir):\n",
    "    os.makedirs(CFG.cv_dir)"
   ]
  },
  {
   "cell_type": "code",
   "execution_count": 14,
   "id": "fff96ab9",
   "metadata": {
    "execution": {
     "iopub.execute_input": "2023-02-10T04:06:08.164785Z",
     "iopub.status.busy": "2023-02-10T04:06:08.164105Z",
     "iopub.status.idle": "2023-02-10T04:07:14.016242Z",
     "shell.execute_reply": "2023-02-10T04:07:14.014729Z"
    },
    "papermill": {
     "duration": 65.874112,
     "end_time": "2023-02-10T04:07:14.027266",
     "exception": false,
     "start_time": "2023-02-10T04:06:08.153154",
     "status": "completed"
    },
    "tags": []
   },
   "outputs": [
    {
     "name": "stderr",
     "output_type": "stream",
     "text": [
      "100%|██████████| 4/4 [01:05<00:00, 16.46s/it]"
     ]
    },
    {
     "name": "stdout",
     "output_type": "stream",
     "text": [
      "CPU times: user 1min 2s, sys: 2.94 s, total: 1min 5s\n",
      "Wall time: 1min 5s\n"
     ]
    },
    {
     "name": "stderr",
     "output_type": "stream",
     "text": [
      "\n"
     ]
    }
   ],
   "source": [
    "%%time\n",
    "for i in tqdm(range(CFG.n_fold)):\n",
    "    dir_name = os.path.join(CFG.cv_dir, f'fold_{i}')\n",
    "    if not os.path.exists(dir_name):\n",
    "        os.makedirs(dir_name)\n",
    "    train = df_train.query('fold!=@i')\n",
    "    test = df_train.query('fold==@i')\n",
    "    correlations = train.groupby('topic_id')['content_id'].apply(lambda x: \" \".join(x)).reset_index(name='content_ids')\n",
    "    submission = test.groupby('topic_id')['content_id'].apply(lambda x: \" \".join(x)).reset_index(name='content_ids')\n",
    "    \n",
    "    df_topic.to_csv(os.path.join(dir_name, 'topics.csv'), index=False)\n",
    "    df_content.to_csv(os.path.join(dir_name, 'content.csv'), index=False)\n",
    "    correlations.to_csv(os.path.join(dir_name, 'correlations.csv'), index=False)\n",
    "    submission.to_csv(os.path.join(dir_name, 'sample_submission.csv'), index=False)\n",
    "    \n",
    "    train[['topic_id']].to_csv(os.path.join(dir_name, 'train_topic.csv'), index=False)\n",
    "    test[['topic_id']].to_csv(os.path.join(dir_name, 'test_topic.csv'), index=False)"
   ]
  },
  {
   "cell_type": "code",
   "execution_count": 15,
   "id": "edf7f4bf",
   "metadata": {
    "execution": {
     "iopub.execute_input": "2023-02-10T04:07:14.047977Z",
     "iopub.status.busy": "2023-02-10T04:07:14.046537Z",
     "iopub.status.idle": "2023-02-10T04:07:14.699977Z",
     "shell.execute_reply": "2023-02-10T04:07:14.698679Z"
    },
    "papermill": {
     "duration": 0.666851,
     "end_time": "2023-02-10T04:07:14.703081",
     "exception": false,
     "start_time": "2023-02-10T04:07:14.036230",
     "status": "completed"
    },
    "tags": []
   },
   "outputs": [
    {
     "name": "stdout",
     "output_type": "stream",
     "text": [
      "fold_0\tfold_1\tfold_2\tfold_3\r\n",
      "content.csv\t  sample_submission.csv  topics.csv\r\n",
      "correlations.csv  test_topic.csv\t train_topic.csv\r\n"
     ]
    }
   ],
   "source": [
    "!ls cv_data\n",
    "!ls cv_data/fold_0"
   ]
  },
  {
   "cell_type": "markdown",
   "id": "a05d116b",
   "metadata": {
    "papermill": {
     "duration": 0.008034,
     "end_time": "2023-02-10T04:07:14.719826",
     "exception": false,
     "start_time": "2023-02-10T04:07:14.711792",
     "status": "completed"
    },
    "tags": []
   },
   "source": [
    "## 为叶子topic抽取先前节点的特征\n",
    "仅包含has_content=True的特征"
   ]
  },
  {
   "cell_type": "code",
   "execution_count": 16,
   "id": "01d89311",
   "metadata": {
    "execution": {
     "iopub.execute_input": "2023-02-10T04:07:14.738344Z",
     "iopub.status.busy": "2023-02-10T04:07:14.737847Z",
     "iopub.status.idle": "2023-02-10T04:07:14.749711Z",
     "shell.execute_reply": "2023-02-10T04:07:14.748064Z"
    },
    "papermill": {
     "duration": 0.023995,
     "end_time": "2023-02-10T04:07:14.751879",
     "exception": false,
     "start_time": "2023-02-10T04:07:14.727884",
     "status": "completed"
    },
    "tags": []
   },
   "outputs": [],
   "source": [
    "# function to extract the level features for each leaf topic\n",
    "def get_level_features(df_topic, level_cols=['title']):\n",
    "    df_hier = df_topic[set(level_cols + ['id', 'parent', 'level', 'has_content'])]\n",
    "    highest_level = df_hier['level'].max()\n",
    "    print(f'Highest Level: {highest_level}')\n",
    "    \n",
    "    df_level = df_hier.query('level == 0').copy(deep=True)\n",
    "    level_list = list()\n",
    "    for col in level_cols:\n",
    "        df_level[f'{col}_level'] = df_level[f'{col}'].apply(lambda x: [x])\n",
    "\n",
    "    for i in tqdm(range(highest_level + 1)):\n",
    "        level_list.append(df_level[df_level['has_content']])\n",
    "        df_level_high = df_hier.query('level == @i+1')\n",
    "        df_level = df_level_high.merge(df_level, left_on='parent', right_on='id', suffixes=['', '_parent'], how='inner')\n",
    "        for col in level_cols:\n",
    "            df_level[f'{col}_level'] = df_level[f'{col}_level'] + df_level[f'{col}'].apply(lambda x: [x])\n",
    "        for col in df_level.columns:\n",
    "            if col.endswith('_parent'):\n",
    "                df_level.drop(columns=col, inplace=True)\n",
    "    df = pd.concat(level_list).reset_index(drop=True)\n",
    "    return df[set(['id'] + [f'{col}_level' for col in level_cols])]"
   ]
  },
  {
   "cell_type": "code",
   "execution_count": 17,
   "id": "fcf2fec6",
   "metadata": {
    "execution": {
     "iopub.execute_input": "2023-02-10T04:07:14.770414Z",
     "iopub.status.busy": "2023-02-10T04:07:14.769964Z",
     "iopub.status.idle": "2023-02-10T04:07:17.428031Z",
     "shell.execute_reply": "2023-02-10T04:07:17.426347Z"
    },
    "papermill": {
     "duration": 2.670008,
     "end_time": "2023-02-10T04:07:17.430299",
     "exception": false,
     "start_time": "2023-02-10T04:07:14.760291",
     "status": "completed"
    },
    "tags": []
   },
   "outputs": [
    {
     "name": "stdout",
     "output_type": "stream",
     "text": [
      "Highest Level: 10\n"
     ]
    },
    {
     "name": "stderr",
     "output_type": "stream",
     "text": [
      "100%|██████████| 11/11 [00:02<00:00,  4.51it/s]\n"
     ]
    },
    {
     "name": "stdout",
     "output_type": "stream",
     "text": [
      "CPU times: user 2.57 s, sys: 58.2 ms, total: 2.62 s\n",
      "Wall time: 2.62 s\n"
     ]
    },
    {
     "data": {
      "text/html": [
       "<div>\n",
       "<style scoped>\n",
       "    .dataframe tbody tr th:only-of-type {\n",
       "        vertical-align: middle;\n",
       "    }\n",
       "\n",
       "    .dataframe tbody tr th {\n",
       "        vertical-align: top;\n",
       "    }\n",
       "\n",
       "    .dataframe thead th {\n",
       "        text-align: right;\n",
       "    }\n",
       "</style>\n",
       "<table border=\"1\" class=\"dataframe\">\n",
       "  <thead>\n",
       "    <tr style=\"text-align: right;\">\n",
       "      <th></th>\n",
       "      <th>id_level</th>\n",
       "      <th>id</th>\n",
       "      <th>has_content_level</th>\n",
       "      <th>description_level</th>\n",
       "      <th>level_level</th>\n",
       "      <th>title_level</th>\n",
       "      <th>language_level</th>\n",
       "    </tr>\n",
       "  </thead>\n",
       "  <tbody>\n",
       "    <tr>\n",
       "      <th>0</th>\n",
       "      <td>[t_10035396d740]</td>\n",
       "      <td>t_10035396d740</td>\n",
       "      <td>[True]</td>\n",
       "      <td>[]</td>\n",
       "      <td>[0]</td>\n",
       "      <td>[قناة كم كلمة لتمكين المعلّمين الناطقين باللغة...</td>\n",
       "      <td>[ar]</td>\n",
       "    </tr>\n",
       "    <tr>\n",
       "      <th>1</th>\n",
       "      <td>[t_30dd476279c8]</td>\n",
       "      <td>t_30dd476279c8</td>\n",
       "      <td>[True]</td>\n",
       "      <td>[]</td>\n",
       "      <td>[0]</td>\n",
       "      <td>[Medicine]</td>\n",
       "      <td>[en]</td>\n",
       "    </tr>\n",
       "    <tr>\n",
       "      <th>2</th>\n",
       "      <td>[t_3efcae0132f0]</td>\n",
       "      <td>t_3efcae0132f0</td>\n",
       "      <td>[True]</td>\n",
       "      <td>[]</td>\n",
       "      <td>[0]</td>\n",
       "      <td>[وزارة التربية والتعليم الأردنية]</td>\n",
       "      <td>[ar]</td>\n",
       "    </tr>\n",
       "    <tr>\n",
       "      <th>3</th>\n",
       "      <td>[t_470986f56fbe]</td>\n",
       "      <td>t_470986f56fbe</td>\n",
       "      <td>[True]</td>\n",
       "      <td>[]</td>\n",
       "      <td>[0]</td>\n",
       "      <td>[Khan Academy - Standardized Test Preparation]</td>\n",
       "      <td>[en]</td>\n",
       "    </tr>\n",
       "    <tr>\n",
       "      <th>4</th>\n",
       "      <td>[t_72d1321023d9]</td>\n",
       "      <td>t_72d1321023d9</td>\n",
       "      <td>[True]</td>\n",
       "      <td>[]</td>\n",
       "      <td>[0]</td>\n",
       "      <td>[Matemáticas Quinto Grado (Guatemala)]</td>\n",
       "      <td>[es]</td>\n",
       "    </tr>\n",
       "    <tr>\n",
       "      <th>...</th>\n",
       "      <td>...</td>\n",
       "      <td>...</td>\n",
       "      <td>...</td>\n",
       "      <td>...</td>\n",
       "      <td>...</td>\n",
       "      <td>...</td>\n",
       "      <td>...</td>\n",
       "    </tr>\n",
       "    <tr>\n",
       "      <th>61512</th>\n",
       "      <td>[t_44623019938d, t_0d57669638bd, t_4cc29e19e15...</td>\n",
       "      <td>t_ed58066fa353</td>\n",
       "      <td>[False, False, True, False, True, True, True, ...</td>\n",
       "      <td>[, , , , , , , , , ]</td>\n",
       "      <td>[0, 1, 2, 3, 4, 5, 6, 7, 8, 9]</td>\n",
       "      <td>[Ganar - Habilidades para el Trabajo, Laborato...</td>\n",
       "      <td>[es, es, es, es, es, es, es, es, es, es]</td>\n",
       "    </tr>\n",
       "    <tr>\n",
       "      <th>61513</th>\n",
       "      <td>[t_44623019938d, t_0d57669638bd, t_4cc29e19e15...</td>\n",
       "      <td>t_d7e92d224506</td>\n",
       "      <td>[False, False, True, False, True, True, True, ...</td>\n",
       "      <td>[, , , , , , , , , ]</td>\n",
       "      <td>[0, 1, 2, 3, 4, 5, 6, 7, 8, 9]</td>\n",
       "      <td>[Ganar - Habilidades para el Trabajo, Laborato...</td>\n",
       "      <td>[es, es, es, es, es, es, es, es, es, es]</td>\n",
       "    </tr>\n",
       "    <tr>\n",
       "      <th>61514</th>\n",
       "      <td>[t_44623019938d, t_0d57669638bd, t_4cc29e19e15...</td>\n",
       "      <td>t_f60d6940436e</td>\n",
       "      <td>[False, False, True, False, True, False, True,...</td>\n",
       "      <td>[, , , , , , , , , ]</td>\n",
       "      <td>[0, 1, 2, 3, 4, 5, 6, 7, 8, 9]</td>\n",
       "      <td>[Ganar - Habilidades para el Trabajo, Laborato...</td>\n",
       "      <td>[es, es, es, es, es, es, es, es, es, es]</td>\n",
       "    </tr>\n",
       "    <tr>\n",
       "      <th>61515</th>\n",
       "      <td>[t_44623019938d, t_0d57669638bd, t_4cc29e19e15...</td>\n",
       "      <td>t_2cb874d9bfed</td>\n",
       "      <td>[False, False, True, False, True, True, True, ...</td>\n",
       "      <td>[, , , , , , , , , , ]</td>\n",
       "      <td>[0, 1, 2, 3, 4, 5, 6, 7, 8, 9, 10]</td>\n",
       "      <td>[Ganar - Habilidades para el Trabajo, Laborato...</td>\n",
       "      <td>[es, es, es, es, es, es, es, es, es, es, es]</td>\n",
       "    </tr>\n",
       "    <tr>\n",
       "      <th>61516</th>\n",
       "      <td>[t_44623019938d, t_0d57669638bd, t_4cc29e19e15...</td>\n",
       "      <td>t_b245cd8697dd</td>\n",
       "      <td>[False, False, True, False, True, True, True, ...</td>\n",
       "      <td>[, , , , , , , , , , ]</td>\n",
       "      <td>[0, 1, 2, 3, 4, 5, 6, 7, 8, 9, 10]</td>\n",
       "      <td>[Ganar - Habilidades para el Trabajo, Laborato...</td>\n",
       "      <td>[es, es, es, es, es, es, es, es, es, es, es]</td>\n",
       "    </tr>\n",
       "  </tbody>\n",
       "</table>\n",
       "<p>61517 rows × 7 columns</p>\n",
       "</div>"
      ],
      "text/plain": [
       "                                                id_level              id  \\\n",
       "0                                       [t_10035396d740]  t_10035396d740   \n",
       "1                                       [t_30dd476279c8]  t_30dd476279c8   \n",
       "2                                       [t_3efcae0132f0]  t_3efcae0132f0   \n",
       "3                                       [t_470986f56fbe]  t_470986f56fbe   \n",
       "4                                       [t_72d1321023d9]  t_72d1321023d9   \n",
       "...                                                  ...             ...   \n",
       "61512  [t_44623019938d, t_0d57669638bd, t_4cc29e19e15...  t_ed58066fa353   \n",
       "61513  [t_44623019938d, t_0d57669638bd, t_4cc29e19e15...  t_d7e92d224506   \n",
       "61514  [t_44623019938d, t_0d57669638bd, t_4cc29e19e15...  t_f60d6940436e   \n",
       "61515  [t_44623019938d, t_0d57669638bd, t_4cc29e19e15...  t_2cb874d9bfed   \n",
       "61516  [t_44623019938d, t_0d57669638bd, t_4cc29e19e15...  t_b245cd8697dd   \n",
       "\n",
       "                                       has_content_level  \\\n",
       "0                                                 [True]   \n",
       "1                                                 [True]   \n",
       "2                                                 [True]   \n",
       "3                                                 [True]   \n",
       "4                                                 [True]   \n",
       "...                                                  ...   \n",
       "61512  [False, False, True, False, True, True, True, ...   \n",
       "61513  [False, False, True, False, True, True, True, ...   \n",
       "61514  [False, False, True, False, True, False, True,...   \n",
       "61515  [False, False, True, False, True, True, True, ...   \n",
       "61516  [False, False, True, False, True, True, True, ...   \n",
       "\n",
       "            description_level                         level_level  \\\n",
       "0                          []                                 [0]   \n",
       "1                          []                                 [0]   \n",
       "2                          []                                 [0]   \n",
       "3                          []                                 [0]   \n",
       "4                          []                                 [0]   \n",
       "...                       ...                                 ...   \n",
       "61512    [, , , , , , , , , ]      [0, 1, 2, 3, 4, 5, 6, 7, 8, 9]   \n",
       "61513    [, , , , , , , , , ]      [0, 1, 2, 3, 4, 5, 6, 7, 8, 9]   \n",
       "61514    [, , , , , , , , , ]      [0, 1, 2, 3, 4, 5, 6, 7, 8, 9]   \n",
       "61515  [, , , , , , , , , , ]  [0, 1, 2, 3, 4, 5, 6, 7, 8, 9, 10]   \n",
       "61516  [, , , , , , , , , , ]  [0, 1, 2, 3, 4, 5, 6, 7, 8, 9, 10]   \n",
       "\n",
       "                                             title_level  \\\n",
       "0      [قناة كم كلمة لتمكين المعلّمين الناطقين باللغة...   \n",
       "1                                             [Medicine]   \n",
       "2                      [وزارة التربية والتعليم الأردنية]   \n",
       "3         [Khan Academy - Standardized Test Preparation]   \n",
       "4                 [Matemáticas Quinto Grado (Guatemala)]   \n",
       "...                                                  ...   \n",
       "61512  [Ganar - Habilidades para el Trabajo, Laborato...   \n",
       "61513  [Ganar - Habilidades para el Trabajo, Laborato...   \n",
       "61514  [Ganar - Habilidades para el Trabajo, Laborato...   \n",
       "61515  [Ganar - Habilidades para el Trabajo, Laborato...   \n",
       "61516  [Ganar - Habilidades para el Trabajo, Laborato...   \n",
       "\n",
       "                                     language_level  \n",
       "0                                              [ar]  \n",
       "1                                              [en]  \n",
       "2                                              [ar]  \n",
       "3                                              [en]  \n",
       "4                                              [es]  \n",
       "...                                             ...  \n",
       "61512      [es, es, es, es, es, es, es, es, es, es]  \n",
       "61513      [es, es, es, es, es, es, es, es, es, es]  \n",
       "61514      [es, es, es, es, es, es, es, es, es, es]  \n",
       "61515  [es, es, es, es, es, es, es, es, es, es, es]  \n",
       "61516  [es, es, es, es, es, es, es, es, es, es, es]  \n",
       "\n",
       "[61517 rows x 7 columns]"
      ]
     },
     "execution_count": 17,
     "metadata": {},
     "output_type": "execute_result"
    }
   ],
   "source": [
    "%%time\n",
    "level_cols = ['id', 'title', 'description', 'level', 'language', 'has_content']\n",
    "df_level = get_level_features(df_topic.fillna(''), level_cols)\n",
    "df_level"
   ]
  },
  {
   "cell_type": "markdown",
   "id": "195fa785",
   "metadata": {
    "papermill": {
     "duration": 0.009231,
     "end_time": "2023-02-10T04:07:17.449752",
     "exception": false,
     "start_time": "2023-02-10T04:07:17.440521",
     "status": "completed"
    },
    "tags": []
   },
   "source": [
    "## Match by Language\n",
    "超过99%的correlations为同一语种，可以通过匹配language缩小retrieval candidates"
   ]
  },
  {
   "cell_type": "code",
   "execution_count": 18,
   "id": "7b7ee151",
   "metadata": {
    "execution": {
     "iopub.execute_input": "2023-02-10T04:07:17.472132Z",
     "iopub.status.busy": "2023-02-10T04:07:17.471687Z",
     "iopub.status.idle": "2023-02-10T04:07:17.479960Z",
     "shell.execute_reply": "2023-02-10T04:07:17.478916Z"
    },
    "papermill": {
     "duration": 0.02275,
     "end_time": "2023-02-10T04:07:17.482069",
     "exception": false,
     "start_time": "2023-02-10T04:07:17.459319",
     "status": "completed"
    },
    "tags": []
   },
   "outputs": [],
   "source": [
    "def prepare_language_match(cfg, mode='train'):\n",
    "    topic = pd.read_csv(cfg.topic_dir)[['id', 'language']]\n",
    "    content = pd.read_csv(cfg.content_dir)[['id', 'language']]\n",
    "    if mode == 'train':\n",
    "        corr = pd.read_csv(cfg.correlation_dir)\n",
    "    elif mode == 'valid':\n",
    "        corr = pd.read_csv(cfg.submission_dir)\n",
    "    topic = topic.merge(corr, left_on='id', right_on='topic_id')[['id', 'language']]\n",
    "    match_dict = {}\n",
    "    for language in topic['language'].unique():\n",
    "        match_dict[language] = (topic.query('language==@language')[['id']], content.query('language==@language')[['id']])\n",
    "    return match_dict"
   ]
  },
  {
   "cell_type": "code",
   "execution_count": 19,
   "id": "5296335a",
   "metadata": {
    "execution": {
     "iopub.execute_input": "2023-02-10T04:07:17.503998Z",
     "iopub.status.busy": "2023-02-10T04:07:17.503563Z",
     "iopub.status.idle": "2023-02-10T04:07:28.647791Z",
     "shell.execute_reply": "2023-02-10T04:07:28.646880Z"
    },
    "papermill": {
     "duration": 11.158409,
     "end_time": "2023-02-10T04:07:28.650556",
     "exception": false,
     "start_time": "2023-02-10T04:07:17.492147",
     "status": "completed"
    },
    "tags": []
   },
   "outputs": [
    {
     "name": "stdout",
     "output_type": "stream",
     "text": [
      "CPU times: user 10.7 s, sys: 490 ms, total: 11.1 s\n",
      "Wall time: 11.1 s\n"
     ]
    }
   ],
   "source": [
    "%%time\n",
    "topic_content_match = prepare_language_match(CFG)"
   ]
  },
  {
   "cell_type": "code",
   "execution_count": 20,
   "id": "2ce8dbd7",
   "metadata": {
    "execution": {
     "iopub.execute_input": "2023-02-10T04:07:28.671800Z",
     "iopub.status.busy": "2023-02-10T04:07:28.671319Z",
     "iopub.status.idle": "2023-02-10T04:07:28.676872Z",
     "shell.execute_reply": "2023-02-10T04:07:28.675774Z"
    },
    "papermill": {
     "duration": 0.018573,
     "end_time": "2023-02-10T04:07:28.678866",
     "exception": false,
     "start_time": "2023-02-10T04:07:28.660293",
     "status": "completed"
    },
    "tags": []
   },
   "outputs": [],
   "source": [
    "topic, content = topic_content_match['en']"
   ]
  },
  {
   "cell_type": "code",
   "execution_count": 21,
   "id": "c1a94ebf",
   "metadata": {
    "execution": {
     "iopub.execute_input": "2023-02-10T04:07:28.699968Z",
     "iopub.status.busy": "2023-02-10T04:07:28.699446Z",
     "iopub.status.idle": "2023-02-10T04:07:28.716840Z",
     "shell.execute_reply": "2023-02-10T04:07:28.715266Z"
    },
    "papermill": {
     "duration": 0.031566,
     "end_time": "2023-02-10T04:07:28.719925",
     "exception": false,
     "start_time": "2023-02-10T04:07:28.688359",
     "status": "completed"
    },
    "tags": []
   },
   "outputs": [
    {
     "data": {
      "text/html": [
       "<div>\n",
       "<style scoped>\n",
       "    .dataframe tbody tr th:only-of-type {\n",
       "        vertical-align: middle;\n",
       "    }\n",
       "\n",
       "    .dataframe tbody tr th {\n",
       "        vertical-align: top;\n",
       "    }\n",
       "\n",
       "    .dataframe thead th {\n",
       "        text-align: right;\n",
       "    }\n",
       "</style>\n",
       "<table border=\"1\" class=\"dataframe\">\n",
       "  <thead>\n",
       "    <tr style=\"text-align: right;\">\n",
       "      <th></th>\n",
       "      <th>id</th>\n",
       "    </tr>\n",
       "  </thead>\n",
       "  <tbody>\n",
       "    <tr>\n",
       "      <th>2</th>\n",
       "      <td>t_00069b63a70a</td>\n",
       "    </tr>\n",
       "    <tr>\n",
       "      <th>5</th>\n",
       "      <td>t_0008a1bd84ba</td>\n",
       "    </tr>\n",
       "    <tr>\n",
       "      <th>6</th>\n",
       "      <td>t_000d1fb3f2f5</td>\n",
       "    </tr>\n",
       "    <tr>\n",
       "      <th>8</th>\n",
       "      <td>t_00102869fbcb</td>\n",
       "    </tr>\n",
       "    <tr>\n",
       "      <th>10</th>\n",
       "      <td>t_0012a45fa09c</td>\n",
       "    </tr>\n",
       "    <tr>\n",
       "      <th>...</th>\n",
       "      <td>...</td>\n",
       "    </tr>\n",
       "    <tr>\n",
       "      <th>61504</th>\n",
       "      <td>t_fff05585df72</td>\n",
       "    </tr>\n",
       "    <tr>\n",
       "      <th>61507</th>\n",
       "      <td>t_fff51448598c</td>\n",
       "    </tr>\n",
       "    <tr>\n",
       "      <th>61509</th>\n",
       "      <td>t_fff5da49c4d3</td>\n",
       "    </tr>\n",
       "    <tr>\n",
       "      <th>61510</th>\n",
       "      <td>t_fff7782561f4</td>\n",
       "    </tr>\n",
       "    <tr>\n",
       "      <th>61512</th>\n",
       "      <td>t_fff830472691</td>\n",
       "    </tr>\n",
       "  </tbody>\n",
       "</table>\n",
       "<p>28053 rows × 1 columns</p>\n",
       "</div>"
      ],
      "text/plain": [
       "                   id\n",
       "2      t_00069b63a70a\n",
       "5      t_0008a1bd84ba\n",
       "6      t_000d1fb3f2f5\n",
       "8      t_00102869fbcb\n",
       "10     t_0012a45fa09c\n",
       "...               ...\n",
       "61504  t_fff05585df72\n",
       "61507  t_fff51448598c\n",
       "61509  t_fff5da49c4d3\n",
       "61510  t_fff7782561f4\n",
       "61512  t_fff830472691\n",
       "\n",
       "[28053 rows x 1 columns]"
      ]
     },
     "execution_count": 21,
     "metadata": {},
     "output_type": "execute_result"
    }
   ],
   "source": [
    "topic"
   ]
  },
  {
   "cell_type": "code",
   "execution_count": 22,
   "id": "c2824fef",
   "metadata": {
    "execution": {
     "iopub.execute_input": "2023-02-10T04:07:28.741747Z",
     "iopub.status.busy": "2023-02-10T04:07:28.741276Z",
     "iopub.status.idle": "2023-02-10T04:07:28.753805Z",
     "shell.execute_reply": "2023-02-10T04:07:28.752757Z"
    },
    "papermill": {
     "duration": 0.026515,
     "end_time": "2023-02-10T04:07:28.756655",
     "exception": false,
     "start_time": "2023-02-10T04:07:28.730140",
     "status": "completed"
    },
    "tags": []
   },
   "outputs": [
    {
     "data": {
      "text/html": [
       "<div>\n",
       "<style scoped>\n",
       "    .dataframe tbody tr th:only-of-type {\n",
       "        vertical-align: middle;\n",
       "    }\n",
       "\n",
       "    .dataframe tbody tr th {\n",
       "        vertical-align: top;\n",
       "    }\n",
       "\n",
       "    .dataframe thead th {\n",
       "        text-align: right;\n",
       "    }\n",
       "</style>\n",
       "<table border=\"1\" class=\"dataframe\">\n",
       "  <thead>\n",
       "    <tr style=\"text-align: right;\">\n",
       "      <th></th>\n",
       "      <th>id</th>\n",
       "    </tr>\n",
       "  </thead>\n",
       "  <tbody>\n",
       "    <tr>\n",
       "      <th>5</th>\n",
       "      <td>c_00019840d110</td>\n",
       "    </tr>\n",
       "    <tr>\n",
       "      <th>8</th>\n",
       "      <td>c_00027d03ca7d</td>\n",
       "    </tr>\n",
       "    <tr>\n",
       "      <th>10</th>\n",
       "      <td>c_000425df0161</td>\n",
       "    </tr>\n",
       "    <tr>\n",
       "      <th>11</th>\n",
       "      <td>c_00046806ad8a</td>\n",
       "    </tr>\n",
       "    <tr>\n",
       "      <th>18</th>\n",
       "      <td>c_000751f58836</td>\n",
       "    </tr>\n",
       "    <tr>\n",
       "      <th>...</th>\n",
       "      <td>...</td>\n",
       "    </tr>\n",
       "    <tr>\n",
       "      <th>154035</th>\n",
       "      <td>c_fffa90b024e3</td>\n",
       "    </tr>\n",
       "    <tr>\n",
       "      <th>154041</th>\n",
       "      <td>c_fffbfc3d60c6</td>\n",
       "    </tr>\n",
       "    <tr>\n",
       "      <th>154042</th>\n",
       "      <td>c_fffcbdd4de8b</td>\n",
       "    </tr>\n",
       "    <tr>\n",
       "      <th>154045</th>\n",
       "      <td>c_ffff04ba7ac7</td>\n",
       "    </tr>\n",
       "    <tr>\n",
       "      <th>154046</th>\n",
       "      <td>c_ffffe5254266</td>\n",
       "    </tr>\n",
       "  </tbody>\n",
       "</table>\n",
       "<p>65939 rows × 1 columns</p>\n",
       "</div>"
      ],
      "text/plain": [
       "                    id\n",
       "5       c_00019840d110\n",
       "8       c_00027d03ca7d\n",
       "10      c_000425df0161\n",
       "11      c_00046806ad8a\n",
       "18      c_000751f58836\n",
       "...                ...\n",
       "154035  c_fffa90b024e3\n",
       "154041  c_fffbfc3d60c6\n",
       "154042  c_fffcbdd4de8b\n",
       "154045  c_ffff04ba7ac7\n",
       "154046  c_ffffe5254266\n",
       "\n",
       "[65939 rows x 1 columns]"
      ]
     },
     "execution_count": 22,
     "metadata": {},
     "output_type": "execute_result"
    }
   ],
   "source": [
    "content"
   ]
  },
  {
   "cell_type": "markdown",
   "id": "3750c94b",
   "metadata": {
    "papermill": {
     "duration": 0.009431,
     "end_time": "2023-02-10T04:07:28.776414",
     "exception": false,
     "start_time": "2023-02-10T04:07:28.766983",
     "status": "completed"
    },
    "tags": []
   },
   "source": [
    "## TODOs"
   ]
  },
  {
   "cell_type": "markdown",
   "id": "c8a95bf0",
   "metadata": {
    "papermill": {
     "duration": 0.009315,
     "end_time": "2023-02-10T04:07:28.795552",
     "exception": false,
     "start_time": "2023-02-10T04:07:28.786237",
     "status": "completed"
    },
    "tags": []
   },
   "source": [
    "### F2\n",
    "\n",
    "$$\n",
    "F2 = \\frac{5\\cdot{}precision\\cdot{}recall}{4\\cdot{}precision+recall}\n",
    "$$"
   ]
  },
  {
   "cell_type": "code",
   "execution_count": null,
   "id": "b07bad3d",
   "metadata": {
    "papermill": {
     "duration": 0.009247,
     "end_time": "2023-02-10T04:07:28.814600",
     "exception": false,
     "start_time": "2023-02-10T04:07:28.805353",
     "status": "completed"
    },
    "tags": []
   },
   "outputs": [],
   "source": []
  },
  {
   "cell_type": "markdown",
   "id": "d4331ea8",
   "metadata": {
    "papermill": {
     "duration": 0.009381,
     "end_time": "2023-02-10T04:07:28.833846",
     "exception": false,
     "start_time": "2023-02-10T04:07:28.824465",
     "status": "completed"
    },
    "tags": []
   },
   "source": [
    "### Recall@N"
   ]
  },
  {
   "cell_type": "code",
   "execution_count": null,
   "id": "1b83f56a",
   "metadata": {
    "papermill": {
     "duration": 0.009337,
     "end_time": "2023-02-10T04:07:28.853100",
     "exception": false,
     "start_time": "2023-02-10T04:07:28.843763",
     "status": "completed"
    },
    "tags": []
   },
   "outputs": [],
   "source": []
  },
  {
   "cell_type": "code",
   "execution_count": null,
   "id": "bafeac75",
   "metadata": {
    "papermill": {
     "duration": 0.009699,
     "end_time": "2023-02-10T04:07:28.873608",
     "exception": false,
     "start_time": "2023-02-10T04:07:28.863909",
     "status": "completed"
    },
    "tags": []
   },
   "outputs": [],
   "source": []
  }
 ],
 "metadata": {
  "kernelspec": {
   "display_name": "Python 3",
   "language": "python",
   "name": "python3"
  },
  "language_info": {
   "codemirror_mode": {
    "name": "ipython",
    "version": 3
   },
   "file_extension": ".py",
   "mimetype": "text/x-python",
   "name": "python",
   "nbconvert_exporter": "python",
   "pygments_lexer": "ipython3",
   "version": "3.7.12"
  },
  "papermill": {
   "default_parameters": {},
   "duration": 125.726235,
   "end_time": "2023-02-10T04:07:30.312159",
   "environment_variables": {},
   "exception": null,
   "input_path": "__notebook__.ipynb",
   "output_path": "__notebook__.ipynb",
   "parameters": {},
   "start_time": "2023-02-10T04:05:24.585924",
   "version": "2.3.4"
  }
 },
 "nbformat": 4,
 "nbformat_minor": 5
}
