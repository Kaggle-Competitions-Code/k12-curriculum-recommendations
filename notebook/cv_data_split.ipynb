{
 "cells": [
  {
   "cell_type": "code",
   "execution_count": 1,
   "id": "12a9872d",
   "metadata": {},
   "outputs": [],
   "source": [
    "import os\n",
    "import time\n",
    "import datetime\n",
    "import shutil\n",
    "\n",
    "import pandas as pd\n",
    "import polars as pl\n",
    "import numpy as np\n",
    "from tqdm import tqdm"
   ]
  },
  {
   "cell_type": "markdown",
   "id": "52f9b242",
   "metadata": {},
   "source": [
    "# Setup"
   ]
  },
  {
   "cell_type": "code",
   "execution_count": 2,
   "id": "7accac13",
   "metadata": {},
   "outputs": [],
   "source": [
    "DATA_PATH = \"../data\"\n",
    "INPUT_DATA_PATH = os.path.join(DATA_PATH, \"input\")\n",
    "RAW_DATA_DIR = os.path.join(INPUT_DATA_PATH, \"raw\")\n",
    "\n",
    "CONTENT_PATH = os.path.join(RAW_DATA_DIR, \"content.csv\")\n",
    "TOPIC_PATH = os.path.join(RAW_DATA_DIR, \"topics.csv\")\n",
    "CORRELATIONS_PATH = os.path.join(RAW_DATA_DIR, \"correlations.csv\")\n",
    "\n",
    "FLOD = 5\n",
    "SEED_LIST = [42, 20, 91, 41, 44]\n",
    "\n",
    "KFLOD_DATA_DIRNAME = os.path.join(INPUT_DATA_PATH, \"kflod_data\")\n",
    "\n",
    "for i in range(FLOD):\n",
    "    os.makedirs(os.path.join(KFLOD_DATA_DIRNAME, f\"flod{i}\"), exist_ok=True)"
   ]
  },
  {
   "cell_type": "markdown",
   "id": "921d072e",
   "metadata": {},
   "source": [
    "# Build"
   ]
  },
  {
   "cell_type": "code",
   "execution_count": 3,
   "id": "3af39224",
   "metadata": {},
   "outputs": [
    {
     "name": "stdout",
     "output_type": "stream",
     "text": [
      "train data size: 144656, valid data size: 9391\n"
     ]
    }
   ],
   "source": [
    "TEST_ADDITIONAL_DATA_SIZE = 10000\n",
    "RAW_TRAIN_DATA_SIZE = 154047\n",
    "\n",
    "TRAIN_DATA_SIZE = RAW_TRAIN_DATA_SIZE*RAW_TRAIN_DATA_SIZE // (RAW_TRAIN_DATA_SIZE + TEST_ADDITIONAL_DATA_SIZE)\n",
    "VALID_DATA_SIZE = RAW_TRAIN_DATA_SIZE - TRAIN_DATA_SIZE\n",
    "\n",
    "print(f\"train data size: {TRAIN_DATA_SIZE}, valid data size: {VALID_DATA_SIZE}\")\n",
    "\n",
    "VALID_RATIO = 0.2"
   ]
  },
  {
   "cell_type": "code",
   "execution_count": 4,
   "id": "d6dabf06",
   "metadata": {},
   "outputs": [
    {
     "name": "stderr",
     "output_type": "stream",
     "text": [
      "100%|██████████████████████████████████████████████████████████████████████████████████████████████████████████████████████████████████████| 5/5 [01:31<00:00, 18.30s/it]"
     ]
    },
    {
     "name": "stdout",
     "output_type": "stream",
     "text": [
      "CPU times: user 1min 7s, sys: 12.6 s, total: 1min 20s\n",
      "Wall time: 1min 31s\n"
     ]
    },
    {
     "name": "stderr",
     "output_type": "stream",
     "text": [
      "\n"
     ]
    }
   ],
   "source": [
    "%%time\n",
    "\n",
    "def generate_flod_data(k):\n",
    "    # Content\n",
    "    df_content = pd.read_csv(CONTENT_PATH)\n",
    "    content_list = df_content[\"id\"].tolist()\n",
    "    np.random.seed(SEED_LIST[k])\n",
    "    train_content_list = np.random.choice(content_list, TRAIN_DATA_SIZE, replace=False)\n",
    "    df_train_content = df_content[df_content[\"id\"].isin(train_content_list)].reset_index(drop=True)\n",
    "    # df_valid_content = df_content[~df_content[\"id\"].isin(train_content_list)].reset_index(drop=True)\n",
    "    df_valid_content = df_content\n",
    "    df_train_content.to_parquet(os.path.join(KFLOD_DATA_DIRNAME, f\"flod{k}\", f\"train_content_flod{k}.pqt\"))\n",
    "    df_valid_content.to_parquet(os.path.join(KFLOD_DATA_DIRNAME, f\"flod{k}\", f\"valid_content_flod{k}.pqt\"))\n",
    "\n",
    "    # Topics\n",
    "    df_topics = pd.read_csv(TOPIC_PATH)\n",
    "    topic_list = df_topics[\"id\"].tolist()\n",
    "    np.random.seed(SEED_LIST[k])\n",
    "    train_topic_list = np.random.choice(topic_list, int(len(topic_list)*(1-VALID_RATIO)), replace=False)\n",
    "    df_train_topics = df_topics[df_topics[\"id\"].isin(train_topic_list)].reset_index(drop=True)\n",
    "    df_valid_topics = df_topics[~df_topics[\"id\"].isin(train_topic_list)].reset_index(drop=True)\n",
    "    df_train_topics.to_parquet(os.path.join(KFLOD_DATA_DIRNAME, f\"flod{k}\", f\"train_topics_flod{k}.pqt\"))\n",
    "    df_valid_topics.to_parquet(os.path.join(KFLOD_DATA_DIRNAME, f\"flod{k}\", f\"valid_topics_flod{k}.pqt\"))\n",
    "\n",
    "    # Correlations\n",
    "    df_correlations = pd.read_csv(CORRELATIONS_PATH)\n",
    "    df_correlations[\"content_ids_list\"] = df_correlations[\"content_ids\"].apply(lambda x: x.split())\n",
    "    df_correlations_exploded = df_correlations[[\"topic_id\", \"content_ids_list\"]].explode(\"content_ids_list\").rename({\"content_ids_list\": \"content_ids\"}, axis=1)\n",
    "    df_train_correlations = df_correlations_exploded[(df_correlations_exploded[\"topic_id\"].isin(train_topic_list))&(df_correlations_exploded[\"content_ids\"].isin(train_content_list))].reset_index(drop=True)\n",
    "    df_valid_correlations = df_correlations_exploded[~df_correlations_exploded[\"topic_id\"].isin(train_topic_list)].reset_index(drop=True)\n",
    "    df_train_correlations.to_parquet(os.path.join(KFLOD_DATA_DIRNAME, f\"flod{k}\", f\"train_correlations_flod{k}.pqt\"))\n",
    "    df_valid_correlations.to_parquet(os.path.join(KFLOD_DATA_DIRNAME, f\"flod{k}\", f\"valid_correlations_flod{k}.pqt\"))\n",
    "    \n",
    "    \n",
    "for k in tqdm(range(FLOD)):\n",
    "    generate_flod_data(k)"
   ]
  },
  {
   "cell_type": "code",
   "execution_count": null,
   "id": "78256815",
   "metadata": {},
   "outputs": [],
   "source": []
  },
  {
   "cell_type": "code",
   "execution_count": null,
   "id": "a52a31d9",
   "metadata": {},
   "outputs": [],
   "source": []
  },
  {
   "cell_type": "code",
   "execution_count": null,
   "id": "cfd65e23",
   "metadata": {},
   "outputs": [],
   "source": []
  },
  {
   "cell_type": "code",
   "execution_count": null,
   "id": "26314828",
   "metadata": {},
   "outputs": [],
   "source": []
  },
  {
   "cell_type": "code",
   "execution_count": null,
   "id": "edf7067e",
   "metadata": {},
   "outputs": [],
   "source": []
  },
  {
   "cell_type": "code",
   "execution_count": null,
   "id": "f6b818d3",
   "metadata": {},
   "outputs": [],
   "source": []
  },
  {
   "cell_type": "code",
   "execution_count": null,
   "id": "3978c085",
   "metadata": {},
   "outputs": [],
   "source": []
  },
  {
   "cell_type": "code",
   "execution_count": null,
   "id": "7568e5e7",
   "metadata": {},
   "outputs": [],
   "source": []
  },
  {
   "cell_type": "code",
   "execution_count": null,
   "id": "f95dcf1e",
   "metadata": {},
   "outputs": [],
   "source": []
  },
  {
   "cell_type": "code",
   "execution_count": null,
   "id": "bfd37f19",
   "metadata": {},
   "outputs": [],
   "source": []
  },
  {
   "cell_type": "code",
   "execution_count": null,
   "id": "a0fb673c",
   "metadata": {},
   "outputs": [],
   "source": []
  },
  {
   "cell_type": "code",
   "execution_count": null,
   "id": "3bd80a7f",
   "metadata": {},
   "outputs": [],
   "source": []
  },
  {
   "cell_type": "code",
   "execution_count": null,
   "id": "d2906c0b",
   "metadata": {},
   "outputs": [],
   "source": []
  },
  {
   "cell_type": "code",
   "execution_count": null,
   "id": "39ee198f",
   "metadata": {},
   "outputs": [],
   "source": []
  },
  {
   "cell_type": "code",
   "execution_count": null,
   "id": "01a9831a",
   "metadata": {},
   "outputs": [],
   "source": []
  },
  {
   "cell_type": "code",
   "execution_count": null,
   "id": "ced7877a",
   "metadata": {},
   "outputs": [],
   "source": []
  },
  {
   "cell_type": "code",
   "execution_count": null,
   "id": "98aa13d2",
   "metadata": {},
   "outputs": [],
   "source": []
  },
  {
   "cell_type": "code",
   "execution_count": null,
   "id": "a5e9667d",
   "metadata": {},
   "outputs": [],
   "source": []
  }
 ],
 "metadata": {
  "kernelspec": {
   "display_name": "Python 3 (ipykernel)",
   "language": "python",
   "name": "python3"
  },
  "language_info": {
   "codemirror_mode": {
    "name": "ipython",
    "version": 3
   },
   "file_extension": ".py",
   "mimetype": "text/x-python",
   "name": "python",
   "nbconvert_exporter": "python",
   "pygments_lexer": "ipython3",
   "version": "3.8.15"
  }
 },
 "nbformat": 4,
 "nbformat_minor": 5
}
