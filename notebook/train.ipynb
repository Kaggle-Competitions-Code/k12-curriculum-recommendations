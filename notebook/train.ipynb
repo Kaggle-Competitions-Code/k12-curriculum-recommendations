{
 "cells": [
  {
   "cell_type": "code",
   "execution_count": null,
   "id": "031de676",
   "metadata": {},
   "outputs": [],
   "source": [
    "import os\n",
    "import time\n",
    "import datetime\n",
    "import shutil\n",
    "import pathlib\n",
    "\n",
    "import pandas as pd\n",
    "import polars as pl\n",
    "import numpy as np\n",
    "from tqdm import tqdm\n",
    "from scipy.special import comb\n",
    "from sklearn.neighbors import NearestNeighbors"
   ]
  },
  {
   "cell_type": "markdown",
   "id": "1c8fd02f",
   "metadata": {},
   "source": [
    "# Setup"
   ]
  },
  {
   "cell_type": "code",
   "execution_count": null,
   "id": "563f9945",
   "metadata": {},
   "outputs": [],
   "source": [
    "DATA_PATH = \"../data\"\n",
    "OUTPUT_PATH = os.path.join(DATA_PATH, \"output\")\n",
    "INPUT_DATA_PATH = os.path.join(DATA_PATH, \"input\")\n",
    "RAW_DATA_DIR = os.path.join(INPUT_DATA_PATH, \"raw\")\n",
    "KFLOD_DATA_DIRNAME = os.path.join(INPUT_DATA_PATH, \"kflod_data\")\n",
    "FLOD0_PATH = os.path.join(KFLOD_DATA_DIRNAME, \"flod0\")\n",
    "\n",
    "CONTENT_PATH = os.path.join(RAW_DATA_DIR, \"content.csv\")\n",
    "TOPIC_PATH = os.path.join(RAW_DATA_DIR, \"topics.csv\")\n",
    "CORRELATIONS_PATH = os.path.join(RAW_DATA_DIR, \"correlations.csv\")\n",
    "\n",
    "TRAIN_CONTENT_PATH = os.path.join(FLOD0_PATH, \"train_content_flod0.pqt\")\n",
    "TRAIN_TOPIC_PATH = os.path.join(FLOD0_PATH, \"train_topics_flod0.pqt\")\n",
    "TRAIN_CORRELATIONS_PATH = os.path.join(FLOD0_PATH, \"train_correlations_flod0.pqt\")\n",
    "\n",
    "VALID_CONTENT_PATH = os.path.join(FLOD0_PATH, \"valid_content_flod0.pqt\")\n",
    "VALID_TOPIC_PATH = os.path.join(FLOD0_PATH, \"valid_topics_flod0.pqt\")\n",
    "VALID_CORRELATIONS_PATH = os.path.join(FLOD0_PATH, \"valid_correlations_flod0.pqt\")\n",
    "\n",
    "FLOD = 5\n",
    "SEED_LIST = [42, 20, 91, 41, 44]\n",
    "\n",
    "KFLOD_DATA_DIRNAME = os.path.join(INPUT_DATA_PATH, \"kflod_data\")"
   ]
  },
  {
   "cell_type": "markdown",
   "id": "c2631fc6",
   "metadata": {},
   "source": [
    "# Build Train Dataset"
   ]
  },
  {
   "cell_type": "code",
   "execution_count": null,
   "id": "6f1dded5",
   "metadata": {},
   "outputs": [],
   "source": [
    "df_train_content = pd.read_parquet(TRAIN_CONTENT_PATH)\n",
    "df_train_content[\"title\"] = df_train_content[\"title\"].apply(lambda x: x if x is not None else \"\")\n",
    "df_train_content[\"description\"] = df_train_content[\"description\"].apply(lambda x: x if x is not None else \"\")\n",
    "df_train_content[\"content_text\"] = df_train_content[\"title\"]+df_train_content[\"description\"]\n",
    "df_train_content"
   ]
  },
  {
   "cell_type": "code",
   "execution_count": null,
   "id": "577b2a47",
   "metadata": {},
   "outputs": [],
   "source": [
    "df_train_topic = pd.read_parquet(TRAIN_TOPIC_PATH)\n",
    "df_train_topic[\"title\"] = df_train_topic[\"title\"].apply(lambda x: x if x is not None else \"\")\n",
    "df_train_topic[\"description\"] = df_train_topic[\"description\"].apply(lambda x: x if x is not None else \"\")\n",
    "df_train_topic[\"topic_text\"] = df_train_topic[\"title\"]+df_train_topic[\"description\"]\n",
    "df_train_topic"
   ]
  },
  {
   "cell_type": "code",
   "execution_count": null,
   "id": "1769735a",
   "metadata": {},
   "outputs": [],
   "source": [
    "df_label = pd.read_parquet(TRAIN_CORRELATIONS_PATH)\n",
    "df_label = df_label.merge(df_train_topic[[\"id\", \"topic_text\"]], left_on=\"topic_id\", right_on=\"id\", how=\"inner\")\n",
    "df_label = df_label.merge(df_train_content[[\"id\", \"content_text\"]], left_on=\"content_ids\", right_on=\"id\", how=\"inner\")\n",
    "\n",
    "df_label[[\"topic_text\", \"content_text\"]].to_parquet(os.path.join(FLOD0_PATH, \"unsup_cl_data.parquet\"), index=False)\n",
    "df_label"
   ]
  },
  {
   "cell_type": "code",
   "execution_count": null,
   "id": "deb63247",
   "metadata": {},
   "outputs": [],
   "source": []
  },
  {
   "cell_type": "markdown",
   "id": "7df99cd6",
   "metadata": {},
   "source": [
    "# Build Valid Dataset"
   ]
  },
  {
   "cell_type": "code",
   "execution_count": null,
   "id": "0f42f925",
   "metadata": {},
   "outputs": [],
   "source": [
    "df_content = pd.read_csv(CONTENT_PATH)\n",
    "df_content[\"title\"] = df_content[\"title\"].apply(lambda x: x if x is not None else \"\")\n",
    "df_content[\"description\"] = df_content[\"description\"].apply(lambda x: x if x is not None else \"\")\n",
    "df_content[\"content_text\"] = df_content[\"title\"]+df_content[\"description\"]\n",
    "df_content = df_content[[\"id\", \"content_text\", \"language\"]].fillna(\"\")\n",
    "df_content"
   ]
  },
  {
   "cell_type": "code",
   "execution_count": null,
   "id": "63fba7b7",
   "metadata": {},
   "outputs": [],
   "source": [
    "df_valid_topics = pd.read_parquet(VALID_TOPIC_PATH)\n",
    "df_valid_topics[\"title\"] = df_valid_topics[\"title\"].apply(lambda x: x if x is not None else \"\")\n",
    "df_valid_topics[\"description\"] = df_valid_topics[\"description\"].apply(lambda x: x if x is not None else \"\")\n",
    "df_valid_topics[\"topics_text\"] = df_valid_topics[\"title\"]+df_valid_topics[\"description\"]\n",
    "df_valid_topics = df_valid_topics[[\"id\", \"topics_text\", \"language\"]].fillna(\"\")\n",
    "df_valid_topics"
   ]
  },
  {
   "cell_type": "code",
   "execution_count": null,
   "id": "713731b1",
   "metadata": {},
   "outputs": [],
   "source": [
    "df_valid_label = pd.read_parquet(VALID_CORRELATIONS_PATH)\n",
    "df_valid_label = df_valid_label.merge(df_valid_topics[[\"id\", \"language\"]].drop_duplicates(subset=[\"id\", \"language\"]), left_on=\"topic_id\", right_on=\"id\")[\n",
    "    [\"topic_id\", \"content_ids\", \"language\"]\n",
    "]\n",
    "df_valid_label"
   ]
  },
  {
   "cell_type": "code",
   "execution_count": null,
   "id": "f74f9da9",
   "metadata": {},
   "outputs": [],
   "source": [
    "df_valid_label"
   ]
  },
  {
   "cell_type": "code",
   "execution_count": null,
   "id": "a57ac5b4",
   "metadata": {},
   "outputs": [],
   "source": [
    "valid_language = df_valid_label[\"language\"].unique().tolist()\n",
    "with open(os.path.join(OUTPUT_PATH, \"valid\", \"language.txt\"), \"w\") as f:\n",
    "    f.write(\"\\n\".join(valid_language))\n",
    "\n",
    "for p in tqdm(valid_language):\n",
    "    path = os.path.join(OUTPUT_PATH, \"valid\", p)\n",
    "    pathlib.Path(path).mkdir(parents=True, exist_ok=True)\n",
    "    df_content[df_content[\"language\"]==p].to_parquet(os.path.join(path, f\"content_{p}.pqt\"))\n",
    "    df_valid_topics[df_valid_topics[\"language\"]==p].to_parquet(os.path.join(path, f\"topics_{p}.pqt\"))\n",
    "    df_valid_label[df_valid_label[\"language\"]==p].to_parquet(os.path.join(path, f\"correlations_{p}.pqt\"))"
   ]
  },
  {
   "cell_type": "markdown",
   "id": "e7fd5873",
   "metadata": {},
   "source": [
    "# Convert to embedding"
   ]
  },
  {
   "cell_type": "code",
   "execution_count": null,
   "id": "b22e98da",
   "metadata": {},
   "outputs": [],
   "source": [
    "with open(os.path.join(OUTPUT_PATH, \"valid\", \"language.txt\"), \"r\") as f:\n",
    "    valid_language = f.read().splitlines()\n",
    "\n",
    "for p in valid_language:\n",
    "    path = os.path.join(OUTPUT_PATH, \"valid\", p)"
   ]
  },
  {
   "cell_type": "code",
   "execution_count": null,
   "id": "64b188f0",
   "metadata": {},
   "outputs": [],
   "source": [
    "path = \"/home/search3/lichunyu/k12-curriculum-recommendations/data/output/valid/pt\""
   ]
  },
  {
   "cell_type": "code",
   "execution_count": null,
   "id": "caa3ede8",
   "metadata": {},
   "outputs": [],
   "source": [
    "array = np.load(os.path.join(path, \"content_pt.npy\"))\n",
    "array.shape"
   ]
  },
  {
   "cell_type": "code",
   "execution_count": null,
   "id": "5686a676",
   "metadata": {},
   "outputs": [],
   "source": [
    "model = NearestNeighbors(n_neighbors=50, metric=\"cosine\")\n",
    "model.fit(array)"
   ]
  },
  {
   "cell_type": "code",
   "execution_count": null,
   "id": "472219bb",
   "metadata": {},
   "outputs": [],
   "source": [
    "x = np.load(os.path.join(path, \"topics_pt.npy\"))\n",
    "x.shape"
   ]
  },
  {
   "cell_type": "code",
   "execution_count": null,
   "id": "acd8dae1",
   "metadata": {},
   "outputs": [],
   "source": [
    "z = model.kneighbors(x)"
   ]
  },
  {
   "cell_type": "code",
   "execution_count": null,
   "id": "0ee878fb",
   "metadata": {},
   "outputs": [],
   "source": [
    "content = pd.read_parquet(os.path.join(path, \"content_pt.pqt\"))\n",
    "content"
   ]
  },
  {
   "cell_type": "code",
   "execution_count": null,
   "id": "4f76cf7f",
   "metadata": {},
   "outputs": [],
   "source": [
    "content.iloc[0]"
   ]
  },
  {
   "cell_type": "code",
   "execution_count": null,
   "id": "6a7f6f9b",
   "metadata": {},
   "outputs": [],
   "source": [
    "label = pd.read_parquet(os.path.join(path, \"correlations_pt.pqt\"))\n",
    "label"
   ]
  },
  {
   "cell_type": "code",
   "execution_count": null,
   "id": "14c3aacd",
   "metadata": {},
   "outputs": [],
   "source": [
    "topics = pd.read_parquet(os.path.join(path, \"topics_pt.pqt\"))\n",
    "topics"
   ]
  },
  {
   "cell_type": "code",
   "execution_count": null,
   "id": "6dc9545c",
   "metadata": {},
   "outputs": [],
   "source": [
    "label[label[\"topic_id\"]==\"t_00068291e9a4\"]"
   ]
  },
  {
   "cell_type": "code",
   "execution_count": null,
   "id": "95d04076",
   "metadata": {},
   "outputs": [],
   "source": [
    "r = []\n",
    "for i in z[-1][0]:\n",
    "    r.append(content.iloc[i][\"id\"])\n",
    "    \n",
    "set(r).intersection(set(label[label[\"topic_id\"]==\"t_00068291e9a4\"][\"content_ids\"].unique().tolist()))"
   ]
  },
  {
   "cell_type": "code",
   "execution_count": null,
   "id": "94b68d53",
   "metadata": {},
   "outputs": [],
   "source": [
    "z[-1][0]"
   ]
  },
  {
   "cell_type": "code",
   "execution_count": null,
   "id": "93eebbcc",
   "metadata": {},
   "outputs": [],
   "source": []
  },
  {
   "cell_type": "code",
   "execution_count": null,
   "id": "f8bc450e",
   "metadata": {},
   "outputs": [],
   "source": []
  },
  {
   "cell_type": "code",
   "execution_count": null,
   "id": "0817e29e",
   "metadata": {},
   "outputs": [],
   "source": []
  },
  {
   "cell_type": "code",
   "execution_count": null,
   "id": "4c14d115",
   "metadata": {},
   "outputs": [],
   "source": []
  },
  {
   "cell_type": "code",
   "execution_count": null,
   "id": "476e99da",
   "metadata": {},
   "outputs": [],
   "source": []
  },
  {
   "cell_type": "code",
   "execution_count": null,
   "id": "e2e34030",
   "metadata": {},
   "outputs": [],
   "source": []
  },
  {
   "cell_type": "code",
   "execution_count": null,
   "id": "8b0eb79a",
   "metadata": {},
   "outputs": [],
   "source": []
  },
  {
   "cell_type": "code",
   "execution_count": null,
   "id": "7e193355",
   "metadata": {},
   "outputs": [],
   "source": []
  }
 ],
 "metadata": {
  "kernelspec": {
   "display_name": "Python 3 (ipykernel)",
   "language": "python",
   "name": "python3"
  },
  "language_info": {
   "codemirror_mode": {
    "name": "ipython",
    "version": 3
   },
   "file_extension": ".py",
   "mimetype": "text/x-python",
   "name": "python",
   "nbconvert_exporter": "python",
   "pygments_lexer": "ipython3",
   "version": "3.8.15"
  }
 },
 "nbformat": 4,
 "nbformat_minor": 5
}
