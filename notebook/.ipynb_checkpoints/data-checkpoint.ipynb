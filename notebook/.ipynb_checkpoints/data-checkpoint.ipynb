{
 "cells": [
  {
   "cell_type": "code",
   "execution_count": 9,
   "id": "880cc7c8-356c-4de2-8065-522025a5dd89",
   "metadata": {},
   "outputs": [],
   "source": [
    "import os\n",
    "from tqdm.auto import tqdm\n",
    "import pandas as pd\n",
    "\n",
    "from sklearn.model_selection import StratifiedGroupKFold, GroupKFold\n",
    "\n",
    "from transformers import AutoTokenizer, AutoModel"
   ]
  },
  {
   "cell_type": "code",
   "execution_count": 16,
   "id": "185ee25e-4955-4614-9506-0cc4c51d4443",
   "metadata": {},
   "outputs": [],
   "source": [
    "class PATH:\n",
    "    input_dir = '/root/autodl-nas/data/k12'\n",
    "    output_dir = '/root/autodl-nas/data/k12/out'\n",
    "    cv_dir = '/root/autodl-nas/data/k12/cv_data'\n",
    "    pretrained_dir = '/root/autodl-nas/model/'\n",
    "    content_dir = os.path.join(input_dir, 'content.csv')\n",
    "    correlation_dir = os.path.join(input_dir, 'correlations.csv')\n",
    "    submission_dir = os.path.join(input_dir, 'sample_submission.csv')\n",
    "    topic_dir = os.path.join(input_dir, 'topics.csv')\n",
    "    \n",
    "    \n",
    "class CFG:\n",
    "    seed = 11\n",
    "    n_fold = 3\n",
    "    model_name = 'sentence-transformers/all-MiniLM-L6-v2'"
   ]
  },
  {
   "cell_type": "markdown",
   "id": "9213a9d8-612d-4bbf-9fa1-0f76da2e7848",
   "metadata": {},
   "source": [
    "## Save Tokenizer"
   ]
  },
  {
   "cell_type": "code",
   "execution_count": 11,
   "id": "e92e45c4-5446-4a2f-83ac-dbc02e3296be",
   "metadata": {},
   "outputs": [],
   "source": [
    "special_tokens = [\n",
    "    '[TITLE]',\n",
    "    '[DESCRIPTION]',\n",
    "    '[video]',\n",
    "    '[document]',\n",
    "    '[html5]',\n",
    "    '[exercise]',\n",
    "    '[audio]',\n",
    "]"
   ]
  },
  {
   "cell_type": "code",
   "execution_count": 14,
   "id": "ae8f1f50-5146-415a-8a35-1af2e7bd9111",
   "metadata": {},
   "outputs": [
    {
     "data": {
      "text/plain": [
       "Embedding(30529, 384)"
      ]
     },
     "execution_count": 14,
     "metadata": {},
     "output_type": "execute_result"
    }
   ],
   "source": [
    "tokenizer = AutoTokenizer.from_pretrained(CFG.model_name, padding=True)\n",
    "tokenizer.add_special_tokens({'additional_special_tokens': special_tokens})\n",
    "model = AutoModel.from_pretrained(CFG.model_name)\n",
    "model.resize_token_embeddings(len(tokenizer))"
   ]
  },
  {
   "cell_type": "code",
   "execution_count": 15,
   "id": "c5172b16-c714-4ba7-aad4-d363648ed177",
   "metadata": {},
   "outputs": [
    {
     "data": {
      "text/plain": [
       "PreTrainedTokenizerFast(name_or_path='sentence-transformers/all-MiniLM-L6-v2', vocab_size=30522, model_max_len=512, is_fast=True, padding_side='right', truncation_side='right', special_tokens={'unk_token': '[UNK]', 'sep_token': '[SEP]', 'pad_token': '[PAD]', 'cls_token': '[CLS]', 'mask_token': '[MASK]', 'additional_special_tokens': ['[TITLE]', '[DESCRIPTION]', '[video]', '[document]', '[html5]', '[exercise]', '[audio]']})"
      ]
     },
     "execution_count": 15,
     "metadata": {},
     "output_type": "execute_result"
    }
   ],
   "source": [
    "tokenizer"
   ]
  },
  {
   "cell_type": "code",
   "execution_count": 20,
   "id": "46a624c3-40bb-4f43-ae06-5a684b78cded",
   "metadata": {},
   "outputs": [],
   "source": [
    "tokenizer.save_pretrained(f\"{PATH.pretrained_dir}/{CFG.model_name}_new/tokenizer\")\n",
    "model.save_pretrained(f\"{PATH.pretrained_dir}/{CFG.model_name}_new/model\")"
   ]
  },
  {
   "cell_type": "code",
   "execution_count": 19,
   "id": "2c2c5040-c993-4f59-9f36-5eebe362dfd3",
   "metadata": {},
   "outputs": [
    {
     "data": {
      "text/plain": [
       "'/root/kaggle/k12/notebook'"
      ]
     },
     "execution_count": 19,
     "metadata": {},
     "output_type": "execute_result"
    }
   ],
   "source": [
    "pwd"
   ]
  },
  {
   "cell_type": "markdown",
   "id": "a11fbcf2-2daa-4e06-811c-e7a4434eca2e",
   "metadata": {
    "tags": []
   },
   "source": [
    "## Process & Save topic & content"
   ]
  },
  {
   "cell_type": "code",
   "execution_count": 4,
   "id": "e319015e-d50a-49bd-b033-f30e5b5ae094",
   "metadata": {},
   "outputs": [],
   "source": [
    "def get_level_features(df_topic, level_cols=['title']):\n",
    "    df_hier = df_topic[set(level_cols + ['id', 'parent', 'level', 'has_content'])]\n",
    "    highest_level = df_hier['level'].max()\n",
    "    print(f'Highest Level: {highest_level}')\n",
    "    \n",
    "    df_level = df_hier.query('level == 0').copy(deep=True)\n",
    "    level_list = list()\n",
    "    for col in level_cols:\n",
    "        df_level[f'{col}_level'] = df_level[f'{col}'].apply(lambda x: [x])\n",
    "\n",
    "    for i in tqdm(range(highest_level + 1)):\n",
    "        level_list.append(df_level[df_level['has_content']])\n",
    "        df_level_high = df_hier.query('level == @i+1')\n",
    "        df_level = df_level_high.merge(df_level, left_on='parent', right_on='id', suffixes=['', '_parent'], how='inner')\n",
    "        for col in level_cols:\n",
    "            df_level[f'{col}_level'] = df_level[f'{col}_level'] + df_level[f'{col}'].apply(lambda x: [x])\n",
    "        for col in df_level.columns:\n",
    "            if col.endswith('_parent'):\n",
    "                df_level.drop(columns=col, inplace=True)\n",
    "    df = pd.concat(level_list).reset_index(drop=True)\n",
    "    return df[set(['id'] + [f'{col}_level' for col in level_cols])]"
   ]
  },
  {
   "cell_type": "code",
   "execution_count": 5,
   "id": "fda64a7a-33d8-4c16-81b7-62f95755f62e",
   "metadata": {},
   "outputs": [],
   "source": [
    "def get_topic_field(d):\n",
    "    title = list(filter(lambda x: pd.notna(x), d['title_level']))\n",
    "    title = ' of '.join(title[-1::-1])\n",
    "    title = 'No information' if title=='' else title\n",
    "    title = '[TITLE] ' + title + '. '\n",
    "    description = d['description'] if pd.notna(d['description']) else 'No information'\n",
    "    description = '[DESCRIPTION]' + description + '. '\n",
    "    field = title + description\n",
    "    return field\n",
    "\n",
    "def get_content_field(d):\n",
    "    title = d['title']\n",
    "    title = 'No information' if pd.isna(title) else title\n",
    "    title = '[TITLE] ' + title + '. '\n",
    "    description = d['description'] if pd.notna(d['description']) else 'No information'\n",
    "    description = '[DESCRIPTION]' + description + '. '\n",
    "    kind = '[' + d['kind'] + '] '\n",
    "    field = kind + title + description\n",
    "    return field"
   ]
  },
  {
   "cell_type": "code",
   "execution_count": 19,
   "id": "2310ebbb-9bac-4747-a4b6-23c459f2bb4f",
   "metadata": {},
   "outputs": [
    {
     "name": "stdout",
     "output_type": "stream",
     "text": [
      "Highest Level: 10\n"
     ]
    },
    {
     "name": "stderr",
     "output_type": "stream",
     "text": [
      "/tmp/ipykernel_2440/3693704036.py:2: FutureWarning: Passing a set as an indexer is deprecated and will raise in a future version. Use a list instead.\n",
      "  df_hier = df_topic[set(level_cols + ['id', 'parent', 'level', 'has_content'])]\n"
     ]
    },
    {
     "data": {
      "application/vnd.jupyter.widget-view+json": {
       "model_id": "aa7ec4ebfbe141b3848f221e2a838603",
       "version_major": 2,
       "version_minor": 0
      },
      "text/plain": [
       "  0%|          | 0/11 [00:00<?, ?it/s]"
      ]
     },
     "metadata": {},
     "output_type": "display_data"
    },
    {
     "name": "stderr",
     "output_type": "stream",
     "text": [
      "/tmp/ipykernel_2440/3693704036.py:21: FutureWarning: Passing a set as an indexer is deprecated and will raise in a future version. Use a list instead.\n",
      "  return df[set(['id'] + [f'{col}_level' for col in level_cols])]\n"
     ]
    },
    {
     "name": "stdout",
     "output_type": "stream",
     "text": [
      "CPU times: user 2.06 s, sys: 38.5 ms, total: 2.1 s\n",
      "Wall time: 2.09 s\n"
     ]
    },
    {
     "data": {
      "text/html": [
       "<div>\n",
       "<style scoped>\n",
       "    .dataframe tbody tr th:only-of-type {\n",
       "        vertical-align: middle;\n",
       "    }\n",
       "\n",
       "    .dataframe tbody tr th {\n",
       "        vertical-align: top;\n",
       "    }\n",
       "\n",
       "    .dataframe thead th {\n",
       "        text-align: right;\n",
       "    }\n",
       "</style>\n",
       "<table border=\"1\" class=\"dataframe\">\n",
       "  <thead>\n",
       "    <tr style=\"text-align: right;\">\n",
       "      <th></th>\n",
       "      <th>id</th>\n",
       "      <th>field</th>\n",
       "    </tr>\n",
       "  </thead>\n",
       "  <tbody>\n",
       "    <tr>\n",
       "      <th>0</th>\n",
       "      <td>t_00004da3a1b2</td>\n",
       "      <td>[TITLE] Откриването на резисторите of Открития...</td>\n",
       "    </tr>\n",
       "    <tr>\n",
       "      <th>1</th>\n",
       "      <td>t_00068291e9a4</td>\n",
       "      <td>[TITLE] Entradas e saídas de uma função of Álg...</td>\n",
       "    </tr>\n",
       "    <tr>\n",
       "      <th>2</th>\n",
       "      <td>t_00069b63a70a</td>\n",
       "      <td>[TITLE] Transcripts of Flow Charts: Logical Th...</td>\n",
       "    </tr>\n",
       "    <tr>\n",
       "      <th>3</th>\n",
       "      <td>t_0006d41a73a8</td>\n",
       "      <td>[TITLE] Графики на експоненциални функции (Алг...</td>\n",
       "    </tr>\n",
       "    <tr>\n",
       "      <th>4</th>\n",
       "      <td>t_0008768bdee6</td>\n",
       "      <td>[TITLE] 100 સુધીનો સરવાળો of 100 સુધીના સરવાળા...</td>\n",
       "    </tr>\n",
       "    <tr>\n",
       "      <th>...</th>\n",
       "      <td>...</td>\n",
       "      <td>...</td>\n",
       "    </tr>\n",
       "    <tr>\n",
       "      <th>61512</th>\n",
       "      <td>t_fff830472691</td>\n",
       "      <td>[TITLE] Scalar Projections of Vector Analysis ...</td>\n",
       "    </tr>\n",
       "    <tr>\n",
       "      <th>61513</th>\n",
       "      <td>t_fff9e5407d13</td>\n",
       "      <td>[TITLE] NA_U06 - El periódico of Lengua españo...</td>\n",
       "    </tr>\n",
       "    <tr>\n",
       "      <th>61514</th>\n",
       "      <td>t_fffbe1d5d43c</td>\n",
       "      <td>[TITLE] Inscribed shapes problem solving of Mi...</td>\n",
       "    </tr>\n",
       "    <tr>\n",
       "      <th>61515</th>\n",
       "      <td>t_fffe14f1be1e</td>\n",
       "      <td>[TITLE] Lección 7 of Unidad 4 of Español Activ...</td>\n",
       "    </tr>\n",
       "    <tr>\n",
       "      <th>61516</th>\n",
       "      <td>t_fffe811a6da9</td>\n",
       "      <td>[TITLE] تحديد العلاقة بين الإحداثيّات القطبية ...</td>\n",
       "    </tr>\n",
       "  </tbody>\n",
       "</table>\n",
       "<p>61517 rows × 2 columns</p>\n",
       "</div>"
      ],
      "text/plain": [
       "                   id                                              field\n",
       "0      t_00004da3a1b2  [TITLE] Откриването на резисторите of Открития...\n",
       "1      t_00068291e9a4  [TITLE] Entradas e saídas de uma função of Álg...\n",
       "2      t_00069b63a70a  [TITLE] Transcripts of Flow Charts: Logical Th...\n",
       "3      t_0006d41a73a8  [TITLE] Графики на експоненциални функции (Алг...\n",
       "4      t_0008768bdee6  [TITLE] 100 સુધીનો સરવાળો of 100 સુધીના સરવાળા...\n",
       "...               ...                                                ...\n",
       "61512  t_fff830472691  [TITLE] Scalar Projections of Vector Analysis ...\n",
       "61513  t_fff9e5407d13  [TITLE] NA_U06 - El periódico of Lengua españo...\n",
       "61514  t_fffbe1d5d43c  [TITLE] Inscribed shapes problem solving of Mi...\n",
       "61515  t_fffe14f1be1e  [TITLE] Lección 7 of Unidad 4 of Español Activ...\n",
       "61516  t_fffe811a6da9  [TITLE] تحديد العلاقة بين الإحداثيّات القطبية ...\n",
       "\n",
       "[61517 rows x 2 columns]"
      ]
     },
     "execution_count": 19,
     "metadata": {},
     "output_type": "execute_result"
    }
   ],
   "source": [
    "%%time\n",
    "level_cols = ['title']\n",
    "df_topic = pd.read_csv(PATH.topic_dir)\n",
    "df_level = get_level_features(df_topic, level_cols)\n",
    "df_topic = df_topic.merge(df_level, on='id', how='inner')\n",
    "df_topic['field'] = df_topic.apply(lambda x: get_topic_field(x), axis=1)\n",
    "df_topic = df_topic[['id', 'field']]\n",
    "df_topic"
   ]
  },
  {
   "cell_type": "code",
   "execution_count": 21,
   "id": "57e8c891-f30f-4025-93ff-389773806fb7",
   "metadata": {},
   "outputs": [
    {
     "data": {
      "text/html": [
       "<div>\n",
       "<style scoped>\n",
       "    .dataframe tbody tr th:only-of-type {\n",
       "        vertical-align: middle;\n",
       "    }\n",
       "\n",
       "    .dataframe tbody tr th {\n",
       "        vertical-align: top;\n",
       "    }\n",
       "\n",
       "    .dataframe thead th {\n",
       "        text-align: right;\n",
       "    }\n",
       "</style>\n",
       "<table border=\"1\" class=\"dataframe\">\n",
       "  <thead>\n",
       "    <tr style=\"text-align: right;\">\n",
       "      <th></th>\n",
       "      <th>id</th>\n",
       "      <th>field</th>\n",
       "    </tr>\n",
       "  </thead>\n",
       "  <tbody>\n",
       "    <tr>\n",
       "      <th>0</th>\n",
       "      <td>c_00002381196d</td>\n",
       "      <td>[video] [TITLE] Sumar números de varios dígito...</td>\n",
       "    </tr>\n",
       "    <tr>\n",
       "      <th>1</th>\n",
       "      <td>c_000087304a9e</td>\n",
       "      <td>[video] [TITLE] Trovare i fattori di un numero...</td>\n",
       "    </tr>\n",
       "    <tr>\n",
       "      <th>2</th>\n",
       "      <td>c_0000ad142ddb</td>\n",
       "      <td>[video] [TITLE] Sumar curvas de demanda. [DESC...</td>\n",
       "    </tr>\n",
       "    <tr>\n",
       "      <th>3</th>\n",
       "      <td>c_0000c03adc8d</td>\n",
       "      <td>[document] [TITLE] Nado de aproximação. [DESCR...</td>\n",
       "    </tr>\n",
       "    <tr>\n",
       "      <th>4</th>\n",
       "      <td>c_00016694ea2a</td>\n",
       "      <td>[document] [TITLE] geometry-m3-topic-a-overvie...</td>\n",
       "    </tr>\n",
       "    <tr>\n",
       "      <th>...</th>\n",
       "      <td>...</td>\n",
       "      <td>...</td>\n",
       "    </tr>\n",
       "    <tr>\n",
       "      <th>154042</th>\n",
       "      <td>c_fffcbdd4de8b</td>\n",
       "      <td>[html5] [TITLE] 2. 12: Diffusion. [DESCRIPTION...</td>\n",
       "    </tr>\n",
       "    <tr>\n",
       "      <th>154043</th>\n",
       "      <td>c_fffe15a2d069</td>\n",
       "      <td>[video] [TITLE] Sommare facendo gruppi da 10. ...</td>\n",
       "    </tr>\n",
       "    <tr>\n",
       "      <th>154044</th>\n",
       "      <td>c_fffed7b0d13a</td>\n",
       "      <td>[video] [TITLE] Introdução à subtração. [DESCR...</td>\n",
       "    </tr>\n",
       "    <tr>\n",
       "      <th>154045</th>\n",
       "      <td>c_ffff04ba7ac7</td>\n",
       "      <td>[video] [TITLE] SA of a Cone. [DESCRIPTION]No ...</td>\n",
       "    </tr>\n",
       "    <tr>\n",
       "      <th>154046</th>\n",
       "      <td>c_ffffe5254266</td>\n",
       "      <td>[video] [TITLE] The Jats. [DESCRIPTION]No info...</td>\n",
       "    </tr>\n",
       "  </tbody>\n",
       "</table>\n",
       "<p>154047 rows × 2 columns</p>\n",
       "</div>"
      ],
      "text/plain": [
       "                    id                                              field\n",
       "0       c_00002381196d  [video] [TITLE] Sumar números de varios dígito...\n",
       "1       c_000087304a9e  [video] [TITLE] Trovare i fattori di un numero...\n",
       "2       c_0000ad142ddb  [video] [TITLE] Sumar curvas de demanda. [DESC...\n",
       "3       c_0000c03adc8d  [document] [TITLE] Nado de aproximação. [DESCR...\n",
       "4       c_00016694ea2a  [document] [TITLE] geometry-m3-topic-a-overvie...\n",
       "...                ...                                                ...\n",
       "154042  c_fffcbdd4de8b  [html5] [TITLE] 2. 12: Diffusion. [DESCRIPTION...\n",
       "154043  c_fffe15a2d069  [video] [TITLE] Sommare facendo gruppi da 10. ...\n",
       "154044  c_fffed7b0d13a  [video] [TITLE] Introdução à subtração. [DESCR...\n",
       "154045  c_ffff04ba7ac7  [video] [TITLE] SA of a Cone. [DESCRIPTION]No ...\n",
       "154046  c_ffffe5254266  [video] [TITLE] The Jats. [DESCRIPTION]No info...\n",
       "\n",
       "[154047 rows x 2 columns]"
      ]
     },
     "execution_count": 21,
     "metadata": {},
     "output_type": "execute_result"
    }
   ],
   "source": [
    "df_content = pd.read_csv(PATH.content_dir)\n",
    "df_content['field'] = df_content.apply(lambda x: get_content_field(x), axis=1)\n",
    "df_content = df_content[['id', 'field']]\n",
    "df_content"
   ]
  },
  {
   "cell_type": "code",
   "execution_count": 23,
   "id": "95a3940b-572b-485a-b0e5-fee986460365",
   "metadata": {},
   "outputs": [],
   "source": [
    "df_content.to_parquet(os.path.join(PATH.output_dir, 'content_field.pqt'))\n",
    "df_topic.to_parquet(os.path.join(PATH.output_dir, 'topic_field.pqt'))"
   ]
  },
  {
   "cell_type": "markdown",
   "id": "3537f624-8114-4e1a-838b-f2698d2d00aa",
   "metadata": {
    "tags": []
   },
   "source": [
    "## Split and Save"
   ]
  },
  {
   "cell_type": "code",
   "execution_count": 74,
   "id": "831c65bd-29df-4270-9a2c-867ac78cbfd3",
   "metadata": {},
   "outputs": [],
   "source": [
    "def cv_split(df_train, cfg, labels=['id', 'channel', 'category', 'language', 'fold']):\n",
    "    df_train['fold'] = -1\n",
    "    df_candidates = df_train[df_train[\"category\"]!='source'].copy(deep=True).reset_index(drop=True)\n",
    "    cv = StratifiedGroupKFold(n_splits=cfg.n_fold, random_state=cfg.seed, shuffle=True)\n",
    "    for i, (train_index, test_index) in enumerate(cv.split(df_candidates, df_candidates['language'], df_candidates['id'],)):\n",
    "        df_candidates.loc[test_index, 'fold'] = i\n",
    "    df_source = df_train.query('category==\"source\"')\n",
    "    df_train = pd.concat([df_candidates, df_source]).reset_index(drop=True) \n",
    "    return df_train[labels]"
   ]
  },
  {
   "cell_type": "code",
   "execution_count": 86,
   "id": "e3bd3c9b-8232-4b5f-b076-14c570da0d51",
   "metadata": {},
   "outputs": [
    {
     "name": "stdout",
     "output_type": "stream",
     "text": [
      "CPU times: user 6.05 s, sys: 62.7 ms, total: 6.11 s\n",
      "Wall time: 6.11 s\n"
     ]
    }
   ],
   "source": [
    "%%time\n",
    "df_train = pd.read_csv(PATH.topic_dir).query('has_content').reset_index(drop=True)\n",
    "df_train = cv_split(df_train, CFG, ['id', 'fold'])"
   ]
  },
  {
   "cell_type": "code",
   "execution_count": 95,
   "id": "e265c69d-5d80-4347-9192-832478806ab4",
   "metadata": {},
   "outputs": [
    {
     "data": {
      "text/html": [
       "<div>\n",
       "<style scoped>\n",
       "    .dataframe tbody tr th:only-of-type {\n",
       "        vertical-align: middle;\n",
       "    }\n",
       "\n",
       "    .dataframe tbody tr th {\n",
       "        vertical-align: top;\n",
       "    }\n",
       "\n",
       "    .dataframe thead th {\n",
       "        text-align: right;\n",
       "    }\n",
       "</style>\n",
       "<table border=\"1\" class=\"dataframe\">\n",
       "  <thead>\n",
       "    <tr style=\"text-align: right;\">\n",
       "      <th></th>\n",
       "      <th>topic_id</th>\n",
       "      <th>content_ids</th>\n",
       "    </tr>\n",
       "  </thead>\n",
       "  <tbody>\n",
       "    <tr>\n",
       "      <th>0</th>\n",
       "      <td>t_0008a1bd84ba</td>\n",
       "      <td>c_7ff92a954a3d c_8790b074383e</td>\n",
       "    </tr>\n",
       "    <tr>\n",
       "      <th>1</th>\n",
       "      <td>t_000d1fb3f2f5</td>\n",
       "      <td>c_07f1d0eec4b2 c_15a6fb858696 c_175e9db3fc44 c...</td>\n",
       "    </tr>\n",
       "    <tr>\n",
       "      <th>2</th>\n",
       "      <td>t_0012a45fa09c</td>\n",
       "      <td>c_dde078b8ea7a</td>\n",
       "    </tr>\n",
       "    <tr>\n",
       "      <th>3</th>\n",
       "      <td>t_0016d30772f3</td>\n",
       "      <td>c_061d9f90bb06 c_242ddc729eec c_61b851222e17 c...</td>\n",
       "    </tr>\n",
       "    <tr>\n",
       "      <th>4</th>\n",
       "      <td>t_001bd01717d7</td>\n",
       "      <td>c_16f1cff519b3 c_289a31069ea7 c_6f0a3cf19895 c...</td>\n",
       "    </tr>\n",
       "    <tr>\n",
       "      <th>...</th>\n",
       "      <td>...</td>\n",
       "      <td>...</td>\n",
       "    </tr>\n",
       "    <tr>\n",
       "      <th>53177</th>\n",
       "      <td>t_fff5da49c4d3</td>\n",
       "      <td>c_4a0305f5876d c_cbceabf1d5d6</td>\n",
       "    </tr>\n",
       "    <tr>\n",
       "      <th>53178</th>\n",
       "      <td>t_fff7f2dd208b</td>\n",
       "      <td>c_036efdd9e8c1 c_112de3281469 c_15470abc39f4 c...</td>\n",
       "    </tr>\n",
       "    <tr>\n",
       "      <th>53179</th>\n",
       "      <td>t_fff830472691</td>\n",
       "      <td>c_61fb63326e5d c_8f224e321c87</td>\n",
       "    </tr>\n",
       "    <tr>\n",
       "      <th>53180</th>\n",
       "      <td>t_fffbe1d5d43c</td>\n",
       "      <td>c_46f852a49c08 c_6659207b25d5</td>\n",
       "    </tr>\n",
       "    <tr>\n",
       "      <th>53181</th>\n",
       "      <td>t_fffe811a6da9</td>\n",
       "      <td>c_92b8fad372ee</td>\n",
       "    </tr>\n",
       "  </tbody>\n",
       "</table>\n",
       "<p>53182 rows × 2 columns</p>\n",
       "</div>"
      ],
      "text/plain": [
       "             topic_id                                        content_ids\n",
       "0      t_0008a1bd84ba                      c_7ff92a954a3d c_8790b074383e\n",
       "1      t_000d1fb3f2f5  c_07f1d0eec4b2 c_15a6fb858696 c_175e9db3fc44 c...\n",
       "2      t_0012a45fa09c                                     c_dde078b8ea7a\n",
       "3      t_0016d30772f3  c_061d9f90bb06 c_242ddc729eec c_61b851222e17 c...\n",
       "4      t_001bd01717d7  c_16f1cff519b3 c_289a31069ea7 c_6f0a3cf19895 c...\n",
       "...               ...                                                ...\n",
       "53177  t_fff5da49c4d3                      c_4a0305f5876d c_cbceabf1d5d6\n",
       "53178  t_fff7f2dd208b  c_036efdd9e8c1 c_112de3281469 c_15470abc39f4 c...\n",
       "53179  t_fff830472691                      c_61fb63326e5d c_8f224e321c87\n",
       "53180  t_fffbe1d5d43c                      c_46f852a49c08 c_6659207b25d5\n",
       "53181  t_fffe811a6da9                                     c_92b8fad372ee\n",
       "\n",
       "[53182 rows x 2 columns]"
      ]
     },
     "execution_count": 95,
     "metadata": {},
     "output_type": "execute_result"
    }
   ],
   "source": [
    "fold=0\n",
    "df_train.query('fold!=@fold').merge(pd.read_csv(PATH.correlation_dir), left_on='id', right_on='topic_id')[['topic_id', 'content_ids']]"
   ]
  },
  {
   "cell_type": "code",
   "execution_count": 90,
   "id": "8e70e6d9-9c84-40e3-bf95-058ec8132e5b",
   "metadata": {},
   "outputs": [
    {
     "data": {
      "text/html": [
       "<div>\n",
       "<style scoped>\n",
       "    .dataframe tbody tr th:only-of-type {\n",
       "        vertical-align: middle;\n",
       "    }\n",
       "\n",
       "    .dataframe tbody tr th {\n",
       "        vertical-align: top;\n",
       "    }\n",
       "\n",
       "    .dataframe thead th {\n",
       "        text-align: right;\n",
       "    }\n",
       "</style>\n",
       "<table border=\"1\" class=\"dataframe\">\n",
       "  <thead>\n",
       "    <tr style=\"text-align: right;\">\n",
       "      <th></th>\n",
       "      <th>topic_id</th>\n",
       "      <th>content_ids</th>\n",
       "    </tr>\n",
       "  </thead>\n",
       "  <tbody>\n",
       "    <tr>\n",
       "      <th>0</th>\n",
       "      <td>t_00004da3a1b2</td>\n",
       "      <td>c_1108dd0c7a5d c_376c5a8eb028 c_5bc0e1e2cba0 c...</td>\n",
       "    </tr>\n",
       "    <tr>\n",
       "      <th>1</th>\n",
       "      <td>t_00068291e9a4</td>\n",
       "      <td>c_639ea2ef9c95 c_89ce9367be10 c_ac1672cdcd2c c...</td>\n",
       "    </tr>\n",
       "    <tr>\n",
       "      <th>2</th>\n",
       "      <td>t_00069b63a70a</td>\n",
       "      <td>c_11a1dc0bfb99</td>\n",
       "    </tr>\n",
       "    <tr>\n",
       "      <th>3</th>\n",
       "      <td>t_0006d41a73a8</td>\n",
       "      <td>c_0c6473c3480d c_1c57a1316568 c_5e375cf14c47 c...</td>\n",
       "    </tr>\n",
       "    <tr>\n",
       "      <th>4</th>\n",
       "      <td>t_0008768bdee6</td>\n",
       "      <td>c_34e1424229b4 c_7d1a964d66d5 c_aab93ee667f4</td>\n",
       "    </tr>\n",
       "    <tr>\n",
       "      <th>...</th>\n",
       "      <td>...</td>\n",
       "      <td>...</td>\n",
       "    </tr>\n",
       "    <tr>\n",
       "      <th>61512</th>\n",
       "      <td>t_fff830472691</td>\n",
       "      <td>c_61fb63326e5d c_8f224e321c87</td>\n",
       "    </tr>\n",
       "    <tr>\n",
       "      <th>61513</th>\n",
       "      <td>t_fff9e5407d13</td>\n",
       "      <td>c_026db653a269 c_0fb048a6412c c_20de77522603 c...</td>\n",
       "    </tr>\n",
       "    <tr>\n",
       "      <th>61514</th>\n",
       "      <td>t_fffbe1d5d43c</td>\n",
       "      <td>c_46f852a49c08 c_6659207b25d5</td>\n",
       "    </tr>\n",
       "    <tr>\n",
       "      <th>61515</th>\n",
       "      <td>t_fffe14f1be1e</td>\n",
       "      <td>c_cece166bad6a</td>\n",
       "    </tr>\n",
       "    <tr>\n",
       "      <th>61516</th>\n",
       "      <td>t_fffe811a6da9</td>\n",
       "      <td>c_92b8fad372ee</td>\n",
       "    </tr>\n",
       "  </tbody>\n",
       "</table>\n",
       "<p>61517 rows × 2 columns</p>\n",
       "</div>"
      ],
      "text/plain": [
       "             topic_id                                        content_ids\n",
       "0      t_00004da3a1b2  c_1108dd0c7a5d c_376c5a8eb028 c_5bc0e1e2cba0 c...\n",
       "1      t_00068291e9a4  c_639ea2ef9c95 c_89ce9367be10 c_ac1672cdcd2c c...\n",
       "2      t_00069b63a70a                                     c_11a1dc0bfb99\n",
       "3      t_0006d41a73a8  c_0c6473c3480d c_1c57a1316568 c_5e375cf14c47 c...\n",
       "4      t_0008768bdee6       c_34e1424229b4 c_7d1a964d66d5 c_aab93ee667f4\n",
       "...               ...                                                ...\n",
       "61512  t_fff830472691                      c_61fb63326e5d c_8f224e321c87\n",
       "61513  t_fff9e5407d13  c_026db653a269 c_0fb048a6412c c_20de77522603 c...\n",
       "61514  t_fffbe1d5d43c                      c_46f852a49c08 c_6659207b25d5\n",
       "61515  t_fffe14f1be1e                                     c_cece166bad6a\n",
       "61516  t_fffe811a6da9                                     c_92b8fad372ee\n",
       "\n",
       "[61517 rows x 2 columns]"
      ]
     },
     "execution_count": 90,
     "metadata": {},
     "output_type": "execute_result"
    }
   ],
   "source": [
    "pd.read_csv(PATH.correlation_dir)"
   ]
  },
  {
   "cell_type": "code",
   "execution_count": 98,
   "id": "6d1918a1-9c42-4483-bcb1-a0a45a04666f",
   "metadata": {},
   "outputs": [
    {
     "data": {
      "application/vnd.jupyter.widget-view+json": {
       "model_id": "7a82821c7f15438eb25a9a255bd4dd8b",
       "version_major": 2,
       "version_minor": 0
      },
      "text/plain": [
       "  0%|          | 0/3 [00:00<?, ?it/s]"
      ]
     },
     "metadata": {},
     "output_type": "display_data"
    },
    {
     "name": "stdout",
     "output_type": "stream",
     "text": [
      "CPU times: user 1min 3s, sys: 5.56 s, total: 1min 8s\n",
      "Wall time: 1min 8s\n"
     ]
    }
   ],
   "source": [
    "%%time\n",
    "df_content = pd.read_csv(PATH.content_dir)\n",
    "df_topic = pd.read_csv(PATH.topic_dir)\n",
    "for i in tqdm(range(CFG.n_fold)):\n",
    "    dir_name = os.path.join(PATH.cv_dir, f'fold_{i}')\n",
    "    if not os.path.exists(dir_name):\n",
    "        os.makedirs(dir_name)\n",
    "    train = df_train.query('fold!=@i')\n",
    "    test = df_train.query('fold==@i')\n",
    "    \n",
    "    correlations = train.merge(pd.read_csv(PATH.correlation_dir), left_on='id', right_on='topic_id')[['topic_id', 'content_ids']]\n",
    "    submission = test.merge(pd.read_csv(PATH.correlation_dir), left_on='id', right_on='topic_id')[['topic_id', 'content_ids']]\n",
    "    \n",
    "    df_topic.to_csv(os.path.join(dir_name, 'topics.csv'), index=False)\n",
    "    df_content.to_csv(os.path.join(dir_name, 'content.csv'), index=False)\n",
    "    correlations.to_csv(os.path.join(dir_name, 'correlations.csv'), index=False)\n",
    "    submission.to_csv(os.path.join(dir_name, 'sample_submission.csv'), index=False)"
   ]
  },
  {
   "cell_type": "code",
   "execution_count": null,
   "id": "6b5a137e-d200-4ad5-8ff2-4e3c8d2a9adc",
   "metadata": {},
   "outputs": [],
   "source": []
  }
 ],
 "metadata": {
  "kernelspec": {
   "display_name": "Python 3 (ipykernel)",
   "language": "python",
   "name": "python3"
  },
  "language_info": {
   "codemirror_mode": {
    "name": "ipython",
    "version": 3
   },
   "file_extension": ".py",
   "mimetype": "text/x-python",
   "name": "python",
   "nbconvert_exporter": "python",
   "pygments_lexer": "ipython3",
   "version": "3.8.10"
  }
 },
 "nbformat": 4,
 "nbformat_minor": 5
}
